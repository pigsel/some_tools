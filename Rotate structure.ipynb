{
 "cells": [
  {
   "cell_type": "markdown",
   "id": "b656963f",
   "metadata": {},
   "source": [
    "зная центр опоры, можно попробовать ее повернуть и перевести в свою систему координат с началом в цетре нижней траверсы"
   ]
  },
  {
   "cell_type": "code",
   "execution_count": 23,
   "id": "3b346fc5",
   "metadata": {},
   "outputs": [],
   "source": [
    "from pathlib import Path\n",
    "import geopandas as gpd\n",
    "import csv\n",
    "import numpy as np\n",
    "import matplotlib.pyplot as plt\n",
    "from shapely.geometry import Point, MultiPoint, Polygon, LineString"
   ]
  },
  {
   "cell_type": "code",
   "execution_count": 6,
   "id": "3f5af49a",
   "metadata": {},
   "outputs": [],
   "source": [
    "#p = Path(r'/home/igor/Documents/some_tools/structure_samples/xyz')   # for linux\n",
    "p = Path(r'D:\\python\\some_tools\\structure_samples\\xyz')"
   ]
  },
  {
   "cell_type": "code",
   "execution_count": 7,
   "id": "303223d2",
   "metadata": {},
   "outputs": [
    {
     "name": "stdout",
     "output_type": "stream",
     "text": [
      "2pole_supp_guys.xyz\n",
      "3pole_guys.xyz\n",
      "d-pole_3x.xyz\n",
      "pole-w-guys_near_substation.xyz\n",
      "pole_asim_3.xyz\n",
      "pole_asim_post.xyz\n",
      "strain_2.xyz\n",
      "strain_3_lean_lo.xyz\n",
      "strain_A_dpole.xyz\n",
      "strain_A_dpole_leaned.xyz\n",
      "strain_big.xyz\n",
      "strain_sm.xyz\n",
      "st_220_5.xyz\n",
      "st_220_6.xyz\n",
      "substation.xyz\n",
      "sus_220_6.xyz\n",
      "sus_2pole_lean.xyz\n",
      "sus_5.xyz\n",
      "sus_big.xyz\n",
      "sus_guyed_2x_steel.xyz\n",
      "sus_w_wires.xyz\n",
      "s_pole.xyz\n",
      "s_pole_xarms.xyz\n"
     ]
    }
   ],
   "source": [
    "list_of_files = list(p.glob('*.xyz'))\n",
    "for file in list_of_files:\n",
    "    print(file.name)"
   ]
  },
  {
   "cell_type": "code",
   "execution_count": 8,
   "id": "40dc65c5",
   "metadata": {},
   "outputs": [
    {
     "data": {
      "text/plain": [
       "[[1245959.75, 4851979.15, 20.32],\n",
       " [1245959.66, 4851979.11, 20.78],\n",
       " [1245959.55, 4851979.2, 21.36],\n",
       " [1245959.41, 4851979.79, 20.94],\n",
       " [1245959.46, 4851979.43, 21.48]]"
      ]
     },
     "execution_count": 8,
     "metadata": {},
     "output_type": "execute_result"
    }
   ],
   "source": [
    "spam_file = p / 'sus_5.xyz'\n",
    "str = []\n",
    "with spam_file.open() as f:\n",
    "        spamreader = csv.reader(f, delimiter=' ', quoting=csv.QUOTE_NONNUMERIC, skipinitialspace=True)\n",
    "        for row in spamreader:\n",
    "            str.append(row)\n",
    "str[:5]"
   ]
  },
  {
   "cell_type": "code",
   "execution_count": 9,
   "id": "8cca0e18",
   "metadata": {},
   "outputs": [
    {
     "data": {
      "text/plain": [
       "(6214, 3262)"
      ]
     },
     "execution_count": 9,
     "metadata": {},
     "output_type": "execute_result"
    }
   ],
   "source": [
    "# делаем массив np и обрезаю на треть снизу\n",
    "np_str = np.array(str)\n",
    "np_str_cut = np.delete(np_str, np_str[:,2]<((max(np_str[:,2])-min(np_str[:,2]))/3 + min(np_str[:,2])), 0)\n",
    "len(np_str), len(np_str_cut)"
   ]
  },
  {
   "cell_type": "code",
   "execution_count": 10,
   "id": "0d050e8b",
   "metadata": {},
   "outputs": [
    {
     "name": "stdout",
     "output_type": "stream",
     "text": [
      "[1245957.54 4851980.07] 30.29\n"
     ]
    }
   ],
   "source": [
    "np_str_2d = np_str_cut[:,:2]   # x and y\n",
    "np_str_z = np_str_cut[:,2]\n",
    "print(np_str_2d[1], np_str_z[1])"
   ]
  },
  {
   "cell_type": "code",
   "execution_count": 11,
   "id": "e1fa9d50",
   "metadata": {},
   "outputs": [
    {
     "data": {
      "text/plain": [
       "(1245951.938, 1245957.9219999998, 4851977.639, 4851984.700999999)"
      ]
     },
     "execution_count": 11,
     "metadata": {},
     "output_type": "execute_result"
    },
    {
     "data": {
      "image/png": "[encoded data removed]",
      "text/plain": [
       "<Figure size 432x288 with 1 Axes>"
      ]
     },
     "metadata": {
      "needs_background": "light"
     },
     "output_type": "display_data"
    }
   ],
   "source": [
    "plt.scatter(np_str_2d[:,0], np_str_2d[:,1])\n",
    "plt.axis('equal')"
   ]
  },
  {
   "cell_type": "code",
   "execution_count": 12,
   "id": "dd430ceb",
   "metadata": {},
   "outputs": [
    {
     "name": "stdout",
     "output_type": "stream",
     "text": [
      "194\n"
     ]
    }
   ],
   "source": [
    "# needs to create new segmented list\n",
    "segmented = []\n",
    "segment_size = 0.1\n",
    "start = min(np_str_z)\n",
    "end = start + segment_size\n",
    "while end < max(np_str_z):\n",
    "    segmented.append(sum(end > i > start for i in np_str_z))\n",
    "    start += segment_size\n",
    "    end += segment_size\n",
    "\n",
    "print(len(segmented))"
   ]
  },
  {
   "cell_type": "code",
   "execution_count": 13,
   "id": "57987316",
   "metadata": {},
   "outputs": [
    {
     "name": "stdout",
     "output_type": "stream",
     "text": [
      "15 18 31.42 31.520000000000003\n"
     ]
    }
   ],
   "source": [
    "# finding h by index:\n",
    "indx = 15\n",
    "h = min(np_str_z) + segment_size*indx\n",
    "\n",
    "print(indx, segmented[indx], h, h+segment_size)"
   ]
  },
  {
   "cell_type": "code",
   "execution_count": 14,
   "id": "06f6a00a",
   "metadata": {},
   "outputs": [
    {
     "name": "stdout",
     "output_type": "stream",
     "text": [
      "(9, 116)\n",
      "(10, 65)\n",
      "(21, 75)\n",
      "(22, 48)\n",
      "(45, 53)\n",
      "(79, 38)\n",
      "(94, 110)\n",
      "(95, 93)\n",
      "(127, 186)\n",
      "(128, 53)\n",
      "(160, 212)\n",
      "(161, 50)\n",
      "(162, 35)\n",
      "(169, 50)\n"
     ]
    }
   ],
   "source": [
    "# отбираем сегметы со значениями больше определеного и записываем как пару номер сегмента + значение\n",
    "ma = []\n",
    "for nu, i in enumerate(segmented):\n",
    "    if i > (np.mean(segmented))*2:\n",
    "        ma.append((nu, i))\n",
    "\n",
    "for i in ma:\n",
    "    print(i)"
   ]
  },
  {
   "cell_type": "code",
   "execution_count": 15,
   "id": "6182c6ea",
   "metadata": {},
   "outputs": [
    {
     "data": {
      "text/plain": [
       "{0: 65, 21: 123, 94: 203, 127: 239, 160: 297}"
      ]
     },
     "execution_count": 15,
     "metadata": {},
     "output_type": "execute_result"
    }
   ],
   "source": [
    "# break for groups with lowest segment num and sum of points\n",
    "ma2 = {}\n",
    "low_level = 0\n",
    "points_sum = 0\n",
    "\n",
    "for i in range(len(ma)):\n",
    "    #print(i, ma[i][0], ma[i][1])\n",
    "    # если следующий сегмент также отобран\n",
    "    if i != len(ma)-1 and ma[i][0]+1 == (ma[i+1][0]):\n",
    "        points_sum += ma[i+1][1]\n",
    "        \n",
    "        # если предыдущий сегмент не был отобран \n",
    "        if i > 0 and not ma[i][0]-1 == (ma[i-1][0]):\n",
    "            points_sum += ma[i][1]\n",
    "            low_level = ma[i][0]\n",
    "        \n",
    "        ma2[low_level] = points_sum\n",
    "\n",
    "    else:\n",
    "        #print('skip')\n",
    "        low_level = 0\n",
    "        points_sum = 0\n",
    "    \n",
    "    #print(low_level, points_sum)\n",
    "ma2"
   ]
  },
  {
   "cell_type": "code",
   "execution_count": 16,
   "id": "3468216e",
   "metadata": {},
   "outputs": [
    {
     "name": "stdout",
     "output_type": "stream",
     "text": [
      "[(94, 203), (127, 239), (160, 297)]\n",
      "39.3 42.6 45.9\n"
     ]
    }
   ],
   "source": [
    "#  из отобранных групп выделяем три наибольшие\n",
    "# такой отбор не стаботает на траверсах постоянной высоты - там будет по два выброса на траверсу\n",
    "selected = sorted(ma2.items(), key=lambda item: item[1])[-3:]\n",
    "print(selected)\n",
    "\n",
    "h_trav = []   # нижие кромки траверс\n",
    "for i in selected:\n",
    "    h_trav.append(round((min(np_str_z) + segment_size*i[0]), 1))\n",
    "z1, z2, z3 = sorted(h_trav)[0], sorted(h_trav)[1], sorted(h_trav)[2]\n",
    "print(z1, z2, z3)\n"
   ]
  },
  {
   "cell_type": "code",
   "execution_count": 17,
   "id": "40d8e1a1",
   "metadata": {},
   "outputs": [
    {
     "data": {
      "text/plain": [
       "array([[1.24595596e+06, 4.85197866e+06, 3.94200000e+01],\n",
       "       [1.24595603e+06, 4.85197899e+06, 3.93900000e+01],\n",
       "       [1.24595602e+06, 4.85197976e+06, 3.94000000e+01],\n",
       "       ...,\n",
       "       [1.24595385e+06, 4.85198430e+06, 4.59600000e+01],\n",
       "       [1.24595382e+06, 4.85198414e+06, 4.60600000e+01],\n",
       "       [1.24595379e+06, 4.85198398e+06, 4.61400000e+01]])"
      ]
     },
     "execution_count": 17,
     "metadata": {},
     "output_type": "execute_result"
    }
   ],
   "source": [
    "# cut the legs again\n",
    "np_str_cut = np.delete(np_str_cut, np_str_cut[:,2]<(z1-0.1), 0)\n",
    "np_str_cut "
   ]
  },
  {
   "cell_type": "code",
   "execution_count": 18,
   "id": "23ad42d4",
   "metadata": {},
   "outputs": [],
   "source": [
    "# will work with top part\n",
    "n_s_1_mp = MultiPoint(np_str_cut)    # to multipoint (needs to shapely)\n",
    "rect = n_s_1_mp.minimum_rotated_rectangle\n",
    "rect_c = rect.centroid"
   ]
  },
  {
   "cell_type": "code",
   "execution_count": 19,
   "id": "8f4de854",
   "metadata": {},
   "outputs": [
    {
     "data": {
      "text/plain": [
       "(1245952.7895365779, 1245957.1446295725, 4851977.289769065, 4851985.031129883)"
      ]
     },
     "execution_count": 19,
     "metadata": {},
     "output_type": "execute_result"
    },
    {
     "data": {
      "image/png": "[encoded data removed]",
      "text/plain": [
       "<Figure size 432x288 with 1 Axes>"
      ]
     },
     "metadata": {
      "needs_background": "light"
     },
     "output_type": "display_data"
    }
   ],
   "source": [
    "ax = gpd.GeoSeries(rect).plot(color='green', alpha=0.3)\n",
    "plt.scatter(np_str_cut[:,0], np_str_cut[:,1])\n",
    "gpd.GeoSeries(rect_c).plot(ax=ax, color='black')\n",
    "plt.axis('equal')"
   ]
  },
  {
   "cell_type": "code",
   "execution_count": 20,
   "id": "0b0eff32",
   "metadata": {},
   "outputs": [],
   "source": [
    "# определим азимут и расстояние\n",
    "from math import sqrt, acos, degrees\n",
    "\n",
    "def azimuth(a, b):\n",
    "    # by two points we get azimuth\n",
    "    dx = a[0] - b[0]\n",
    "    dy = a[1] - b[1]\n",
    "    dist = sqrt(dx*dx + dy*dy)    # dist a to b\n",
    "    dx2 = abs(dx)\n",
    "    beta = degrees(acos(dx2/dist))\n",
    "    if dx > 0:\n",
    "        if dy < 0:\n",
    "            angle = 270 + beta\n",
    "        else:\n",
    "            angle = 270 - beta\n",
    "    else:\n",
    "        if dy < 0:\n",
    "            angle = 90 - beta\n",
    "        else:\n",
    "            angle = 90 + beta\n",
    "\n",
    "    return round(angle, 2), dist\n"
   ]
  },
  {
   "cell_type": "code",
   "execution_count": 31,
   "id": "c36b7a94",
   "metadata": {},
   "outputs": [
    {
     "name": "stdout",
     "output_type": "stream",
     "text": [
      "6.805409612439039\n",
      "LINESTRING (1245953.87 4851984.38, 1245956.07 4851977.94)\n",
      "(161.11, 6.8026700607985795)\n",
      "(71.11, 1.8572203067145663)\n",
      "161.11\n"
     ]
    }
   ],
   "source": [
    "# find a longest side and azimuth\n",
    "\n",
    "side_a = azimuth(list(rect.exterior.coords)[0], list(rect.exterior.coords)[1])\n",
    "side_b = azimuth(list(rect.exterior.coords)[1], list(rect.exterior.coords)[2])\n",
    "if side_a[1] > side_b[1]:\n",
    "    str_azmt = side_a[0]\n",
    "    axl = LineString([midpoint(list(rect.exterior.coords)[0], list(rect.exterior.coords)[3]), \n",
    "                     midpoint(list(rect.exterior.coords)[1], list(rect.exterior.coords)[2])])\n",
    "else:\n",
    "    str_azmt = side_b[0]\n",
    "    axl = LineString([midpoint(list(rect.exterior.coords)[0], list(rect.exterior.coords)[1]), \n",
    "                     midpoint(list(rect.exterior.coords)[2], list(rect.exterior.coords)[3])])\n",
    "\n",
    "\n",
    "def midpoint(p1, p2):\n",
    "    # calc middle point\n",
    "    mx = round((p1[0]+p2[0])/2, 2)\n",
    "    my = round((p1[1]+p2[1])/2, 2)\n",
    "    \n",
    "    return (mx, my)\n",
    "\n",
    "print(axl.length)\n",
    "print(axl)\n",
    "print(side_a)\n",
    "print(side_b)\n",
    "print(str_azmt)"
   ]
  },
  {
   "cell_type": "markdown",
   "id": "25557583",
   "metadata": {},
   "source": [
    "далее пробуем вращать опору чтобы работать в относительной системе координат с начало в ее центре на уровне нижней траверсы\n",
    "определять будем по наименьшему расстоянию до прямой"
   ]
  },
  {
   "cell_type": "code",
   "execution_count": 189,
   "id": "0bb857ec",
   "metadata": {},
   "outputs": [],
   "source": [
    "rect_c   # координаты центра опоры\n",
    "axl   # ось опоры\n",
    "\n",
    "def rotatepoints(angle, point, line, array):\n",
    "    new_array = []\n",
    "    for i in array:\n",
    "        # angle and dist to center\n",
    "        az, dist = azimuth(list(point.coords)[0], (i[:2]))\n",
    "        new_y = round(Point(i[:2]).distance(line), 2)\n",
    "        new_x = round(sqrt(abs(dist*dist - new_y*new_y)), 2)\n",
    "        # now we should find + or -\n",
    "        az -= angle\n",
    "        #print(az)\n",
    "        if 0 < az < 90:\n",
    "            new_y *= -1\n",
    "        elif 90 < az < 180:\n",
    "            new_y *= -1\n",
    "            new_x *= -1\n",
    "        elif 180 < az < 270:\n",
    "            new_x *= -1\n",
    "        elif -90 > az > -180:\n",
    "            new_x *= -1\n",
    "        elif -180 > az > -270:\n",
    "            new_x *= -1\n",
    "            new_y *= -1\n",
    "        elif -270 > az > -360:\n",
    "            new_y *= -1\n",
    "\n",
    "        new_array.append([new_x, new_y, i[2]])\n",
    "        \n",
    "    return np.array(new_array)"
   ]
  },
  {
   "cell_type": "code",
   "execution_count": 123,
   "id": "8c3f0d14",
   "metadata": {},
   "outputs": [
    {
     "data": {
      "text/plain": [
       "array([[ 2.690e+00,  1.300e-01,  3.942e+01],\n",
       "       [ 2.400e+00,  3.000e-01,  3.939e+01],\n",
       "       [ 1.670e+00,  5.400e-01,  3.940e+01],\n",
       "       ...,\n",
       "       [-3.330e+00, -4.000e-02,  4.596e+01],\n",
       "       [-3.190e+00, -1.200e-01,  4.606e+01],\n",
       "       [-3.050e+00, -2.100e-01,  4.614e+01]])"
      ]
     },
     "execution_count": 123,
     "metadata": {},
     "output_type": "execute_result"
    }
   ],
   "source": [
    "new_a = rotatepoints(str_azmt, rect_c, axl, np_str_cut)\n"
   ]
  },
  {
   "cell_type": "code",
   "execution_count": 124,
   "id": "fc3fc278",
   "metadata": {},
   "outputs": [
    {
     "data": {
      "text/plain": [
       "(-3.7399999999999998,\n",
       " 3.7399999999999998,\n",
       " -1.0230000000000001,\n",
       " 1.0230000000000001)"
      ]
     },
     "execution_count": 124,
     "metadata": {},
     "output_type": "execute_result"
    },
    {
     "data": {
      "image/png": "[encoded data removed]",
      "text/plain": [
       "<Figure size 432x288 with 1 Axes>"
      ]
     },
     "metadata": {
      "needs_background": "light"
     },
     "output_type": "display_data"
    }
   ],
   "source": [
    "#plt.scatter(np_str_cut[:,0], np_str_cut[:,1])\n",
    "plt.scatter(new_a[:,0], new_a[:,1], color='green', alpha=0.3)\n",
    "plt.axis('equal')"
   ]
  },
  {
   "cell_type": "markdown",
   "id": "8e6f8da6",
   "metadata": {},
   "source": [
    "теперь надо попробовать повернуть всё назад\n",
    "в основной задаче опора повернулась на угол 90-заданный."
   ]
  },
  {
   "cell_type": "code",
   "execution_count": 209,
   "id": "1f61e488",
   "metadata": {},
   "outputs": [],
   "source": [
    "# делаем новую линию указывающую разворот - по длине с запасом -взять по метру с каждой стороны по х\n",
    "\n",
    "x1 = -5\n",
    "x2 = 5\n",
    "a = -str_azmt\n",
    "y1 = x1*cos(math.radians(a))/sin(math.radians(a))\n",
    "y2 = x2*cos(math.radians(a))/sin(math.radians(a))\n",
    "line_b = LineString([(x1, y1), (x2, y2)])\n"
   ]
  },
  {
   "cell_type": "code",
   "execution_count": 208,
   "id": "35c2b522",
   "metadata": {},
   "outputs": [
    {
     "data": {
      "text/plain": [
       "array([[ 1.  , -2.5 , 39.42],\n",
       "       [ 1.07, -2.17, 39.39],\n",
       "       [ 1.05, -1.41, 39.4 ],\n",
       "       ...,\n",
       "       [-1.11,  3.14, 45.96],\n",
       "       [-1.14,  2.98, 46.06],\n",
       "       [-1.18,  2.82, 46.14]])"
      ]
     },
     "execution_count": 208,
     "metadata": {},
     "output_type": "execute_result"
    }
   ],
   "source": [
    "# перевод обратно - нулевая точка, угол 180-а, новая линия (с запасом по длине)\n",
    "new_b = rotatepoints((180-str_azmt), Point(0, 0), line_b, new_a)\n",
    "new_b"
   ]
  },
  {
   "cell_type": "code",
   "execution_count": 207,
   "id": "4266baab",
   "metadata": {},
   "outputs": [
    {
     "data": {
      "text/plain": [
       "(-1.393, 1.313, -3.5210000000000004, 3.5410000000000004)"
      ]
     },
     "execution_count": 207,
     "metadata": {},
     "output_type": "execute_result"
    },
    {
     "data": {
      "image/png": "[encoded data removed]",
      "text/plain": [
       "<Figure size 432x288 with 1 Axes>"
      ]
     },
     "metadata": {
      "needs_background": "light"
     },
     "output_type": "display_data"
    }
   ],
   "source": [
    "plt.scatter(new_b[:,0], new_b[:,1], color='green', alpha=0.3)\n",
    "plt.axis('equal')"
   ]
  },
  {
   "cell_type": "code",
   "execution_count": 22,
   "id": "b028501c",
   "metadata": {},
   "outputs": [],
   "source": [
    "# попробовать - минимальная дистанция между прямой и точкой\n",
    "\n",
    "# >>> from shapely.geometry import LineString\n",
    "# >>> from shapely.geometry import Point\n",
    "# >>> line = LineString([ (1,1), (3,1)])\n",
    "# >>> point = Point(2,2)\n",
    "# >>> dist = point.distance(line)\n",
    "# 1.0\n",
    "# >>> line.interpolate(dist).wkt\n",
    "# 'POINT (2 1)'\n"
   ]
  }
 ],
 "metadata": {
  "kernelspec": {
   "display_name": "Python 3 (ipykernel)",
   "language": "python",
   "name": "python3"
  },
  "language_info": {
   "codemirror_mode": {
    "name": "ipython",
    "version": 3
   },
   "file_extension": ".py",
   "mimetype": "text/x-python",
   "name": "python",
   "nbconvert_exporter": "python",
   "pygments_lexer": "ipython3",
   "version": "3.9.12"
  }
 },
 "nbformat": 4,
 "nbformat_minor": 5
}
