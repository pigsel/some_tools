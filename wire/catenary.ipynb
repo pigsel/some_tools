{
 "cells": [
  {
   "cell_type": "markdown",
   "metadata": {},
   "source": [
    "попытка построения аппроксимации провода по ТЛС и твум точкам крепления"
   ]
  },
  {
   "cell_type": "code",
   "execution_count": 1,
   "metadata": {},
   "outputs": [],
   "source": [
    "from pathlib import Path\n",
    "import csv\n",
    "import math\n",
    "import numpy as np\n",
    "import matplotlib.pyplot as plt"
   ]
  },
  {
   "cell_type": "code",
   "execution_count": 2,
   "metadata": {},
   "outputs": [],
   "source": [
    "p = Path(r'D:\\python\\some_tools\\wire')"
   ]
  },
  {
   "cell_type": "code",
   "execution_count": 3,
   "metadata": {},
   "outputs": [],
   "source": [
    "ts_appr = []   # approx from TS\n",
    "pts = []   # LiDAR points"
   ]
  },
  {
   "cell_type": "code",
   "execution_count": 4,
   "metadata": {},
   "outputs": [
    {
     "data": {
      "text/plain": [
       "array([1.48667320e+06, 5.37554638e+06, 3.37910000e+01])"
      ]
     },
     "execution_count": 4,
     "metadata": {},
     "output_type": "execute_result"
    }
   ],
   "source": [
    "# load TS appr\n",
    "with (p/'appr_ts.txt').open() as f:\n",
    "        spamreader = csv.reader(f, delimiter='\\t', quoting=csv.QUOTE_NONNUMERIC, skipinitialspace=True)\n",
    "        for row in spamreader:\n",
    "            ts_appr.append(row)\n",
    "ts_appr = np.array(ts_appr)\n",
    "ts_appr[5]"
   ]
  },
  {
   "cell_type": "code",
   "execution_count": 5,
   "metadata": {},
   "outputs": [
    {
     "data": {
      "text/plain": [
       "array([1.48656137e+06, 5.37551805e+06, 3.38900000e+01])"
      ]
     },
     "execution_count": 5,
     "metadata": {},
     "output_type": "execute_result"
    }
   ],
   "source": [
    "# load LiDAR points\n",
    "with (p/'1wire.xyz').open() as f:\n",
    "        spamreader = csv.reader(f, delimiter=' ', quoting=csv.QUOTE_NONNUMERIC, skipinitialspace=True)\n",
    "        for row in spamreader:\n",
    "            pts.append(row)\n",
    "pts = np.array(pts)\n",
    "pts[5]"
   ]
  },
  {
   "cell_type": "code",
   "execution_count": 6,
   "metadata": {},
   "outputs": [],
   "source": [
    "tk1 = [ts_appr[0][0], ts_appr[0][1]]\n",
    "tk2 = [ts_appr[-1][0], ts_appr[-1][1]]"
   ]
  },
  {
   "cell_type": "code",
   "execution_count": 7,
   "metadata": {},
   "outputs": [],
   "source": [
    "# 1 - moving coords to the start point\n",
    "def move(arr, pt):\n",
    "    x, y = pt\n",
    "    arr_moved = np.copy(arr)\n",
    "    arr_moved[:,0]=arr_moved[:,0] - x\n",
    "    arr_moved[:,1]=arr_moved[:,1] - y\n",
    "    \n",
    "    return arr_moved\n"
   ]
  },
  {
   "cell_type": "code",
   "execution_count": 8,
   "metadata": {},
   "outputs": [],
   "source": [
    "# 2 - находим угол (rad)\n",
    " \n",
    "def getAngle(a, b, c):\n",
    "    ang = (math.atan2(c[1]-b[1], c[0]-b[0]) - math.atan2(a[1]-b[1], a[0]-b[0]))\n",
    "    #return ang + 360 if ang < 0 else ang\n",
    "    return ang\n",
    " \n",
    "#ang = getAngle(tk3, tk1, tk2)"
   ]
  },
  {
   "cell_type": "code",
   "execution_count": 9,
   "metadata": {},
   "outputs": [],
   "source": [
    "# 3 - теперь поворачиваем\n",
    "def rotate(xy, radians):\n",
    "    \"\"\"Only rotate a point around the origin (0, 0).\"\"\"\n",
    "    x, y = xy\n",
    "    xx = x * math.cos(radians) + y * math.sin(radians)\n",
    "    yy = -x * math.sin(radians) + y * math.cos(radians)\n",
    "\n",
    "    return xx, yy"
   ]
  },
  {
   "cell_type": "code",
   "execution_count": 10,
   "metadata": {},
   "outputs": [],
   "source": [
    "def move_and_rotate(arr, tk1, tk2):\n",
    "    tk3 = [tk1[0], tk2[1]]\n",
    "    arr_moved = move(arr, tk1)\n",
    "    ang = getAngle(tk3, tk1, tk2)\n",
    "    \n",
    "    arr_2d = []\n",
    "    for i in range(len(arr_moved)):\n",
    "        po = [arr_moved[i][0], arr_moved[i][1]]\n",
    "        arr_2d.append([rotate(po, ang)[1], arr_moved[i][2]])  # поворот (Y) и высота от Z \n",
    "        # X выбрасываем, т.к. считаем его равным 0\n",
    "\n",
    "    return np.array(arr_2d)"
   ]
  },
  {
   "cell_type": "code",
   "execution_count": 11,
   "metadata": {},
   "outputs": [],
   "source": [
    "ts_appr_r = move_and_rotate(ts_appr, tk1, tk2)\n",
    "pts_r = move_and_rotate(pts, tk1, tk2)"
   ]
  },
  {
   "cell_type": "code",
   "execution_count": 61,
   "metadata": {},
   "outputs": [
    {
     "data": {
      "text/plain": [
       "[<matplotlib.lines.Line2D at 0x174dc6fdc10>]"
      ]
     },
     "execution_count": 61,
     "metadata": {},
     "output_type": "execute_result"
    },
    {
     "data": {
      "image/png": "[encoded data removed]",
      "text/plain": [
       "<Figure size 432x288 with 1 Axes>"
      ]
     },
     "metadata": {
      "needs_background": "light"
     },
     "output_type": "display_data"
    }
   ],
   "source": [
    "ff = np.arange(-61.7, 81.1, 2)\n",
    "a = 1100\n",
    "def z(f):\n",
    "    zz = []\n",
    "    for i in f:\n",
    "        zz.append(a*math.cosh(i/a)-a+32.33)\n",
    "    return zz\n",
    "\n",
    "#plt.plot(pts_r[:,0], pts_r[:,1], 'o')\n",
    "plt.plot(ts_appr_r[:,0], ts_appr_r[:,1], 'o')\n",
    "plt.plot(ff-84, z(ff), 'r--')\n"
   ]
  },
  {
   "cell_type": "markdown",
   "metadata": {},
   "source": [
    "dy/dx = s/a где s - длина провода   \n",
    "отсюда s = a * dy / dx   \n",
    "a = s * dx / dy"
   ]
  },
  {
   "cell_type": "code",
   "execution_count": 14,
   "metadata": {},
   "outputs": [
    {
     "data": {
      "text/plain": [
       "9.403472222222234"
      ]
     },
     "execution_count": 14,
     "metadata": {},
     "output_type": "execute_result"
    }
   ],
   "source": [
    "s = 1100 * (35.334 - 34.103) / 144\n",
    "s"
   ]
  },
  {
   "cell_type": "code",
   "execution_count": 15,
   "metadata": {},
   "outputs": [
    {
     "data": {
      "text/plain": [
       "1.762545899632803"
      ]
     },
     "execution_count": 15,
     "metadata": {},
     "output_type": "execute_result"
    }
   ],
   "source": [
    "144/81.7"
   ]
  },
  {
   "cell_type": "code",
   "execution_count": 16,
   "metadata": {},
   "outputs": [
    {
     "data": {
      "text/plain": [
       "1.694303440496332"
      ]
     },
     "execution_count": 16,
     "metadata": {},
     "output_type": "execute_result"
    }
   ],
   "source": [
    "(35.334-32.33)/((35.334-32.33)-1.231)"
   ]
  },
  {
   "cell_type": "code",
   "execution_count": 17,
   "metadata": {},
   "outputs": [
    {
     "data": {
      "text/plain": [
       "144.41164512575577"
      ]
     },
     "execution_count": 17,
     "metadata": {},
     "output_type": "execute_result"
    }
   ],
   "source": [
    "s = a*math.sinh(144/a)  # length\n",
    "s"
   ]
  },
  {
   "cell_type": "code",
   "execution_count": 18,
   "metadata": {},
   "outputs": [
    {
     "data": {
      "text/plain": [
       "9.438922720817118"
      ]
     },
     "execution_count": 18,
     "metadata": {},
     "output_type": "execute_result"
    }
   ],
   "source": [
    "lll = a*math.cosh(144/a)-a   # похоже на стрелу провеса ??\n",
    "lll"
   ]
  },
  {
   "cell_type": "code",
   "execution_count": 19,
   "metadata": {},
   "outputs": [
    {
     "data": {
      "text/plain": [
       "144.0052530291864"
      ]
     },
     "execution_count": 19,
     "metadata": {},
     "output_type": "execute_result"
    }
   ],
   "source": [
    "(144**2+1.23**2)**(1/2)  # длина по прямой между ТК"
   ]
  },
  {
   "cell_type": "markdown",
   "metadata": {},
   "source": [
    "итак, основная формула получается:    \n",
    "    <b> a * math.cosh(x/a) - a + z_min </b>   \n",
    "    a - коэфф кривой  \n",
    "    x - расстояние по x от нижней точки  \n",
    "    z_min - абсолютная высота нижней точки   \n",
    "\n",
    "тут надо понимать что начало координат находится в нижней точке - в точке перегиба кривой\n"
   ]
  },
  {
   "cell_type": "markdown",
   "metadata": {},
   "source": [
    " - - - - - - - - - - - - - - -     \n",
    " попробуем определить высоты конечных точек получаемой аппроксимации"
   ]
  },
  {
   "cell_type": "code",
   "execution_count": 79,
   "metadata": {},
   "outputs": [
    {
     "data": {
      "text/plain": [
       "(array([ 0.   , 35.334]), array([-144.07200006,   34.103     ]))"
      ]
     },
     "execution_count": 79,
     "metadata": {},
     "output_type": "execute_result"
    }
   ],
   "source": [
    "st_p, end_p = ts_appr_r[0], ts_appr_r[-1]  # start and end points\n",
    "st_p, end_p"
   ]
  },
  {
   "cell_type": "code",
   "execution_count": 91,
   "metadata": {},
   "outputs": [],
   "source": [
    "# еще раз определим функцию\n",
    "def curve(x, a, zmin):\n",
    "    y = a*math.cosh(x/a)-a+zmin\n",
    "    return y\n"
   ]
  },
  {
   "cell_type": "markdown",
   "metadata": {},
   "source": [
    "допустим соотношение по высоте будет таким же как расстояние минимальной точки от провиса. тогда создадим функцию по поиску такого расстояния"
   ]
  },
  {
   "cell_type": "code",
   "execution_count": 76,
   "metadata": {},
   "outputs": [],
   "source": [
    "def mid_dist(tk1, tk2, arr):\n",
    "    zmin = min(arr[:,1])\n",
    "    k = (tk2[1]-zmin)/(tk1[1]-zmin)\n",
    "    min_dist = arr[:,0][-1]*k\n",
    "    print(f'zmin = {zmin}, k = {k}, md = {min_dist}')\n",
    "    \n",
    "    #return min_dist"
   ]
  },
  {
   "cell_type": "code",
   "execution_count": 77,
   "metadata": {},
   "outputs": [
    {
     "name": "stdout",
     "output_type": "stream",
     "text": [
      "zmin = 32.349, k = 0.5876046901172532, md = -84.65738294713758\n"
     ]
    }
   ],
   "source": [
    "mid_dist(st_p, end_p, ts_appr_r)"
   ]
  },
  {
   "cell_type": "code",
   "execution_count": 162,
   "metadata": {},
   "outputs": [
    {
     "data": {
      "text/plain": [
       "59.408273330192976"
      ]
     },
     "execution_count": 162,
     "metadata": {},
     "output_type": "execute_result"
    }
   ],
   "source": [
    "curve(72, 100, 32.349)"
   ]
  },
  {
   "cell_type": "markdown",
   "metadata": {},
   "source": [
    "идея такая - возьмем середину пролета как начало и усредним высоты ТК, для такого состояния найдем подходящий коэффицент а, такой чтобы у был равен усредненной высоте. далее будем сдвигать центр и тк, и смотреть как ложится на них кривая. "
   ]
  },
  {
   "cell_type": "code",
   "execution_count": 256,
   "metadata": {},
   "outputs": [],
   "source": [
    "# находим предварительный уровень кривой\n",
    "\n",
    "def fit_cur(tk1, tk2, arr):\n",
    "    def curve(x, a, zmin):\n",
    "        y = a*math.cosh(x/a)-a+zmin\n",
    "        return y\n",
    "    \n",
    "    zmin = min(arr[:,1])\n",
    "    x_ini = (tk1[0]+tk2[0])/2\n",
    "    z_ini = (tk1[1]+tk2[1])/2\n",
    "    d = 0.05   # разница которой достаточно чтобы остановить подбор\n",
    "    z = 0\n",
    "    a = a2 = 10000   \n",
    "    a1 = 1\n",
    "    iter_ = 0\n",
    "    z_d = z_ini - curve(x_ini, a, zmin)\n",
    "    print(z_d)\n",
    "    while abs(z_d) > d:\n",
    "        if curve(x_ini, a, zmin) < z_ini:\n",
    "            a2 = a\n",
    "            a = (a2 - a1)/2\n",
    "            iter_ +=1\n",
    "            print(a, a1, a2, iter_)\n",
    "        else:\n",
    "            a1 = a\n",
    "            a = (a2 + a1)/2\n",
    "            iter_ +=1\n",
    "            print(a, a1, a2, iter_)\n",
    "        z_d = z_ini - curve(x_ini, a, zmin)\n",
    "        print(z_d)\n",
    "    \n",
    "    return a"
   ]
  },
  {
   "cell_type": "code",
   "execution_count": 193,
   "metadata": {
    "scrolled": false
   },
   "outputs": [
    {
     "name": "stdout",
     "output_type": "stream",
     "text": [
      "2.1100396130143437\n",
      "4999.5 1 10000 1\n",
      "1.850520594321317\n",
      "2499.25 1 4999.5 2\n",
      "1.331279621743981\n",
      "1249.125 1 2499.25 3\n",
      "0.2917961620494154\n",
      "624.0625 1 1249.125 4\n",
      "-1.7927030616243727\n",
      "936.59375 624.0625 1249.125 5\n",
      "-0.4021092955381462\n",
      "1092.859375 936.59375 1249.125 6\n",
      "-0.005491936502728834\n"
     ]
    },
    {
     "data": {
      "text/plain": [
       "1092.859375"
      ]
     },
     "execution_count": 193,
     "metadata": {},
     "output_type": "execute_result"
    }
   ],
   "source": [
    "fit_cur(st_p, end_p, ts_appr_r)"
   ]
  },
  {
   "cell_type": "code",
   "execution_count": 203,
   "metadata": {},
   "outputs": [
    {
     "data": {
      "text/plain": [
       "(array([ 0.   , 35.334]), array([-144.07200006,   34.103     ]))"
      ]
     },
     "execution_count": 203,
     "metadata": {},
     "output_type": "execute_result"
    }
   ],
   "source": [
    "st_p, end_p"
   ]
  },
  {
   "cell_type": "code",
   "execution_count": 255,
   "metadata": {},
   "outputs": [
    {
     "name": "stdout",
     "output_type": "stream",
     "text": [
      "-0.6258623470327791 0.6041376529672178 -72.03600002770968\n",
      "1.1569459975630991 -2.369364748866012 -144.07200005541935 -72.03600002770968 -108.0540000415645\n",
      "0.41422701882905244 -0.7336049879529511 -108.0540000415645 -72.03600002770968 -90.0450000346371\n",
      "-0.06863058163591518 -0.027506166283949085 -90.0450000346371 -72.03600002770968 -81.0405000311734\n",
      "0.18209281872466931 -0.37124581981128557 -90.0450000346371 -81.0405000311734 -85.54275003290525\n",
      "0.059055027541973004 -0.1970489263321653 -85.54275003290525 -81.0405000311734 -83.29162503203932\n",
      "-0.004206766346868562 -0.11169582512388132 -83.29162503203932 -81.0405000311734 -82.16606253160636\n",
      "-0.0362734170673491 -0.06945557102721267 -82.16606253160636 -81.0405000311734 -81.60328128138988\n",
      "-0.052415684585383815 -0.0484445131846698 -81.60328128138988 -81.0405000311734 -81.32189065628164\n"
     ]
    }
   ],
   "source": [
    "# выравниваем по оси Х\n",
    "\n",
    "xl, xr = end_p[0], 0\n",
    "mp = (xl + xr)/2\n",
    "lz_ok = 34.1\n",
    "rz_ok = 35.33\n",
    "dl = lz_ok - curve((end_p[0]-mp), 1092, 32.349)\n",
    "dr = rz_ok - curve((0-mp), 1092, 32.349)\n",
    "dd = dl-dr\n",
    "print(dl, dr, mp)\n",
    "while abs(dd) > 0.01:\n",
    "    if dd > 0:\n",
    "        xl = mp\n",
    "        mp = (xl + xr)/2\n",
    "    else:\n",
    "        xr = mp\n",
    "        mp = (xl + xr)/2\n",
    "    dl = lz_ok - curve((end_p[0]-mp), 1092, 32.349)\n",
    "    dr = rz_ok - curve((0-mp), 1092, 32.349)\n",
    "    dd = dl-dr\n",
    "    print(dl, dr, xl, xr, mp)"
   ]
  },
  {
   "cell_type": "code",
   "execution_count": null,
   "metadata": {},
   "outputs": [],
   "source": []
  },
  {
   "cell_type": "code",
   "execution_count": null,
   "metadata": {},
   "outputs": [],
   "source": []
  },
  {
   "cell_type": "code",
   "execution_count": null,
   "metadata": {},
   "outputs": [],
   "source": []
  },
  {
   "cell_type": "code",
   "execution_count": null,
   "metadata": {},
   "outputs": [],
   "source": []
  }
 ],
 "metadata": {
  "kernelspec": {
   "display_name": "Python 3",
   "language": "python",
   "name": "python3"
  },
  "language_info": {
   "codemirror_mode": {
    "name": "ipython",
    "version": 3
   },
   "file_extension": ".py",
   "mimetype": "text/x-python",
   "name": "python",
   "nbconvert_exporter": "python",
   "pygments_lexer": "ipython3",
   "version": "3.9.1"
  }
 },
 "nbformat": 4,
 "nbformat_minor": 4
}
