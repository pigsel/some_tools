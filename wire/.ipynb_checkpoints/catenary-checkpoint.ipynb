{
 "cells": [
  {
   "cell_type": "markdown",
   "metadata": {},
   "source": [
    "попытка построения аппроксимации провода по ТЛС и твум точкам крепления"
   ]
  },
  {
   "cell_type": "code",
   "execution_count": 1,
   "metadata": {},
   "outputs": [],
   "source": [
    "from pathlib import Path\n",
    "import csv\n",
    "import math\n",
    "import numpy as np\n",
    "import matplotlib.pyplot as plt"
   ]
  },
  {
   "cell_type": "code",
   "execution_count": 2,
   "metadata": {},
   "outputs": [],
   "source": [
    "p = Path(r'D:\\python\\some_tools\\wire')"
   ]
  },
  {
   "cell_type": "code",
   "execution_count": 3,
   "metadata": {},
   "outputs": [],
   "source": [
    "ts_appr = []   # approx from TS\n",
    "pts = []   # LiDAR points"
   ]
  },
  {
   "cell_type": "code",
   "execution_count": 4,
   "metadata": {},
   "outputs": [
    {
     "data": {
      "text/plain": [
       "array([1.48667320e+06, 5.37554638e+06, 3.37910000e+01])"
      ]
     },
     "execution_count": 4,
     "metadata": {},
     "output_type": "execute_result"
    }
   ],
   "source": [
    "# load TS appr\n",
    "with (p/'appr_ts.txt').open() as f:\n",
    "        spamreader = csv.reader(f, delimiter='\\t', quoting=csv.QUOTE_NONNUMERIC, skipinitialspace=True)\n",
    "        for row in spamreader:\n",
    "            ts_appr.append(row)\n",
    "ts_appr = np.array(ts_appr)\n",
    "ts_appr[5]"
   ]
  },
  {
   "cell_type": "code",
   "execution_count": 5,
   "metadata": {},
   "outputs": [
    {
     "data": {
      "text/plain": [
       "array([1.48656137e+06, 5.37551805e+06, 3.38900000e+01])"
      ]
     },
     "execution_count": 5,
     "metadata": {},
     "output_type": "execute_result"
    }
   ],
   "source": [
    "# load LiDAR points\n",
    "with (p/'1wire.xyz').open() as f:\n",
    "        spamreader = csv.reader(f, delimiter=' ', quoting=csv.QUOTE_NONNUMERIC, skipinitialspace=True)\n",
    "        for row in spamreader:\n",
    "            pts.append(row)\n",
    "pts = np.array(pts)\n",
    "pts[5]"
   ]
  },
  {
   "cell_type": "code",
   "execution_count": 6,
   "metadata": {},
   "outputs": [],
   "source": [
    "tk1 = [ts_appr[0][0], ts_appr[0][1]]\n",
    "tk2 = [ts_appr[-1][0], ts_appr[-1][1]]"
   ]
  },
  {
   "cell_type": "code",
   "execution_count": 7,
   "metadata": {},
   "outputs": [],
   "source": [
    "# 1 - moving coords to the start point\n",
    "def move(arr, pt):\n",
    "    x, y = pt\n",
    "    arr_moved = np.copy(arr)\n",
    "    arr_moved[:,0]=arr_moved[:,0] - x\n",
    "    arr_moved[:,1]=arr_moved[:,1] - y\n",
    "    \n",
    "    return arr_moved\n"
   ]
  },
  {
   "cell_type": "code",
   "execution_count": 8,
   "metadata": {},
   "outputs": [],
   "source": [
    "# 2 - находим угол (rad)\n",
    " \n",
    "def getAngle(a, b, c):\n",
    "    ang = (math.atan2(c[1]-b[1], c[0]-b[0]) - math.atan2(a[1]-b[1], a[0]-b[0]))\n",
    "    #return ang + 360 if ang < 0 else ang\n",
    "    return ang\n",
    " \n",
    "#ang = getAngle(tk3, tk1, tk2)"
   ]
  },
  {
   "cell_type": "code",
   "execution_count": 9,
   "metadata": {},
   "outputs": [],
   "source": [
    "# 3 - теперь поворачиваем\n",
    "def rotate(xy, radians):\n",
    "    \"\"\"Only rotate a point around the origin (0, 0).\"\"\"\n",
    "    x, y = xy\n",
    "    xx = x * math.cos(radians) + y * math.sin(radians)\n",
    "    yy = -x * math.sin(radians) + y * math.cos(radians)\n",
    "\n",
    "    return xx, yy"
   ]
  },
  {
   "cell_type": "code",
   "execution_count": 10,
   "metadata": {},
   "outputs": [],
   "source": [
    "def move_and_rotate(arr, tk1, tk2):\n",
    "    tk3 = [tk1[0], tk2[1]]\n",
    "    arr_moved = move(arr, tk1)\n",
    "    ang = getAngle(tk3, tk1, tk2)\n",
    "    \n",
    "    arr_2d = []\n",
    "    for i in range(len(arr_moved)):\n",
    "        po = [arr_moved[i][0], arr_moved[i][1]]\n",
    "        arr_2d.append([rotate(po, ang)[1], arr_moved[i][2]])  # поворот (Y) и высота от Z \n",
    "        # X выбрасываем, т.к. считаем его равным 0\n",
    "\n",
    "    return np.array(arr_2d)"
   ]
  },
  {
   "cell_type": "code",
   "execution_count": 11,
   "metadata": {},
   "outputs": [],
   "source": [
    "ts_appr_r = move_and_rotate(ts_appr, tk1, tk2)\n",
    "pts_r = move_and_rotate(pts, tk1, tk2)"
   ]
  },
  {
   "cell_type": "code",
   "execution_count": 12,
   "metadata": {},
   "outputs": [
    {
     "data": {
      "text/plain": [
       "[<matplotlib.lines.Line2D at 0x1bb74fafd90>]"
      ]
     },
     "execution_count": 12,
     "metadata": {},
     "output_type": "execute_result"
    },
    {
     "data": {
      "image/png": "[encoded data removed]",
      "text/plain": [
       "<Figure size 432x288 with 1 Axes>"
      ]
     },
     "metadata": {
      "needs_background": "light"
     },
     "output_type": "display_data"
    }
   ],
   "source": [
    "ff = np.arange(-61.7, 81.1, 2)\n",
    "a = 1100\n",
    "def z(f):\n",
    "    zz = []\n",
    "    for i in f:\n",
    "        zz.append(a*math.cosh(i/a)-a+32.33)\n",
    "    return zz\n",
    "\n",
    "#plt.plot(pts_r[:,0], pts_r[:,1], 'o')\n",
    "plt.plot(ts_appr_r[:,0], ts_appr_r[:,1], 'o')\n",
    "plt.plot(ff-84, z(ff), 'r--')\n"
   ]
  },
  {
   "cell_type": "markdown",
   "metadata": {},
   "source": [
    "dy/dx = s/a где s - длина провода   \n",
    "отсюда s = a * dy / dx   \n",
    "a = s * dx / dy"
   ]
  },
  {
   "cell_type": "code",
   "execution_count": 13,
   "metadata": {},
   "outputs": [
    {
     "data": {
      "text/plain": [
       "9.403472222222234"
      ]
     },
     "execution_count": 13,
     "metadata": {},
     "output_type": "execute_result"
    }
   ],
   "source": [
    "s = 1100 * (35.334 - 34.103) / 144\n",
    "s"
   ]
  },
  {
   "cell_type": "code",
   "execution_count": 14,
   "metadata": {},
   "outputs": [
    {
     "data": {
      "text/plain": [
       "1.762545899632803"
      ]
     },
     "execution_count": 14,
     "metadata": {},
     "output_type": "execute_result"
    }
   ],
   "source": [
    "144/81.7"
   ]
  },
  {
   "cell_type": "code",
   "execution_count": 15,
   "metadata": {},
   "outputs": [
    {
     "data": {
      "text/plain": [
       "1.694303440496332"
      ]
     },
     "execution_count": 15,
     "metadata": {},
     "output_type": "execute_result"
    }
   ],
   "source": [
    "(35.334-32.33)/((35.334-32.33)-1.231)"
   ]
  },
  {
   "cell_type": "code",
   "execution_count": 16,
   "metadata": {},
   "outputs": [
    {
     "data": {
      "text/plain": [
       "144.41164512575577"
      ]
     },
     "execution_count": 16,
     "metadata": {},
     "output_type": "execute_result"
    }
   ],
   "source": [
    "s = a*math.sinh(144/a)  # length\n",
    "s"
   ]
  },
  {
   "cell_type": "code",
   "execution_count": 17,
   "metadata": {},
   "outputs": [
    {
     "data": {
      "text/plain": [
       "9.438922720817118"
      ]
     },
     "execution_count": 17,
     "metadata": {},
     "output_type": "execute_result"
    }
   ],
   "source": [
    "lll = a*math.cosh(144/a)-a   # похоже на стрелу провеса ??\n",
    "lll"
   ]
  },
  {
   "cell_type": "code",
   "execution_count": 18,
   "metadata": {},
   "outputs": [
    {
     "data": {
      "text/plain": [
       "144.0052530291864"
      ]
     },
     "execution_count": 18,
     "metadata": {},
     "output_type": "execute_result"
    }
   ],
   "source": [
    "(144**2+1.23**2)**(1/2)  # длина по прямой между ТК"
   ]
  },
  {
   "cell_type": "markdown",
   "metadata": {},
   "source": [
    "итак, основная формула получается:    \n",
    "    <b> a * math.cosh((x-d)/a) - a + z_min </b>   \n",
    "    a - коэфф кривой  \n",
    "    x - расстояние по x от нижней точки  \n",
    "    d - сдвиг по оси от начала до перегиба  \n",
    "    z_min - абсолютная высота нижней точки   \n",
    "\n",
    "тут надо понимать что начало координат находится в нижней точке - в точке перегиба кривой\n"
   ]
  },
  {
   "cell_type": "markdown",
   "metadata": {},
   "source": [
    " - - - - - - - - - - - - - - -     \n",
    " попробуем определить высоты конечных точек получаемой аппроксимации"
   ]
  },
  {
   "cell_type": "code",
   "execution_count": 19,
   "metadata": {},
   "outputs": [
    {
     "data": {
      "text/plain": [
       "(array([ 0.   , 35.334]), array([-144.07200006,   34.103     ]))"
      ]
     },
     "execution_count": 19,
     "metadata": {},
     "output_type": "execute_result"
    }
   ],
   "source": [
    "st_p, end_p = ts_appr_r[0], ts_appr_r[-1]  # start and end points\n",
    "st_p, end_p"
   ]
  },
  {
   "cell_type": "code",
   "execution_count": 20,
   "metadata": {},
   "outputs": [],
   "source": [
    "# еще раз определим функцию\n",
    "def curve(x, a, zmin):\n",
    "    y = a*math.cosh(x/a)-a+zmin\n",
    "    return y\n"
   ]
  },
  {
   "cell_type": "code",
   "execution_count": 21,
   "metadata": {},
   "outputs": [
    {
     "data": {
      "text/plain": [
       "59.408273330192976"
      ]
     },
     "execution_count": 21,
     "metadata": {},
     "output_type": "execute_result"
    }
   ],
   "source": [
    "curve(72, 100, 32.349)"
   ]
  },
  {
   "cell_type": "markdown",
   "metadata": {},
   "source": [
    "идея такая - возьмем середину пролета как начало и усредним высоты ТК, для такого состояния найдем подходящий коэффицент а, такой чтобы у был равен усредненной высоте. далее будем сдвигать центр и тк, и смотреть как ложится на них кривая. "
   ]
  },
  {
   "cell_type": "code",
   "execution_count": 22,
   "metadata": {},
   "outputs": [],
   "source": [
    "# находим предварительный уровень кривой\n",
    "\n",
    "def fit_cur(tk1, tk2, arr):\n",
    "    def curve(x, a, zmin):\n",
    "        y = a*math.cosh(x/a)-a+zmin\n",
    "        return y\n",
    "    \n",
    "    zmin = min(arr[:,1])\n",
    "    x_ini = (tk1[0]+tk2[0])/2\n",
    "    z_ini = (tk1[1]+tk2[1])/2\n",
    "    d = 0.05   # разница которой достаточно чтобы остановить подбор\n",
    "    z = 0\n",
    "    a = a2 = 10000   \n",
    "    a1 = 1\n",
    "    iter_ = 0\n",
    "    z_d = z_ini - curve(x_ini, a, zmin)\n",
    "    print(z_d)\n",
    "    while abs(z_d) > d:\n",
    "        if curve(x_ini, a, zmin) < z_ini:\n",
    "            a2 = a\n",
    "            a = (a2 - a1)/2\n",
    "            iter_ +=1\n",
    "            print(a, a1, a2, iter_)\n",
    "        else:\n",
    "            a1 = a\n",
    "            a = (a2 + a1)/2\n",
    "            iter_ +=1\n",
    "            print(a, a1, a2, iter_)\n",
    "        z_d = z_ini - curve(x_ini, a, zmin)\n",
    "        print(z_d)\n",
    "    \n",
    "    return a"
   ]
  },
  {
   "cell_type": "code",
   "execution_count": 23,
   "metadata": {
    "scrolled": false
   },
   "outputs": [
    {
     "name": "stdout",
     "output_type": "stream",
     "text": [
      "2.1100396130143437\n",
      "4999.5 1 10000 1\n",
      "1.850520594321317\n",
      "2499.25 1 4999.5 2\n",
      "1.331279621743981\n",
      "1249.125 1 2499.25 3\n",
      "0.2917961620494154\n",
      "624.0625 1 1249.125 4\n",
      "-1.7927030616243727\n",
      "936.59375 624.0625 1249.125 5\n",
      "-0.4021092955381462\n",
      "1092.859375 936.59375 1249.125 6\n",
      "-0.005491936502728834\n"
     ]
    },
    {
     "data": {
      "text/plain": [
       "1092.859375"
      ]
     },
     "execution_count": 23,
     "metadata": {},
     "output_type": "execute_result"
    }
   ],
   "source": [
    "fit_cur(st_p, end_p, ts_appr_r)"
   ]
  },
  {
   "cell_type": "code",
   "execution_count": 24,
   "metadata": {},
   "outputs": [
    {
     "data": {
      "text/plain": [
       "(array([ 0.   , 35.334]), array([-144.07200006,   34.103     ]))"
      ]
     },
     "execution_count": 24,
     "metadata": {},
     "output_type": "execute_result"
    }
   ],
   "source": [
    "st_p, end_p"
   ]
  },
  {
   "cell_type": "code",
   "execution_count": 25,
   "metadata": {},
   "outputs": [
    {
     "name": "stdout",
     "output_type": "stream",
     "text": [
      "-0.6258623470327791 0.6041376529672178 -72.03600002770968\n",
      "1.1569459975630991 -2.369364748866012 -144.07200005541935 -72.03600002770968 -108.0540000415645\n",
      "0.41422701882905244 -0.7336049879529511 -108.0540000415645 -72.03600002770968 -90.0450000346371\n",
      "-0.06863058163591518 -0.027506166283949085 -90.0450000346371 -72.03600002770968 -81.0405000311734\n",
      "0.18209281872466931 -0.37124581981128557 -90.0450000346371 -81.0405000311734 -85.54275003290525\n",
      "0.059055027541973004 -0.1970489263321653 -85.54275003290525 -81.0405000311734 -83.29162503203932\n",
      "-0.004206766346868562 -0.11169582512388132 -83.29162503203932 -81.0405000311734 -82.16606253160636\n",
      "-0.0362734170673491 -0.06945557102721267 -82.16606253160636 -81.0405000311734 -81.60328128138988\n",
      "-0.052415684585383815 -0.0484445131846698 -81.60328128138988 -81.0405000311734 -81.32189065628164\n"
     ]
    }
   ],
   "source": [
    "# выравниваем по оси Х\n",
    "\n",
    "xl, xr = end_p[0], 0\n",
    "mp = (xl + xr)/2\n",
    "lz_ok = 34.1\n",
    "rz_ok = 35.33\n",
    "dl = lz_ok - curve((end_p[0]-mp), 1092, 32.349)\n",
    "dr = rz_ok - curve((0-mp), 1092, 32.349)\n",
    "dd = dl-dr\n",
    "print(dl, dr, mp)\n",
    "while abs(dd) > 0.01:\n",
    "    if dd > 0:\n",
    "        xl = mp\n",
    "        mp = (xl + xr)/2\n",
    "    else:\n",
    "        xr = mp\n",
    "        mp = (xl + xr)/2\n",
    "    dl = lz_ok - curve((end_p[0]-mp), 1092, 32.349)\n",
    "    dr = rz_ok - curve((0-mp), 1092, 32.349)\n",
    "    dd = dl-dr\n",
    "    print(dl, dr, xl, xr, mp)"
   ]
  },
  {
   "cell_type": "markdown",
   "metadata": {},
   "source": [
    "дальше надо уточнять коэф кривой методом наименьших квадратов"
   ]
  },
  {
   "cell_type": "markdown",
   "metadata": {},
   "source": [
    "метод наименьших квадратов -  сумма (y1 - f(x1))2 + (y2 - f(x2))2 + ...   \n",
    "т.е. сложить квадраты отклонений - чем меньше сумма тем лучше"
   ]
  },
  {
   "cell_type": "code",
   "execution_count": 26,
   "metadata": {},
   "outputs": [],
   "source": [
    "# напишем функцию вычисляющую сумму наименьших квадратов \n",
    "\n",
    "def mnk(arr, a, zmin, d):\n",
    "    def curve(x, a, zmin):\n",
    "        y = a*math.cosh(x/a)-a+zmin\n",
    "        return y\n",
    "    sk = 0\n",
    "    for i in arr:\n",
    "         sk += (curve((i[0]-d), a, zmin) - i[1])**2\n",
    "    \n",
    "    return sk\n"
   ]
  },
  {
   "cell_type": "code",
   "execution_count": 27,
   "metadata": {},
   "outputs": [
    {
     "data": {
      "text/plain": [
       "0.06060187141483437"
      ]
     },
     "execution_count": 27,
     "metadata": {},
     "output_type": "execute_result"
    }
   ],
   "source": [
    "mnk(pts_r, 1108, 32.35, -81.32)"
   ]
  },
  {
   "cell_type": "markdown",
   "metadata": {},
   "source": [
    "дальше идет подбор уровня кривой при заданной высоте нижней точки.   \n",
    "важно найти эту точку правильно - по центру ТЛО, иначе кривая будет не совсем точно отражать ТЛО"
   ]
  },
  {
   "cell_type": "code",
   "execution_count": 41,
   "metadata": {},
   "outputs": [
    {
     "name": "stdout",
     "output_type": "stream",
     "text": [
      "20000 1 330.59275449268495 4.9866692610612274e+70\n",
      "10000.5 1 292.914048733829 4.9866692610612274e+70\n",
      "5000.75 1 224.4033666000483 4.9866692610612274e+70\n",
      "2500.875 1 114.74871029843534 4.9866692610612274e+70\n",
      "1250.9375 1 4.786724526524341 4.9866692610612274e+70\n",
      "1250.9375 625.96875 4.786724526524341 221.9676559697035\n",
      "1250.9375 938.453125 4.786724526524341 12.416843083039106\n",
      "1250.9375 1094.6953125 4.786724526524341 0.12949754988632686\n",
      "1172.81640625 1094.6953125 1.1335930921080686 0.12949754988632686\n",
      "1133.755859375 1094.6953125 0.2265765147479831 0.12949754988632686\n",
      "1114.2255859375 1094.6953125 0.06581281043354138 0.12949754988632686\n",
      "1114.2255859375 1104.46044921875 0.06581281043354138 0.0680971460917516\n",
      "1109.343017578125 1104.46044921875 0.059759429078067014 0.0680971460917516\n",
      "1109.343017578125 1106.9017333984375 0.059759429078067014 0.06210555621264989\n",
      "1108.1223754882812\n"
     ]
    }
   ],
   "source": [
    "\n",
    "z = 32.35\n",
    "p = 0.001\n",
    "a_min = 1\n",
    "a_max = 20000\n",
    "v = mnk(pts_r, a, z, -81.32)\n",
    "\n",
    "\n",
    "while abs(mnk(pts_r, a_max, z, -81.32) - mnk(pts_r, a_min, z, -81.32)) > p:\n",
    "    print(a_max, a_min, mnk(pts_r, a_max, z, -81.32), mnk(pts_r, a_min, z, -81.32))\n",
    "    if mnk(pts_r, (a_min+a_max)/2, z, -81.32) < mnk(pts_r, a_max, z, -81.32):\n",
    "        if mnk(pts_r, (a_min+a_max)/2, z, -81.32) > mnk(pts_r, ((a_min+a_max)/2)+1, z, -81.32):\n",
    "            a_min = (a_min+a_max)/2\n",
    "        else:\n",
    "            a_max = (a_min+a_max)/2\n",
    "    else:\n",
    "        if mnk(pts_r, (a_min+a_max)/2, z, -81.32) > mnk(pts_r, ((a_min+a_max)/2)-1, z, -81.32):\n",
    "            a_max = (a_min+a_max)/2\n",
    "        else:\n",
    "            a_min = (a_min+a_max)/2\n",
    "    \n",
    "    \n",
    "print(a_min)    \n",
    "    \n"
   ]
  },
  {
   "cell_type": "code",
   "execution_count": 56,
   "metadata": {},
   "outputs": [
    {
     "data": {
      "text/plain": [
       "[<matplotlib.lines.Line2D at 0x1bb7d2f42b0>]"
      ]
     },
     "execution_count": 56,
     "metadata": {},
     "output_type": "execute_result"
    },
    {
     "data": {
      "image/png": "[encoded data removed]",
      "text/plain": [
       "<Figure size 432x288 with 1 Axes>"
      ]
     },
     "metadata": {
      "needs_background": "light"
     },
     "output_type": "display_data"
    }
   ],
   "source": [
    "# нарисуем\n",
    "xx = np.linspace(st_p[0], end_p[0], 50)  # генерим массив х в 50 штук\n",
    "a = 1108.12\n",
    "dx = -81.32\n",
    "\n",
    "def z(f):\n",
    "    zz = []\n",
    "    for i in f:\n",
    "        zz.append(a*math.cosh((i-dx)/a)-a+32.35)\n",
    "    return zz\n",
    "\n",
    "plt.plot(ts_appr_r[:,0], ts_appr_r[:,1], 'o')\n",
    "plt.plot(xx, z(xx), 'r--')\n"
   ]
  },
  {
   "cell_type": "markdown",
   "metadata": {},
   "source": [
    "в итоге таков метод расчета аппроксимации, но есть одно условие - мы должны знать высоту нижней точки провода - от этого зависит итоговая точность аппроксимации"
   ]
  },
  {
   "cell_type": "markdown",
   "metadata": {},
   "source": [
    "в будущем желательно доработать так чтобы небыло зависимости от нижней точки и можно было строить кривую по двум ТК и одной точки на проводе"
   ]
  },
  {
   "cell_type": "code",
   "execution_count": null,
   "metadata": {},
   "outputs": [],
   "source": []
  }
 ],
 "metadata": {
  "kernelspec": {
   "display_name": "Python 3",
   "language": "python",
   "name": "python3"
  },
  "language_info": {
   "codemirror_mode": {
    "name": "ipython",
    "version": 3
   },
   "file_extension": ".py",
   "mimetype": "text/x-python",
   "name": "python",
   "nbconvert_exporter": "python",
   "pygments_lexer": "ipython3",
   "version": "3.9.1"
  }
 },
 "nbformat": 4,
 "nbformat_minor": 4
}
