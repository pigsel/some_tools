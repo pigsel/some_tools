{
 "cells": [
  {
   "cell_type": "markdown",
   "metadata": {},
   "source": [
    "программа для вывода таблицы негабаритов  \n",
    "и подготовки данных для формирования фото в QGIS"
   ]
  },
  {
   "cell_type": "markdown",
   "metadata": {},
   "source": [
    "ToDo list\n",
    "\n",
    "ok - чтение центрлайн, удаление дубликатов\n",
    "- чтение спецификации - добавление ид-номеров опор\n",
    "- разбиение на центрлайны (создать лист последовательностей опор - из спецификации)\n",
    "- чтение файлов негабаритов - создание таблицы\n",
    "- вывод таблицы негабаритов в xls \n",
    "- таблица под qgis - пролеты с негабаритами, негабаритные точки, длины пролетов\n",
    "- добавить обрезку длинных пролетов\n",
    "- далее два варианта развития - или читать всё из qgis, либо с помошью модуля геопанды сделать файл gpkg и уже его читать кугисом. чтобы не мудрить с установкой геопанды (ее может не быть на компьютере пользователей) предпочтителен первый вариант. \n",
    "- сделать интерфейс\n",
    "\n"
   ]
  },
  {
   "cell_type": "code",
   "execution_count": 7,
   "metadata": {},
   "outputs": [],
   "source": [
    "from pathlib import Path\n",
    "import openpyxl\n",
    "from math import sqrt"
   ]
  },
  {
   "cell_type": "code",
   "execution_count": 2,
   "metadata": {},
   "outputs": [],
   "source": [
    "# paths to files\n",
    "p = Path(r'D:\\work\\_TP\\test\\vcia\\qgis')  #work dir\n",
    "p_str = p / '634_cgtow.pts'\n"
   ]
  },
  {
   "cell_type": "code",
   "execution_count": 3,
   "metadata": {},
   "outputs": [],
   "source": [
    "def centerline(p_str):\n",
    "    # чтение файла координат опор c рабочей нумерацией и запись его в лист\n",
    "    str = []  # list of structures\n",
    "    with open(p_str) as ffile:\n",
    "        for line in ffile:\n",
    "            stroka = line.strip('\\n').split()\n",
    "            # ctow file should contain work-id, x, y, z in each row\n",
    "            if len(stroka) == 4:\n",
    "                # check if coords already in list (delete doubles with different names)\n",
    "                dub = 0\n",
    "                for i in range(len(str)):\n",
    "                    # compare x y z written in list \n",
    "                    if (str[i][1], str[i][2], str[i][3]) == (float(stroka[1]), float(stroka[2]), float(stroka[3])):\n",
    "                        dub +=1\n",
    "                if dub < 1:\n",
    "                    # if there are no such coords, we can write new one\n",
    "                    str.append((int(stroka[0]), float(stroka[1]), float(stroka[2]), float(stroka[3])))\n",
    "            elif len(stroka) == 0:\n",
    "                # if there is blank stroke in the file\n",
    "                print('blank')\n",
    "            else:\n",
    "                # if stroke looks weird\n",
    "                print('ctow file error')\n",
    "\n",
    "    print(f'загружено опор: {len(str)}')\n",
    "    #print(str)\n",
    "\n",
    "    return str"
   ]
  },
  {
   "cell_type": "code",
   "execution_count": 4,
   "metadata": {},
   "outputs": [
    {
     "name": "stdout",
     "output_type": "stream",
     "text": [
      "blank\n",
      "загружено опор: 63\n"
     ]
    }
   ],
   "source": [
    "str = centerline(p_str)"
   ]
  },
  {
   "cell_type": "markdown",
   "metadata": {},
   "source": [
    "далее прочитать спецификацию и взять оттуда ID нумерацию и номер центрлайн"
   ]
  },
  {
   "cell_type": "code",
   "execution_count": 5,
   "metadata": {},
   "outputs": [],
   "source": []
  },
  {
   "cell_type": "code",
   "execution_count": null,
   "metadata": {},
   "outputs": [],
   "source": []
  },
  {
   "cell_type": "code",
   "execution_count": 33,
   "metadata": {},
   "outputs": [],
   "source": []
  },
  {
   "cell_type": "code",
   "execution_count": null,
   "metadata": {},
   "outputs": [],
   "source": []
  },
  {
   "cell_type": "code",
   "execution_count": null,
   "metadata": {},
   "outputs": [],
   "source": []
  },
  {
   "cell_type": "code",
   "execution_count": null,
   "metadata": {},
   "outputs": [],
   "source": []
  }
 ],
 "metadata": {
  "kernelspec": {
   "display_name": "Python 3",
   "language": "python",
   "name": "python3"
  },
  "language_info": {
   "codemirror_mode": {
    "name": "ipython",
    "version": 3
   },
   "file_extension": ".py",
   "mimetype": "text/x-python",
   "name": "python",
   "nbconvert_exporter": "python",
   "pygments_lexer": "ipython3",
   "version": "3.9.1"
  }
 },
 "nbformat": 4,
 "nbformat_minor": 4
}
