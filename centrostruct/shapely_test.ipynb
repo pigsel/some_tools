{
 "cells": [
  {
   "cell_type": "code",
   "execution_count": 20,
   "metadata": {},
   "outputs": [],
   "source": [
    "import geopandas as gpd\n",
    "from shapely.geometry import Point, MultiPoint, Polygon\n",
    "import numpy as np\n",
    "import matplotlib.pyplot as plt"
   ]
  },
  {
   "cell_type": "code",
   "execution_count": 29,
   "metadata": {},
   "outputs": [],
   "source": [
    "# массив ТЛО опоры\n",
    "list_1 = [[184706907, 576535759, 41029],\n",
    " [184706892, 576535770, 41006],\n",
    " [184707037, 576535996, 40855],\n",
    " [184706797, 576535831, 40873],\n",
    " [184707018, 576536009, 40831],\n",
    " [184706693, 576535903, 40712],\n",
    " [184706594, 576535968, 40405],\n",
    " [184706597, 576535963, 40448],\n",
    " [184706580, 576535969, 40461],\n",
    " [184706591, 576535979, 40455],\n",
    " [184706509, 576536019, 40451],\n",
    " [184706497, 576536033, 40446],\n",
    " [184706482, 576536034, 40370]]\n"
   ]
  },
  {
   "cell_type": "code",
   "execution_count": 106,
   "metadata": {},
   "outputs": [],
   "source": [
    "mp = MultiPoint(list_1)"
   ]
  },
  {
   "cell_type": "code",
   "execution_count": 107,
   "metadata": {},
   "outputs": [
    {
     "name": "stdout",
     "output_type": "stream",
     "text": [
      "POINT (184706707.2307692 576535941)\n"
     ]
    }
   ],
   "source": [
    "c = mp.centroid\n",
    "print(c)"
   ]
  },
  {
   "cell_type": "code",
   "execution_count": 108,
   "metadata": {},
   "outputs": [],
   "source": [
    "b = c.buffer(250)"
   ]
  },
  {
   "cell_type": "code",
   "execution_count": 109,
   "metadata": {},
   "outputs": [],
   "source": [
    "cut = mp.intersection(b)"
   ]
  },
  {
   "cell_type": "code",
   "execution_count": 110,
   "metadata": {},
   "outputs": [],
   "source": [
    "l1 = np.array(cut)"
   ]
  },
  {
   "cell_type": "code",
   "execution_count": 111,
   "metadata": {},
   "outputs": [
    {
     "data": {
      "text/plain": [
       "array([1.84706482e+08, 1.84706497e+08, 1.84706509e+08, 1.84706580e+08,\n",
       "       1.84706591e+08, 1.84706594e+08, 1.84706597e+08, 1.84706693e+08,\n",
       "       1.84706797e+08])"
      ]
     },
     "execution_count": 111,
     "metadata": {},
     "output_type": "execute_result"
    }
   ],
   "source": [
    "l1[:,0]"
   ]
  },
  {
   "cell_type": "code",
   "execution_count": 112,
   "metadata": {},
   "outputs": [],
   "source": [
    "X = l1[:,0].reshape(-1, 1)\n",
    "y = l1[:,1]"
   ]
  },
  {
   "cell_type": "code",
   "execution_count": 113,
   "metadata": {},
   "outputs": [
    {
     "data": {
      "text/plain": [
       "array([[1.84706482e+08],\n",
       "       [1.84706497e+08],\n",
       "       [1.84706509e+08],\n",
       "       [1.84706580e+08],\n",
       "       [1.84706591e+08],\n",
       "       [1.84706594e+08],\n",
       "       [1.84706597e+08],\n",
       "       [1.84706693e+08],\n",
       "       [1.84706797e+08]])"
      ]
     },
     "execution_count": 113,
     "metadata": {},
     "output_type": "execute_result"
    }
   ],
   "source": [
    "X"
   ]
  },
  {
   "cell_type": "code",
   "execution_count": 117,
   "metadata": {},
   "outputs": [
    {
     "name": "stdout",
     "output_type": "stream",
     "text": [
      "Slope: -0.65\n",
      "Intercept: 696801941.90\n"
     ]
    }
   ],
   "source": [
    "from sklearn.linear_model import LinearRegression\n",
    "slr = LinearRegression()\n",
    "slr.fit(X, y)\n",
    "y_pred = slr.predict(X)\n",
    "print('Slope: {:.2f}'.format(slr.coef_[0]))\n",
    "print('Intercept: {:.2f}'.format(slr.intercept_))"
   ]
  },
  {
   "cell_type": "code",
   "execution_count": 115,
   "metadata": {
    "scrolled": true
   },
   "outputs": [
    {
     "data": {
      "text/plain": [
       "[<matplotlib.lines.Line2D at 0x1a1df464910>]"
      ]
     },
     "execution_count": 115,
     "metadata": {},
     "output_type": "execute_result"
    },
    {
     "data": {
      "image/png": "[encoded data removed]",
      "text/plain": [
       "<Figure size 432x288 with 1 Axes>"
      ]
     },
     "metadata": {
      "needs_background": "light"
     },
     "output_type": "display_data"
    }
   ],
   "source": [
    "plt.scatter(X, y)\n",
    "plt.plot(X, slr.predict(X), color='red', linewidth=2)"
   ]
  },
  {
   "cell_type": "code",
   "execution_count": 116,
   "metadata": {},
   "outputs": [
    {
     "name": "stdout",
     "output_type": "stream",
     "text": [
      "r2_score: 0.994\n",
      "MAE: 3.970\n",
      "MSE: 24.334\n",
      "MedAE: 2.944\n"
     ]
    }
   ],
   "source": [
    "from sklearn.metrics import mean_absolute_error, mean_squared_error, median_absolute_error, r2_score\n",
    "print('r2_score: {:.3f}'.format(r2_score(y, slr.predict(X))))\n",
    "print('MAE: {:.3f}'.format(mean_absolute_error(y, slr.predict(X))))\n",
    "print('MSE: {:.3f}'.format(mean_squared_error(y, slr.predict(X))))\n",
    "print('MedAE: {:.3f}'.format(median_absolute_error(y, slr.predict(X))))"
   ]
  },
  {
   "cell_type": "code",
   "execution_count": null,
   "metadata": {},
   "outputs": [],
   "source": []
  },
  {
   "cell_type": "code",
   "execution_count": 63,
   "metadata": {},
   "outputs": [],
   "source": [
    "poly = cut.convex_hull\n",
    "poly_buf = poly.buffer(100)\n",
    "poly_c = poly_buf.centroid"
   ]
  },
  {
   "cell_type": "code",
   "execution_count": 64,
   "metadata": {},
   "outputs": [],
   "source": [
    "rect = cut.minimum_rotated_rectangle\n",
    "rect_c = rect.centroid"
   ]
  },
  {
   "cell_type": "code",
   "execution_count": 65,
   "metadata": {},
   "outputs": [
    {
     "data": {
      "text/plain": [
       "<AxesSubplot:>"
      ]
     },
     "execution_count": 65,
     "metadata": {},
     "output_type": "execute_result"
    },
    {
     "data": {
      "image/png": "[encoded data removed]",
      "text/plain": [
       "<Figure size 432x288 with 1 Axes>"
      ]
     },
     "metadata": {
      "needs_background": "light"
     },
     "output_type": "display_data"
    }
   ],
   "source": [
    "ax = gpd.GeoSeries(mp).plot()\n",
    "gpd.GeoSeries(b).plot(ax=ax, color='grey', alpha=0.3)\n",
    "\n",
    "gpd.GeoSeries(cut).plot(ax=ax, color='white')\n",
    "#gpd.GeoSeries(poly).plot(ax=ax, color='blue', alpha=0.3)\n",
    "#gpd.GeoSeries(poly_buf).plot(ax=ax, color='yellow', alpha=0.3)\n",
    "gpd.GeoSeries(rect).plot(ax=ax, color='green', alpha=0.3)\n",
    "gpd.GeoSeries(rect_c).plot(ax=ax, color='green')\n",
    "gpd.GeoSeries(poly_c).plot(ax=ax, color='blue')"
   ]
  },
  {
   "cell_type": "code",
   "execution_count": 10,
   "metadata": {},
   "outputs": [],
   "source": [
    "z_m = np.mean(mp, axis=0)[2] "
   ]
  },
  {
   "cell_type": "code",
   "execution_count": 11,
   "metadata": {},
   "outputs": [
    {
     "data": {
      "text/plain": [
       "(41029.0, 40370.0)"
      ]
     },
     "execution_count": 11,
     "metadata": {},
     "output_type": "execute_result"
    }
   ],
   "source": [
    "np.max(mp, axis=0)[2], np.min(mp, axis=0)[2]"
   ]
  },
  {
   "cell_type": "code",
   "execution_count": 12,
   "metadata": {},
   "outputs": [],
   "source": [
    "mp_z = []\n",
    "for i in range(len(mp)):\n",
    "    if mp[i].z > z_m:\n",
    "        mp_z.append(mp[i])\n",
    "mp_z = MultiPoint(mp_z)"
   ]
  },
  {
   "cell_type": "code",
   "execution_count": 13,
   "metadata": {},
   "outputs": [
    {
     "name": "stdout",
     "output_type": "stream",
     "text": [
      "POINT Z (184706892 576535770 41006)\n"
     ]
    }
   ],
   "source": [
    "print(mp_z[1])"
   ]
  },
  {
   "cell_type": "code",
   "execution_count": 17,
   "metadata": {},
   "outputs": [],
   "source": [
    "# x-y bounding box is a (minx, miny, maxx, maxy) tuple\n",
    "bo = mp.bounds\n",
    "bo_xmin = bo[0]\n",
    "bo_xmax = bo[2]\n",
    "bo_ymin = bo[1]\n",
    "bo_ymax = bo[3]"
   ]
  },
  {
   "cell_type": "code",
   "execution_count": 35,
   "metadata": {},
   "outputs": [
    {
     "name": "stdout",
     "output_type": "stream",
     "text": [
      "184706482.0 576535759.0 184707037.0 576536183.0\n"
     ]
    }
   ],
   "source": [
    "print(bo_xmin,\n",
    "bo_xmax,\n",
    "bo_ymin,\n",
    "bo_ymax)"
   ]
  },
  {
   "cell_type": "code",
   "execution_count": 45,
   "metadata": {},
   "outputs": [],
   "source": [
    "def ifinbounds(x, y, bounds):\n",
    "    if bounds[2] >= x >= bounds[0] and bounds[3] >= y >= bounds[1]:\n",
    "        return True\n",
    "    else: \n",
    "        return False"
   ]
  },
  {
   "cell_type": "code",
   "execution_count": 55,
   "metadata": {},
   "outputs": [
    {
     "data": {
      "text/plain": [
       "True"
      ]
     },
     "execution_count": 55,
     "metadata": {},
     "output_type": "execute_result"
    }
   ],
   "source": [
    "test_x, test_y = 184706690, 576535964\n",
    "ifinbounds(test_x, test_y, bo)"
   ]
  }
 ],
 "metadata": {
  "kernelspec": {
   "display_name": "Python 3 (ipykernel)",
   "language": "python",
   "name": "python3"
  },
  "language_info": {
   "codemirror_mode": {
    "name": "ipython",
    "version": 3
   },
   "file_extension": ".py",
   "mimetype": "text/x-python",
   "name": "python",
   "nbconvert_exporter": "python",
   "pygments_lexer": "ipython3",
   "version": "3.9.12"
  }
 },
 "nbformat": 4,
 "nbformat_minor": 4
}
