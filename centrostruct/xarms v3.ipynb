{
 "cells": [
  {
   "cell_type": "markdown",
   "id": "3d273f27",
   "metadata": {},
   "source": [
    "here we found just xarms start level and angle\n",
    "\n",
    "previous version doesn't work well with strain structures, due to insulators points"
   ]
  },
  {
   "cell_type": "code",
   "execution_count": 1,
   "id": "a299f40e",
   "metadata": {},
   "outputs": [],
   "source": [
    "from pathlib import Path\n",
    "import csv\n",
    "import numpy as np\n",
    "import matplotlib.pyplot as plt\n",
    "from shapely.geometry import Point, MultiPoint, Polygon, LineString"
   ]
  },
  {
   "cell_type": "code",
   "execution_count": 2,
   "id": "c56f716d",
   "metadata": {},
   "outputs": [],
   "source": [
    "#p = Path(r'/home/igor/Documents/some_tools/structure_samples/xyz')   # for linux\n",
    "p = Path(r'D:\\work\\2022_m\\training\\ok\\temp')"
   ]
  },
  {
   "cell_type": "code",
   "execution_count": 52,
   "id": "ad06432c",
   "metadata": {},
   "outputs": [
    {
     "name": "stdout",
     "output_type": "stream",
     "text": [
      "10_10_grd.xyz\n",
      "10_10_str.xyz\n",
      "11_11_grd.xyz\n",
      "11_11_str.xyz\n",
      "12_12_grd.xyz\n",
      "12_12_str.xyz\n",
      "13_13_grd.xyz\n",
      "13_13_str.xyz\n",
      "14_14_grd.xyz\n",
      "14_14_str.xyz\n",
      "15_15_grd.xyz\n",
      "15_15_str.xyz\n",
      "16_16_grd.xyz\n",
      "16_16_str.xyz\n",
      "17_17_grd.xyz\n",
      "17_17_str.xyz\n",
      "18_18_grd.xyz\n",
      "18_18_str.xyz\n",
      "19_19_grd.xyz\n",
      "19_19_str.xyz\n",
      "1_1_grd.xyz\n",
      "1_1_str.xyz\n",
      "20_20_grd.xyz\n",
      "20_20_str.xyz\n",
      "21_21_grd.xyz\n",
      "21_21_str.xyz\n",
      "22_22_grd.xyz\n",
      "22_22_str.xyz\n",
      "23_23_grd.xyz\n",
      "23_23_str.xyz\n",
      "24_24_grd.xyz\n",
      "24_24_str.xyz\n",
      "25_25_grd.xyz\n",
      "25_25_str.xyz\n",
      "2_2_grd.xyz\n",
      "2_2_str.xyz\n",
      "3_3_grd.xyz\n",
      "3_3_str.xyz\n",
      "4_4_grd.xyz\n",
      "4_4_str.xyz\n",
      "5_5_grd.xyz\n",
      "5_5_str.xyz\n",
      "6_6_grd.xyz\n",
      "6_6_str.xyz\n",
      "7_7_grd.xyz\n",
      "7_7_str.xyz\n",
      "8_8_grd.xyz\n",
      "8_8_str.xyz\n",
      "9_9_grd.xyz\n",
      "9_9_str.xyz\n"
     ]
    }
   ],
   "source": [
    "list_of_files = list(p.glob('*.xyz'))\n",
    "for file in list_of_files:\n",
    "    print(file.name)"
   ]
  },
  {
   "cell_type": "code",
   "execution_count": 53,
   "id": "220d1345",
   "metadata": {},
   "outputs": [],
   "source": [
    "from math import sqrt, acos, degrees\n",
    "\n",
    "def azimuth(a, b):\n",
    "    # by two points we get azimuth\n",
    "    dx = a[0] - b[0]\n",
    "    dy = a[1] - b[1]\n",
    "    dist = round(sqrt(dx*dx + dy*dy), 2)    # dist a to b\n",
    "\n",
    "    dx2 = round(abs(dx), 2)\n",
    "    \n",
    "    if dist != 0:\n",
    "        beta = degrees(acos(dx2/dist))\n",
    "    else: \n",
    "        beta = degrees(acos(0))\n",
    "\n",
    "    if dx > 0:\n",
    "        if dy < 0:\n",
    "            angle = 270 + beta\n",
    "        else:\n",
    "            angle = 270 - beta\n",
    "    else:\n",
    "        if dy < 0:\n",
    "            angle = 90 - beta\n",
    "        else:\n",
    "            angle = 90 + beta\n",
    "\n",
    "    return round(angle, 1), dist"
   ]
  },
  {
   "cell_type": "markdown",
   "id": "1dd91b95",
   "metadata": {},
   "source": [
    "start"
   ]
  },
  {
   "cell_type": "code",
   "execution_count": 54,
   "id": "77889f7e",
   "metadata": {
    "scrolled": false
   },
   "outputs": [
    {
     "data": {
      "text/plain": [
       "[[1512631.44, 5365947.59, 69.86],\n",
       " [1512631.45, 5365947.42, 70.65],\n",
       " [1512631.19, 5365946.89, 70.53],\n",
       " [1512631.06, 5365946.44, 71.08],\n",
       " [1512631.5, 5365947.34, 71.29]]"
      ]
     },
     "execution_count": 54,
     "metadata": {},
     "output_type": "execute_result"
    }
   ],
   "source": [
    "spam_file = p / '2_2_str.xyz'\n",
    "str = []\n",
    "with spam_file.open() as f:\n",
    "        spamreader = csv.reader(f, delimiter=' ', quoting=csv.QUOTE_NONNUMERIC, skipinitialspace=True)\n",
    "        for row in spamreader:\n",
    "            str.append(row)\n",
    "str[:5]"
   ]
  },
  {
   "cell_type": "code",
   "execution_count": 55,
   "id": "4e144b70",
   "metadata": {},
   "outputs": [],
   "source": [
    "# to np array and cut 1/3 from grd\n",
    "np_str = np.array(str)\n",
    "np_str_cut = np.delete(np_str, np_str[:,2]<((max(np_str[:,2])-min(np_str[:,2]))/3 + min(np_str[:,2])), 0)"
   ]
  },
  {
   "cell_type": "code",
   "execution_count": 56,
   "id": "17b65c76",
   "metadata": {},
   "outputs": [],
   "source": [
    "#lets find center \n",
    "cpoint = MultiPoint(np_str_cut[:,:2]).minimum_rotated_rectangle.centroid"
   ]
  },
  {
   "cell_type": "code",
   "execution_count": 57,
   "id": "fdaa7fc7",
   "metadata": {},
   "outputs": [],
   "source": [
    "# now add to all the points dist to cpoint and azimuth\n",
    "b = []\n",
    "for i in np_str_cut:\n",
    "    b.append(azimuth((cpoint.x, cpoint.y), (i[0], i[1])))\n",
    "np_str_dist = np.append(np_str_cut, np.array(b), axis=1)  # new array with azimuth and distance from cpoint "
   ]
  },
  {
   "cell_type": "code",
   "execution_count": 58,
   "id": "c5504c39",
   "metadata": {
    "scrolled": true
   },
   "outputs": [
    {
     "data": {
      "image/png": "[encoded data removed]",
      "text/plain": [
       "<Figure size 432x288 with 1 Axes>"
      ]
     },
     "metadata": {
      "needs_background": "light"
     },
     "output_type": "display_data"
    }
   ],
   "source": [
    "# visualise\n",
    "new_a = plt.hist(np_str_dist[:, 2], int(max(np_str_dist[:, 2]) - min(np_str_dist[:, 2])), orientation='horizontal')"
   ]
  },
  {
   "cell_type": "markdown",
   "id": "f68c91ec",
   "metadata": {},
   "source": [
    "для опор типа 110 кв желательно разбивать на сегменты по 1м, и выбирать три самых больших - из них самый нижний."
   ]
  },
  {
   "cell_type": "code",
   "execution_count": 59,
   "id": "089ac0d5",
   "metadata": {},
   "outputs": [],
   "source": [
    "def xarms_levels(array, segment_size):\n",
    "    segmented = []\n",
    "    start = min(array)\n",
    "    end = start + segment_size\n",
    "    while end < max(array):\n",
    "        segmented.append(sum(end > i > start for i in array))\n",
    "        start += segment_size\n",
    "        end += segment_size\n",
    "\n",
    "        \n",
    "    # then choose only bigger than mean *2\n",
    "    ma = []\n",
    "    biggest = 0\n",
    "    biggest_nu = 0\n",
    "    for nu, i in enumerate(segmented):\n",
    "        if i > (np.mean(segmented)*1.8):\n",
    "            ma.append(round((min(array) + segment_size*nu), 1))\n",
    "        if i > biggest:\n",
    "            biggest = i\n",
    "            biggest_nu = nu\n",
    "    \n",
    "    big_one = round((min(array) + segment_size*biggest_nu), 1)\n",
    "    \n",
    "    return sorted(ma), big_one"
   ]
  },
  {
   "cell_type": "code",
   "execution_count": 60,
   "id": "141c022a",
   "metadata": {},
   "outputs": [],
   "source": [
    "def xarms_levels2(array, segment_size):\n",
    "    segmented = []\n",
    "    start = min(array)\n",
    "    end = start + segment_size\n",
    "    while end < max(array):\n",
    "        segmented.append(sum(end > i > start for i in array))\n",
    "        start += segment_size\n",
    "        end += segment_size\n",
    "\n",
    "        \n",
    "    # then choose only bigger than max value*0.4\n",
    "    ma = []\n",
    "    biggest = 0\n",
    "    biggest_nu = 0\n",
    "    for nu, i in enumerate(segmented):\n",
    "        if i > max(segmented)*0.4:\n",
    "            ma.append(round((min(array) + segment_size*nu), 1))\n",
    "        if i > biggest:\n",
    "            biggest = i\n",
    "            biggest_nu = nu\n",
    "    \n",
    "    big_one = round((min(array) + segment_size*biggest_nu), 1)\n",
    "    \n",
    "    return sorted(ma), big_one"
   ]
  },
  {
   "cell_type": "code",
   "execution_count": 61,
   "id": "11ab4e04",
   "metadata": {},
   "outputs": [],
   "source": [
    "# then group them if they close to each other\n",
    "def group_arms(levels, segment_size):\n",
    "    new_levels = [levels[0]]   # add first one\n",
    "    spam = levels[0]\n",
    "    for i in range(1, len(levels)):\n",
    "        if levels[i] == round((spam + segment_size), 1):\n",
    "            spam = levels[i]\n",
    "        else:\n",
    "            new_levels.append(levels[i])\n",
    "            spam = levels[i]\n",
    "    \n",
    "    return new_levels"
   ]
  },
  {
   "cell_type": "code",
   "execution_count": 62,
   "id": "5b3c3252",
   "metadata": {},
   "outputs": [
    {
     "data": {
      "text/plain": [
       "[80.8, 94.8, 97.8]"
      ]
     },
     "execution_count": 62,
     "metadata": {},
     "output_type": "execute_result"
    }
   ],
   "source": [
    "# try to split xarms\n",
    "first_run = xarms_levels(np_str_dist[:,2], 1)[0]   # take 1m step\n",
    "first_run"
   ]
  },
  {
   "cell_type": "code",
   "execution_count": 63,
   "id": "d2b5c8b0",
   "metadata": {},
   "outputs": [],
   "source": [
    "first_run = group_arms(first_run, 1)"
   ]
  },
  {
   "cell_type": "code",
   "execution_count": 64,
   "id": "528adced",
   "metadata": {},
   "outputs": [],
   "source": [
    "# cut again - try to get first arm - use -3 as it is 3th from top\n",
    "np_str_cut_1 = np.delete(np_str_dist, np_str_dist[:,2] < first_run[-3]-0.2, 0)   # bot side\n",
    "np_str_cut_1 = np.delete(np_str_cut_1, np_str_cut_1[:,2] > first_run[-2], 0)   # top side"
   ]
  },
  {
   "cell_type": "code",
   "execution_count": 65,
   "id": "bcf5106e",
   "metadata": {},
   "outputs": [
    {
     "data": {
      "text/plain": [
       "81.7"
      ]
     },
     "execution_count": 65,
     "metadata": {},
     "output_type": "execute_result"
    }
   ],
   "source": [
    "# second run - more accurate - 0.1m segments\n",
    "second_run = xarms_levels(np_str_cut_1[:,2], 0.1)[1]\n",
    "second_run"
   ]
  },
  {
   "cell_type": "code",
   "execution_count": 66,
   "id": "7dfd00ed",
   "metadata": {},
   "outputs": [],
   "source": [
    "# final cut - low level - 0.3m\n",
    "np_str_top = np.delete(np_str_dist, np_str_dist[:,2] < second_run-0.3, 0)"
   ]
  },
  {
   "cell_type": "code",
   "execution_count": 67,
   "id": "586245d5",
   "metadata": {},
   "outputs": [
    {
     "data": {
      "image/png": "[encoded data removed]",
      "text/plain": [
       "<Figure size 432x288 with 1 Axes>"
      ]
     },
     "metadata": {
      "needs_background": "light"
     },
     "output_type": "display_data"
    }
   ],
   "source": [
    "# visualise\n",
    "new_cut = plt.hist(np_str_top[:, 2], int(max(np_str_top[:, 2]) - min(np_str_top[:, 2]))*10, orientation='horizontal')"
   ]
  },
  {
   "cell_type": "code",
   "execution_count": 68,
   "id": "bc1bd273",
   "metadata": {},
   "outputs": [
    {
     "data": {
      "text/plain": [
       "(4.483333333333333, 4.483333333333333)"
      ]
     },
     "execution_count": 68,
     "metadata": {},
     "output_type": "execute_result"
    }
   ],
   "source": [
    "np.mean(new_cut[0]), np.average(new_cut[0])"
   ]
  },
  {
   "cell_type": "code",
   "execution_count": 69,
   "id": "e68e7fa5",
   "metadata": {},
   "outputs": [
    {
     "data": {
      "text/plain": [
       "(1512630.5705000001, 1512635.3994999998, 5365939.9350000005, 5365947.524999999)"
      ]
     },
     "execution_count": 69,
     "metadata": {},
     "output_type": "execute_result"
    },
    {
     "data": {
      "image/png": "[encoded data removed]",
      "text/plain": [
       "<Figure size 432x288 with 1 Axes>"
      ]
     },
     "metadata": {
      "needs_background": "light"
     },
     "output_type": "display_data"
    }
   ],
   "source": [
    "plt.scatter(np_str_top[:,0], np_str_top[:,1])\n",
    "plt.axis('equal')"
   ]
  },
  {
   "cell_type": "code",
   "execution_count": 70,
   "id": "b456e7f3",
   "metadata": {},
   "outputs": [
    {
     "data": {
      "text/plain": [
       "[81.7, 81.8, 85.7, 92.4, 95.4, 98.5]"
      ]
     },
     "execution_count": 70,
     "metadata": {},
     "output_type": "execute_result"
    }
   ],
   "source": [
    "# try to find each arm \n",
    "third_run = xarms_levels2(np_str_top[:,2], 0.1)[0]\n",
    "third_run"
   ]
  },
  {
   "cell_type": "code",
   "execution_count": 71,
   "id": "4dd50ac4",
   "metadata": {},
   "outputs": [
    {
     "data": {
      "text/plain": [
       "[92.4, 95.4, 98.5]"
      ]
     },
     "execution_count": 71,
     "metadata": {},
     "output_type": "execute_result"
    }
   ],
   "source": [
    "num_arms = group_arms(third_run, 0.1)[-3:]\n",
    "num_arms"
   ]
  },
  {
   "cell_type": "code",
   "execution_count": 28,
   "id": "932ba394",
   "metadata": {},
   "outputs": [],
   "source": [
    "# devide by arms and cut 1.5m from the center\n",
    "arms = []\n",
    "for i in range(len(num_arms)):\n",
    "    arm = np.delete(np_str_top, np_str_top[:,2] < (num_arms[i] - 0.2), 0)   # cut bot\n",
    "    arm = np.delete(arm, arm[:,2] > (num_arms[i] + 0.2), 0)   # cut top\n",
    "    arm = np.delete(arm, arm[:,4] < 2, 0)   # cut by len 0 - 2\n",
    "    arms.append(arm)"
   ]
  },
  {
   "cell_type": "code",
   "execution_count": 38,
   "id": "df7d7bc9",
   "metadata": {},
   "outputs": [
    {
     "name": "stdout",
     "output_type": "stream",
     "text": [
      "3 6\n"
     ]
    }
   ],
   "source": [
    "# then select by angle \n",
    "# devide to 2 part by angle\n",
    "# find angle and max len for each part\n",
    "\n",
    "first_part = []\n",
    "second_part = []\n",
    "\n",
    "for i in range(len(arms[0])):\n",
    "    if i != 0:\n",
    "        if abs(arms[0][:,3][i]-spam) > 40:\n",
    "            second_part.append(list(arms[0][i]))\n",
    "        else:\n",
    "            first_part.append(list(arms[0][i]))\n",
    "    else:\n",
    "        spam = arms[0][:,3][i]\n",
    "        first_part.append(list(arms[0][i]))\n",
    "\n",
    "print(len(first_part), len(second_part))\n"
   ]
  },
  {
   "cell_type": "code",
   "execution_count": 39,
   "id": "f984e75f",
   "metadata": {},
   "outputs": [],
   "source": [
    "def cutpart(part):\n",
    "    part = np.array(part)\n",
    "    part = np.delete(part, part[:,3] > np.mean(part[:,3])+25, 0)   # cut by angle\n",
    "    part = np.delete(part, part[:,3] < np.mean(part[:,3])-25, 0)   # cut by angle\n",
    "    part = np.delete(part, part[:,4] < max(part[:,4])-0.5, 0)   # cut -0.2 from end\n",
    "    \n",
    "    return part"
   ]
  },
  {
   "cell_type": "code",
   "execution_count": 40,
   "id": "a1f1c5ae",
   "metadata": {},
   "outputs": [],
   "source": [
    "first_part = cutpart(first_part)\n",
    "second_part = cutpart(second_part)"
   ]
  },
  {
   "cell_type": "code",
   "execution_count": 41,
   "id": "6bf4ef0e",
   "metadata": {},
   "outputs": [],
   "source": [
    "first_az, sec_az = np.mean(first_part[:, 3]), np.mean(second_part[:,3])\n",
    "first_len, sec_len = max(first_part[:, 4]), max(second_part[:,4])\n",
    "first_h, sec_h = np.mean(sorted(first_part[:, 2])[:5]), np.mean(sorted(second_part[:,2])[:5])"
   ]
  },
  {
   "cell_type": "code",
   "execution_count": 42,
   "id": "7b024a65",
   "metadata": {},
   "outputs": [
    {
     "data": {
      "text/plain": [
       "(92.44, 92.4375)"
      ]
     },
     "execution_count": 42,
     "metadata": {},
     "output_type": "execute_result"
    }
   ],
   "source": [
    "first_h, sec_h"
   ]
  },
  {
   "cell_type": "code",
   "execution_count": 43,
   "id": "60cf17ae",
   "metadata": {},
   "outputs": [],
   "source": [
    "from math import cos, sin, radians\n",
    "\n",
    "def aztocoords(az, length):\n",
    "    dx = round(sin(radians(az))*length, 2)\n",
    "    dy = round(cos(radians(az))*length, 2)\n",
    "    \n",
    "    return dx, dy"
   ]
  },
  {
   "cell_type": "code",
   "execution_count": 44,
   "id": "7d86f16c",
   "metadata": {},
   "outputs": [],
   "source": [
    "first_shift = aztocoords(first_az, first_len)\n",
    "sec_shift = aztocoords(sec_az, sec_len)"
   ]
  },
  {
   "cell_type": "code",
   "execution_count": 45,
   "id": "13fc624f",
   "metadata": {},
   "outputs": [],
   "source": [
    "st_p = (cpoint.x + first_shift[0], cpoint.y + first_shift[1])\n",
    "end_p = (cpoint.x + sec_shift[0], cpoint.y + sec_shift[1])"
   ]
  },
  {
   "cell_type": "code",
   "execution_count": 51,
   "id": "cc18f9ad",
   "metadata": {
    "scrolled": true
   },
   "outputs": [
    {
     "data": {
      "text/plain": [
       "(1512630.3879999998, 1512635.712, 5365939.9350000005, 5365947.524999999)"
      ]
     },
     "execution_count": 51,
     "metadata": {},
     "output_type": "execute_result"
    },
    {
     "data": {
      "image/png": "[encoded data removed]",
      "text/plain": [
       "<Figure size 432x288 with 1 Axes>"
      ]
     },
     "metadata": {
      "needs_background": "light"
     },
     "output_type": "display_data"
    }
   ],
   "source": [
    "plt.scatter(np_str_cut[:,0], np_str_cut[:,1])\n",
    "plt.scatter(arms[0][:,0], arms[0][:,1], color='yellow')\n",
    "#plt.scatter(second_part[:,0], second_part[:,1], color='black')\n",
    "#plt.scatter(first_part[:,0], first_part[:,1], color='black')\n",
    "plt.plot([st_p[0], end_p[0]], [st_p[1], end_p[1]], color='red')\n",
    "plt.axis('equal')"
   ]
  },
  {
   "cell_type": "code",
   "execution_count": 47,
   "id": "b69d1ba0",
   "metadata": {},
   "outputs": [],
   "source": [
    "# add z-coords to the axes"
   ]
  },
  {
   "cell_type": "code",
   "execution_count": null,
   "id": "8e705200",
   "metadata": {},
   "outputs": [],
   "source": []
  }
 ],
 "metadata": {
  "kernelspec": {
   "display_name": "Python 3 (ipykernel)",
   "language": "python",
   "name": "python3"
  },
  "language_info": {
   "codemirror_mode": {
    "name": "ipython",
    "version": 3
   },
   "file_extension": ".py",
   "mimetype": "text/x-python",
   "name": "python",
   "nbconvert_exporter": "python",
   "pygments_lexer": "ipython3",
   "version": "3.9.12"
  }
 },
 "nbformat": 4,
 "nbformat_minor": 5
}
