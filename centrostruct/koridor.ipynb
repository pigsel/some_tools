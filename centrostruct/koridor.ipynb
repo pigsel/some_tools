{
 "cells": [
  {
   "cell_type": "markdown",
   "metadata": {},
   "source": [
    "попытка построить коридор разбитый на части поопорно"
   ]
  },
  {
   "cell_type": "code",
   "execution_count": 1,
   "metadata": {},
   "outputs": [],
   "source": [
    "import numpy as np\n",
    "import pandas as pd\n",
    "import geopandas as gpd\n",
    "from pathlib import Path\n",
    "import matplotlib.pyplot as plt\n",
    "from shapely.geometry import Point, Polygon, LineString\n",
    "from shapely.ops import split\n",
    "from descartes import PolygonPatch"
   ]
  },
  {
   "cell_type": "code",
   "execution_count": 2,
   "metadata": {},
   "outputs": [],
   "source": [
    "%matplotlib inline"
   ]
  },
  {
   "cell_type": "code",
   "execution_count": 3,
   "metadata": {},
   "outputs": [],
   "source": [
    "c = [(0, 0), (1, 1), (3, 2), (3, 4), (5, 6), (6, 3)]"
   ]
  },
  {
   "cell_type": "code",
   "execution_count": 4,
   "metadata": {},
   "outputs": [],
   "source": [
    "line = LineString(c)"
   ]
  },
  {
   "cell_type": "code",
   "execution_count": 5,
   "metadata": {},
   "outputs": [
    {
     "data": {
      "text/plain": [
       "11.640986324787455"
      ]
     },
     "execution_count": 5,
     "metadata": {},
     "output_type": "execute_result"
    }
   ],
   "source": [
    "line.length"
   ]
  },
  {
   "cell_type": "code",
   "execution_count": 9,
   "metadata": {},
   "outputs": [
    {
     "data": {
      "text/plain": [
       "shapely.geometry.polygon.Polygon"
      ]
     },
     "execution_count": 9,
     "metadata": {},
     "output_type": "execute_result"
    }
   ],
   "source": [
    "koridor_full = line.buffer(0.5)\n",
    "type(koridor_full)"
   ]
  },
  {
   "cell_type": "code",
   "execution_count": 79,
   "metadata": {},
   "outputs": [
    {
     "data": {
      "text/plain": [
       "True"
      ]
     },
     "execution_count": 79,
     "metadata": {},
     "output_type": "execute_result"
    }
   ],
   "source": [
    "Point(line.coords[1]).within(koridor_full)"
   ]
  },
  {
   "cell_type": "code",
   "execution_count": 91,
   "metadata": {},
   "outputs": [],
   "source": [
    "mid_points = []\n",
    "str_boxes = []\n",
    "kor_spam = koridor_full\n",
    "\n",
    "for i in range(len(line.coords)-1):\n",
    "    mp = LineString([line.coords[i], line.coords[i+1]]).interpolate(0.5, normalized = True)   # mid point\n",
    "    mid_points.append(mp)\n",
    "    spam = LineString([line.coords[i], mp])       # line from str to mid \n",
    "    left = spam.parallel_offset(0.6, 'left')      # left parallel line\n",
    "    right = spam.parallel_offset(0.6, 'right')    # right parallel line\n",
    "    xline = LineString([left.boundary[1], right.boundary[0]])    # x-line - connect ends of parallels\n",
    "    \n",
    "    cut = split(kor_spam, xline)\n",
    "    if Point(line.coords[i]).within(cut[0]):\n",
    "        str_boxes.append(cut[0])\n",
    "        kor_spam = cut[1]\n",
    "    else:\n",
    "        str_boxes.append(cut[1])\n",
    "        kor_spam = cut[0]\n",
    "        \n",
    "str_boxes.append(kor_spam)"
   ]
  },
  {
   "cell_type": "code",
   "execution_count": 106,
   "metadata": {},
   "outputs": [
    {
     "data": {
      "text/plain": [
       "<AxesSubplot:>"
      ]
     },
     "execution_count": 106,
     "metadata": {},
     "output_type": "execute_result"
    },
    {
     "data": {
      "image/png": "[encoded data removed]",
      "text/plain": [
       "<Figure size 432x288 with 1 Axes>"
      ]
     },
     "metadata": {
      "needs_background": "light"
     },
     "output_type": "display_data"
    }
   ],
   "source": [
    "ax = gpd.GeoSeries(line).plot(color='red')\n",
    "gpd.GeoSeries(koridor_full).plot(ax=ax, alpha=0.3)\n",
    "gpd.GeoSeries(mid_points).plot(ax=ax)\n",
    "gpd.GeoSeries(x_lines).plot(ax=ax)\n"
   ]
  },
  {
   "cell_type": "code",
   "execution_count": 105,
   "metadata": {},
   "outputs": [
    {
     "data": {
      "text/plain": [
       "<AxesSubplot:>"
      ]
     },
     "execution_count": 105,
     "metadata": {},
     "output_type": "execute_result"
    },
    {
     "data": {
      "image/png": "[encoded data removed]",
      "text/plain": [
       "<Figure size 432x288 with 1 Axes>"
      ]
     },
     "metadata": {
      "needs_background": "light"
     },
     "output_type": "display_data"
    }
   ],
   "source": [
    "gpd.GeoSeries(str_boxes).plot(edgecolor='black', alpha=0.3)"
   ]
  }
 ],
 "metadata": {
  "kernelspec": {
   "display_name": "Python 3",
   "language": "python",
   "name": "python3"
  },
  "language_info": {
   "codemirror_mode": {
    "name": "ipython",
    "version": 3
   },
   "file_extension": ".py",
   "mimetype": "text/x-python",
   "name": "python",
   "nbconvert_exporter": "python",
   "pygments_lexer": "ipython3",
   "version": "3.9.1"
  }
 },
 "nbformat": 4,
 "nbformat_minor": 4
}
