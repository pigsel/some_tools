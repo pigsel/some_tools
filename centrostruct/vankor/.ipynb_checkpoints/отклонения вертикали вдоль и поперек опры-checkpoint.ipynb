{
 "cells": [
  {
   "cell_type": "markdown",
   "id": "8ce80e99",
   "metadata": {},
   "source": [
    "имеется: вертикальная ось опоры, известен азимут разворота опоры  \n",
    "найти: отклонение оси вдоль и поперек опоры  \n",
    "значения в градусах, но можно добавить и углы  "
   ]
  },
  {
   "cell_type": "code",
   "execution_count": 48,
   "id": "a164c31d",
   "metadata": {},
   "outputs": [],
   "source": [
    "from pathlib import Path\n",
    "import numpy as np\n",
    "from shapely.geometry import Point, MultiPoint, Polygon, LineString\n",
    "from math import sqrt, acos, cos, sin, degrees, radians"
   ]
  },
  {
   "cell_type": "code",
   "execution_count": 2,
   "id": "7adc7855",
   "metadata": {},
   "outputs": [],
   "source": [
    "# input data\n",
    "# для начала возьмем одну опору\n",
    "t_bot = (35, 45, 10)\n",
    "t_top = (45, 40, 60)\n",
    "t_az = (45)\n"
   ]
  },
  {
   "cell_type": "code",
   "execution_count": 9,
   "id": "3536c394",
   "metadata": {},
   "outputs": [],
   "source": [
    "# создаем ось опоры\n",
    "\n",
    "def create_axe(c_point, az, wide):\n",
    "\n",
    "    dx = wide*sin(radians(az))\n",
    "    dy = wide*cos(radians(az))\n",
    "    \n",
    "    x1 = c_point[0] + dx\n",
    "    y1 = c_point[1] + dy\n",
    "    x2 = c_point[0] - dx\n",
    "    y2 = c_point[1] - dy\n",
    "\n",
    "    return LineString([(x1, y1), (x2, y2)])\n"
   ]
  },
  {
   "cell_type": "code",
   "execution_count": 53,
   "id": "d6d28221",
   "metadata": {},
   "outputs": [],
   "source": [
    "# определим азимут и расстояние\n",
    "\n",
    "def azimuth(a, b):\n",
    "    # by two points we get azimuth\n",
    "    dx = a[0] - b[0]\n",
    "    dy = a[1] - b[1]\n",
    "    dist = sqrt(dx*dx + dy*dy)    # dist a to b\n",
    "    dx2 = abs(dx)\n",
    "    beta = degrees(acos(dx2/dist))\n",
    "    if dx > 0:\n",
    "        if dy < 0:\n",
    "            angle = 270 + beta\n",
    "        else:\n",
    "            angle = 270 - beta\n",
    "    else:\n",
    "        if dy < 0:\n",
    "            angle = 90 - beta\n",
    "        else:\n",
    "            angle = 90 + beta\n",
    "\n",
    "    return round(angle, 2), dist\n"
   ]
  },
  {
   "cell_type": "code",
   "execution_count": 36,
   "id": "70a37639",
   "metadata": {},
   "outputs": [],
   "source": [
    "# определяем отклонения вдоль и поперек\n",
    "# dx - поперек, dy - вдоль\n",
    "\n",
    "def dxdy(t_az, axe, bot_point, top_point):\n",
    "\n",
    "    # angle and dist to center\n",
    "    az, dist = azimuth(bot_point[:2], top_point[:2])\n",
    "        \n",
    "    new_y = round(Point(top_point[:2]).distance(axe), 2)\n",
    "    new_x = round(sqrt(abs(dist*dist - new_y*new_y)), 2)\n",
    "    \n",
    "    # now we should find + or -\n",
    "    az -= t_az\n",
    "    \n",
    "    if 0 < az < 90:\n",
    "        new_y *= -1 \n",
    "    elif 90 < az < 180:\n",
    "        new_y *= -1\n",
    "        new_x *= -1\n",
    "    elif 180 < az < 270:\n",
    "        new_x *= -1\n",
    "    elif -90 > az > -180:\n",
    "        new_x *= -1\n",
    "    elif -180 > az > -270:\n",
    "        new_x*= -1\n",
    "        new_y *= -1\n",
    "    elif -270 > az > -360:\n",
    "        new_y *= -1\n",
    "\n",
    "    return new_x, new_y"
   ]
  },
  {
   "cell_type": "code",
   "execution_count": 38,
   "id": "4e3c0318",
   "metadata": {},
   "outputs": [],
   "source": [
    "# начинаем вычислять\n",
    "\n",
    "axe = create_axe(t_bot, t_az, 10)   # находим ось\n",
    "\n",
    "dx, dy = dxdy(t_az, axe, t_bot, t_top)   # находим отклонения"
   ]
  },
  {
   "cell_type": "code",
   "execution_count": 39,
   "id": "d00df1c7",
   "metadata": {},
   "outputs": [
    {
     "data": {
      "text/plain": [
       "(3.53, -10.61)"
      ]
     },
     "execution_count": 39,
     "metadata": {},
     "output_type": "execute_result"
    }
   ],
   "source": [
    "dx, dy"
   ]
  },
  {
   "cell_type": "code",
   "execution_count": 70,
   "id": "207962e9",
   "metadata": {},
   "outputs": [
    {
     "name": "stdout",
     "output_type": "stream",
     "text": [
      "4.038381346391643 4.038381346391552\n"
     ]
    }
   ],
   "source": [
    "# найдем высоту и определим углы отклонений\n",
    "h = t_top[2] - t_bot[2]\n",
    "c = sqrt(dx*dx + h*h)\n",
    "ang_x = degrees(acos(h/c))   # по теореме косинусов прямоугольника\n",
    "\n",
    "print(ang_x)"
   ]
  },
  {
   "cell_type": "code",
   "execution_count": null,
   "id": "d90a190d",
   "metadata": {},
   "outputs": [],
   "source": []
  }
 ],
 "metadata": {
  "kernelspec": {
   "display_name": "Python 3 (ipykernel)",
   "language": "python",
   "name": "python3"
  },
  "language_info": {
   "codemirror_mode": {
    "name": "ipython",
    "version": 3
   },
   "file_extension": ".py",
   "mimetype": "text/x-python",
   "name": "python",
   "nbconvert_exporter": "python",
   "pygments_lexer": "ipython3",
   "version": "3.9.12"
  }
 },
 "nbformat": 4,
 "nbformat_minor": 5
}
