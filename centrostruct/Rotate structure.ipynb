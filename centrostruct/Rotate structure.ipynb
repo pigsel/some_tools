{
 "cells": [
  {
   "cell_type": "markdown",
   "id": "b656963f",
   "metadata": {},
   "source": [
    "зная центр опоры, можно попробовать ее повернуть и перевести в свою систему координат с началом в цетре нижней траверсы"
   ]
  },
  {
   "cell_type": "code",
   "execution_count": 31,
   "id": "3b346fc5",
   "metadata": {},
   "outputs": [],
   "source": [
    "from pathlib import Path\n",
    "import geopandas as gpd\n",
    "import csv\n",
    "import numpy as np\n",
    "import matplotlib.pyplot as plt\n",
    "from shapely.geometry import Point, MultiPoint, Polygon"
   ]
  },
  {
   "cell_type": "code",
   "execution_count": 2,
   "id": "3f5af49a",
   "metadata": {},
   "outputs": [],
   "source": [
    "p = Path(r'/home/igor/Documents/some_tools/structure_samples/xyz')   # for linux"
   ]
  },
  {
   "cell_type": "code",
   "execution_count": 3,
   "id": "303223d2",
   "metadata": {},
   "outputs": [
    {
     "name": "stdout",
     "output_type": "stream",
     "text": [
      "sus_big.xyz\n",
      "strain_3_lean_lo.xyz\n",
      "d-pole_3x.xyz\n",
      "substation.xyz\n",
      "sus_5.xyz\n",
      "st_220_5.xyz\n",
      "sus_w_wires.xyz\n",
      "s_pole.xyz\n",
      "strain_sm.xyz\n",
      "strain_2.xyz\n",
      "strain_A_dpole_leaned.xyz\n",
      "pole-w-guys_near_substation.xyz\n",
      "sus_2pole_lean.xyz\n",
      "s_pole_xarms.xyz\n",
      "pole_asim_post.xyz\n",
      "strain_A_dpole.xyz\n",
      "2pole_supp_guys.xyz\n",
      "pole_asim_3.xyz\n",
      "st_220_6.xyz\n",
      "sus_guyed_2x_steel.xyz\n",
      "sus_220_6.xyz\n",
      "3pole_guys.xyz\n",
      "strain_big.xyz\n"
     ]
    }
   ],
   "source": [
    "list_of_files = list(p.glob('*.xyz'))\n",
    "for file in list_of_files:\n",
    "    print(file.name)"
   ]
  },
  {
   "cell_type": "code",
   "execution_count": 4,
   "id": "40dc65c5",
   "metadata": {},
   "outputs": [
    {
     "data": {
      "text/plain": [
       "[[1245959.75, 4851979.15, 20.32],\n",
       " [1245959.66, 4851979.11, 20.78],\n",
       " [1245959.55, 4851979.2, 21.36],\n",
       " [1245959.41, 4851979.79, 20.94],\n",
       " [1245959.46, 4851979.43, 21.48]]"
      ]
     },
     "execution_count": 4,
     "metadata": {},
     "output_type": "execute_result"
    }
   ],
   "source": [
    "spam_file = p / 'sus_5.xyz'\n",
    "str = []\n",
    "with spam_file.open() as f:\n",
    "        spamreader = csv.reader(f, delimiter=' ', quoting=csv.QUOTE_NONNUMERIC, skipinitialspace=True)\n",
    "        for row in spamreader:\n",
    "            str.append(row)\n",
    "str[:5]"
   ]
  },
  {
   "cell_type": "code",
   "execution_count": 11,
   "id": "8cca0e18",
   "metadata": {},
   "outputs": [
    {
     "data": {
      "text/plain": [
       "(6214, 3262)"
      ]
     },
     "execution_count": 11,
     "metadata": {},
     "output_type": "execute_result"
    }
   ],
   "source": [
    "# делаем массив np и обрезаю на треть снизу\n",
    "np_str = np.array(str)\n",
    "np_str_cut = np.delete(np_str, np_str[:,2]<((max(np_str[:,2])-min(np_str[:,2]))/3 + min(np_str[:,2])), 0)\n",
    "len(np_str), len(np_str_cut)"
   ]
  },
  {
   "cell_type": "code",
   "execution_count": 15,
   "id": "0d050e8b",
   "metadata": {},
   "outputs": [
    {
     "name": "stdout",
     "output_type": "stream",
     "text": [
      "[1245957.54 4851980.07] 30.29\n"
     ]
    }
   ],
   "source": [
    "np_str_2d = np_str_cut[:,:2]   # x and y\n",
    "np_str_z = np_str_cut[:,2]\n",
    "print(np_str_2d[1], np_str_z[1])"
   ]
  },
  {
   "cell_type": "code",
   "execution_count": 13,
   "id": "e1fa9d50",
   "metadata": {},
   "outputs": [
    {
     "data": {
      "text/plain": [
       "(1245951.938, 1245957.9219999998, 4851977.639, 4851984.700999999)"
      ]
     },
     "execution_count": 13,
     "metadata": {},
     "output_type": "execute_result"
    },
    {
     "data": {
      "image/png": "[encoded data removed]",
      "text/plain": [
       "<Figure size 432x288 with 1 Axes>"
      ]
     },
     "metadata": {
      "needs_background": "light"
     },
     "output_type": "display_data"
    }
   ],
   "source": [
    "plt.scatter(np_str_2d[:,0], np_str_2d[:,1])\n",
    "plt.axis('equal')"
   ]
  },
  {
   "cell_type": "code",
   "execution_count": 16,
   "id": "dd430ceb",
   "metadata": {},
   "outputs": [
    {
     "name": "stdout",
     "output_type": "stream",
     "text": [
      "194\n"
     ]
    }
   ],
   "source": [
    "# needs to create new segmented list\n",
    "segmented = []\n",
    "segment_size = 0.1\n",
    "start = min(np_str_z)\n",
    "end = start + segment_size\n",
    "while end < max(np_str_z):\n",
    "    segmented.append(sum(end > i > start for i in np_str_z))\n",
    "    start += segment_size\n",
    "    end += segment_size\n",
    "\n",
    "print(len(segmented))"
   ]
  },
  {
   "cell_type": "code",
   "execution_count": 17,
   "id": "57987316",
   "metadata": {},
   "outputs": [
    {
     "name": "stdout",
     "output_type": "stream",
     "text": [
      "15 18 31.42 31.520000000000003\n"
     ]
    }
   ],
   "source": [
    "# finding h by index:\n",
    "indx = 15\n",
    "h = min(np_str_z) + segment_size*indx\n",
    "\n",
    "print(indx, segmented[indx], h, h+segment_size)"
   ]
  },
  {
   "cell_type": "code",
   "execution_count": 27,
   "id": "06f6a00a",
   "metadata": {},
   "outputs": [
    {
     "name": "stdout",
     "output_type": "stream",
     "text": [
      "(9, 116)\n",
      "(10, 65)\n",
      "(21, 75)\n",
      "(22, 48)\n",
      "(45, 53)\n",
      "(79, 38)\n",
      "(94, 110)\n",
      "(95, 93)\n",
      "(127, 186)\n",
      "(128, 53)\n",
      "(160, 212)\n",
      "(161, 50)\n",
      "(162, 35)\n",
      "(169, 50)\n"
     ]
    }
   ],
   "source": [
    "# отбираем сегметы со значениями больше определеного и записываем как пару номер сегмента + значение\n",
    "ma = []\n",
    "for nu, i in enumerate(segmented):\n",
    "    if i > (np.mean(segmented))*2:\n",
    "        ma.append((nu, i))\n",
    "\n",
    "for i in ma:\n",
    "    print(i)"
   ]
  },
  {
   "cell_type": "code",
   "execution_count": 21,
   "id": "6182c6ea",
   "metadata": {},
   "outputs": [
    {
     "data": {
      "text/plain": [
       "{0: 65, 21: 123, 94: 203, 127: 239, 160: 297}"
      ]
     },
     "execution_count": 21,
     "metadata": {},
     "output_type": "execute_result"
    }
   ],
   "source": [
    "# break for groups with lowest segment num and sum of points\n",
    "ma2 = {}\n",
    "low_level = 0\n",
    "points_sum = 0\n",
    "\n",
    "for i in range(len(ma)):\n",
    "    #print(i, ma[i][0], ma[i][1])\n",
    "    # если следующий сегмент также отобран\n",
    "    if i != len(ma)-1 and ma[i][0]+1 == (ma[i+1][0]):\n",
    "        points_sum += ma[i+1][1]\n",
    "        \n",
    "        # если предыдущий сегмент не был отобран \n",
    "        if i > 0 and not ma[i][0]-1 == (ma[i-1][0]):\n",
    "            points_sum += ma[i][1]\n",
    "            low_level = ma[i][0]\n",
    "        \n",
    "        ma2[low_level] = points_sum\n",
    "\n",
    "    else:\n",
    "        #print('skip')\n",
    "        low_level = 0\n",
    "        points_sum = 0\n",
    "    \n",
    "    #print(low_level, points_sum)\n",
    "ma2"
   ]
  },
  {
   "cell_type": "code",
   "execution_count": 26,
   "id": "3468216e",
   "metadata": {},
   "outputs": [
    {
     "name": "stdout",
     "output_type": "stream",
     "text": [
      "[(94, 203), (127, 239), (160, 297)]\n",
      "39.3 42.6 45.9\n"
     ]
    }
   ],
   "source": [
    "#  из отобранных групп выделяем три наибольшие\n",
    "# такой отбор не стаботает на траверсах постоянной высоты - там будет по два выброса на траверсу\n",
    "selected = sorted(ma2.items(), key=lambda item: item[1])[-3:]\n",
    "print(selected)\n",
    "\n",
    "h_trav = []   # нижие кромки траверс\n",
    "for i in selected:\n",
    "    h_trav.append(round((min(np_str_z) + segment_size*i[0]), 1))\n",
    "z1, z2, z3 = sorted(h_trav)[0], sorted(h_trav)[1], sorted(h_trav)[2]\n",
    "print(z1, z2, z3)\n"
   ]
  },
  {
   "cell_type": "code",
   "execution_count": 28,
   "id": "40d8e1a1",
   "metadata": {},
   "outputs": [
    {
     "data": {
      "text/plain": [
       "array([[1.24595596e+06, 4.85197866e+06, 3.94200000e+01],\n",
       "       [1.24595603e+06, 4.85197899e+06, 3.93900000e+01],\n",
       "       [1.24595602e+06, 4.85197976e+06, 3.94000000e+01],\n",
       "       ...,\n",
       "       [1.24595385e+06, 4.85198430e+06, 4.59600000e+01],\n",
       "       [1.24595382e+06, 4.85198414e+06, 4.60600000e+01],\n",
       "       [1.24595379e+06, 4.85198398e+06, 4.61400000e+01]])"
      ]
     },
     "execution_count": 28,
     "metadata": {},
     "output_type": "execute_result"
    }
   ],
   "source": [
    "# cut the legs again\n",
    "np_str_cut = np.delete(np_str_cut, np_str_cut[:,2]<(z1-0.1), 0)\n",
    "np_str_cut "
   ]
  },
  {
   "cell_type": "code",
   "execution_count": 29,
   "id": "23ad42d4",
   "metadata": {},
   "outputs": [],
   "source": [
    "# will work with top part\n",
    "n_s_1_mp = MultiPoint(np_str_cut)    # to multipoint (needs to shapely)\n",
    "rect = n_s_1_mp.minimum_rotated_rectangle\n",
    "rect_c = rect.centroid"
   ]
  },
  {
   "cell_type": "code",
   "execution_count": 33,
   "id": "8f4de854",
   "metadata": {},
   "outputs": [
    {
     "data": {
      "text/plain": [
       "(1245952.7895365779, 1245957.1446295725, 4851977.289769065, 4851985.031129883)"
      ]
     },
     "execution_count": 33,
     "metadata": {},
     "output_type": "execute_result"
    },
    {
     "data": {
      "image/png": "[encoded data removed]",
      "text/plain": [
       "<Figure size 432x288 with 1 Axes>"
      ]
     },
     "metadata": {
      "needs_background": "light"
     },
     "output_type": "display_data"
    }
   ],
   "source": [
    "ax = gpd.GeoSeries(rect).plot(color='green', alpha=0.3)\n",
    "plt.scatter(np_str_cut[:,0], np_str_cut[:,1])\n",
    "gpd.GeoSeries(rect_c).plot(ax=ax, color='black')\n",
    "plt.axis('equal')"
   ]
  },
  {
   "cell_type": "code",
   "execution_count": 34,
   "id": "0b0eff32",
   "metadata": {},
   "outputs": [],
   "source": [
    "# определим азимут и расстояние\n",
    "from math import sqrt, acos, degrees\n",
    "\n",
    "def azimuth(a, b):\n",
    "    # by two points we get azimuth\n",
    "    dx = a[0] - b[0]\n",
    "    dy = a[1] - b[1]\n",
    "    dist = sqrt(dx*dx + dy*dy)    # dist a to b\n",
    "    dx2 = abs(dx)\n",
    "    beta = degrees(acos(dx2/dist))\n",
    "    if dx > 0:\n",
    "        if dy < 0:\n",
    "            angle = 270 + beta\n",
    "        else:\n",
    "            angle = 270 - beta\n",
    "    else:\n",
    "        if dy < 0:\n",
    "            angle = 90 - beta\n",
    "        else:\n",
    "            angle = 90 + beta\n",
    "\n",
    "    return round(angle, 2), dist\n"
   ]
  },
  {
   "cell_type": "code",
   "execution_count": 35,
   "id": "c36b7a94",
   "metadata": {},
   "outputs": [
    {
     "name": "stdout",
     "output_type": "stream",
     "text": [
      "(161.11, 6.8026700607985795)\n",
      "(71.11, 1.8572203067145663)\n",
      "161.11\n"
     ]
    }
   ],
   "source": [
    "# find a longest side and azimuth\n",
    "\n",
    "side_a = azimuth(list(rect.exterior.coords)[0], list(rect.exterior.coords)[1])\n",
    "side_b = azimuth(list(rect.exterior.coords)[1], list(rect.exterior.coords)[2])\n",
    "if side_a[1] > side_b[1]:\n",
    "    str_azmt = side_a[0]\n",
    "else:\n",
    "    str_azmt = side_b[0]\n",
    "\n",
    "print(side_a)\n",
    "print(side_b)\n",
    "print(str_azmt)"
   ]
  },
  {
   "cell_type": "code",
   "execution_count": null,
   "id": "b028501c",
   "metadata": {},
   "outputs": [],
   "source": [
    "\n",
    "\n",
    ">>> from shapely.geometry import LineString as shLs\n",
    ">>> from shapely.geometry import Point as shPt\n",
    ">>> l = shLs([ (1,1), (3,1)])\n",
    ">>> p = shPt(2,2)\n",
    ">>> dist = p.distance(l)\n",
    "1.0\n",
    ">>> l.interpolate(dist).wkt\n",
    "'POINT (2 1)'\n"
   ]
  }
 ],
 "metadata": {
  "kernelspec": {
   "display_name": "Python 3 (ipykernel)",
   "language": "python",
   "name": "python3"
  },
  "language_info": {
   "codemirror_mode": {
    "name": "ipython",
    "version": 3
   },
   "file_extension": ".py",
   "mimetype": "text/x-python",
   "name": "python",
   "nbconvert_exporter": "python",
   "pygments_lexer": "ipython3",
   "version": "3.9.13"
  }
 },
 "nbformat": 4,
 "nbformat_minor": 5
}
