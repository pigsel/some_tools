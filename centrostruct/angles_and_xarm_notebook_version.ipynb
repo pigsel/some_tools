{
 "cells": [
  {
   "cell_type": "markdown",
   "id": "41a256b1",
   "metadata": {},
   "source": [
    "this is the second part, and it uses files from first run of centrostruct.py module\n",
    "\n",
    "\n",
    "as result we should have tab with line azimuths, line angles, structure azimuth and rotations. \n",
    "\n",
    "\n",
    "i am also going to add xarms here - sizes and angles"
   ]
  },
  {
   "cell_type": "code",
   "execution_count": 14,
   "id": "a1e191c9",
   "metadata": {},
   "outputs": [],
   "source": [
    "from pathlib import Path\n",
    "import pandas as pd\n",
    "import numpy as np\n",
    "from shapely.geometry import Point, MultiPoint, LineString, MultiLineString\n",
    "import csv\n",
    "from math import sqrt, acos, degrees"
   ]
  },
  {
   "cell_type": "code",
   "execution_count": 2,
   "id": "4e6ab5cd",
   "metadata": {},
   "outputs": [],
   "source": [
    "# пути\n",
    "workdir = Path(r'D:\\work\\2022_m\\training\\ok')\n",
    "resultdir = workdir / 'result'\n",
    "tempdir = workdir / 'temp'"
   ]
  },
  {
   "cell_type": "markdown",
   "id": "0c62d75b",
   "metadata": {},
   "source": [
    "some functions for calc"
   ]
  },
  {
   "cell_type": "code",
   "execution_count": 12,
   "id": "ea9ddb41",
   "metadata": {},
   "outputs": [],
   "source": [
    "# from math import sqrt, acos, degrees\n",
    "\n",
    "def azimuth(a, b):\n",
    "    # by two points we get azimuth\n",
    "    dx = a[0] - b[0]\n",
    "    dy = a[1] - b[1]\n",
    "    dist = round(sqrt(dx*dx + dy*dy), 2)    # dist a to b\n",
    "    dx2 = abs(dx)\n",
    "    beta = degrees(acos(dx2/dist))\n",
    "    if dx > 0:\n",
    "        if dy < 0:\n",
    "            angle = 270 + beta\n",
    "        else:\n",
    "            angle = 270 - beta\n",
    "    else:\n",
    "        if dy < 0:\n",
    "            angle = 90 - beta\n",
    "        else:\n",
    "            angle = 90 + beta\n",
    "\n",
    "    return round(angle, 1), dist"
   ]
  },
  {
   "cell_type": "code",
   "execution_count": 15,
   "id": "29da497f",
   "metadata": {},
   "outputs": [],
   "source": [
    "# import csv\n",
    "\n",
    "def xyz_read(path):\n",
    "    # read xyz arrays from files\n",
    "    with open(path, newline='') as xyz_file:\n",
    "        spamlist = []\n",
    "        spamreader = csv.reader(xyz_file, delimiter=' ', quoting=csv.QUOTE_NONNUMERIC, skipinitialspace=True)\n",
    "        for row in spamreader:\n",
    "            spamlist.append(row)\n",
    "\n",
    "    return spamlist"
   ]
  },
  {
   "cell_type": "code",
   "execution_count": 105,
   "id": "6f6636e1",
   "metadata": {},
   "outputs": [],
   "source": [
    "def xarms_levels(array, segment_size):\n",
    "    segmented = []\n",
    "    start = min(array)\n",
    "    end = start + segment_size\n",
    "    while end < max(array):\n",
    "        segmented.append(sum(end > i > start for i in np_str_z))\n",
    "        start += segment_size\n",
    "        end += segment_size\n",
    "\n",
    "        \n",
    "    # then choose only bigget than mean*2\n",
    "    ma = []\n",
    "    for nu, i in enumerate(segmented):\n",
    "        if i > (np.mean(segmented)*2):\n",
    "            ma.append((nu, i))\n",
    "\n",
    "            \n",
    "    # then group them if they close to each other\n",
    "    ma2 = {}\n",
    "    low_level = 0\n",
    "    points_sum = 0\n",
    "\n",
    "    for i in range(len(ma)):\n",
    "        # если следующий сегмент также отобран\n",
    "        if i != len(ma)-1 and ma[i][0]+1 == (ma[i+1][0]):\n",
    "            points_sum += ma[i+1][1]\n",
    "\n",
    "            # если предыдущий сегмент не был отобран \n",
    "            if i > 0 and not ma[i][0]-1 == (ma[i-1][0]):\n",
    "                points_sum += ma[i][1]\n",
    "                low_level = ma[i][0]\n",
    "\n",
    "            ma2[low_level] = points_sum\n",
    "\n",
    "        else:\n",
    "            #print('skip')\n",
    "            low_level = 0\n",
    "            points_sum = 0\n",
    "\n",
    "            \n",
    "    #  из отобранных групп выделяем три наибольшие\n",
    "    # такой отбор не стаботает на траверсах постоянной высоты - там будет по два выброса на траверсу\n",
    "    selected = sorted(ma2.items(), key=lambda item: item[1])[-3:]\n",
    "    #print(selected)\n",
    "\n",
    "    h_trav = []   # нижие кромки траверс\n",
    "    for i in selected:\n",
    "        h_trav.append(round((min(array) + segment_size*i[0]), 1))\n",
    "    #print(sorted(h_trav))    \n",
    "    \n",
    "    return sorted(h_trav)\n"
   ]
  },
  {
   "cell_type": "code",
   "execution_count": 114,
   "id": "048d94d1",
   "metadata": {},
   "outputs": [],
   "source": [
    "def midpoint(p1, p2):\n",
    "    # calc middle point\n",
    "    mx = round((p1[0]+p2[0])/2, 2)\n",
    "    my = round((p1[1]+p2[1])/2, 2)\n",
    "    \n",
    "    return (mx, my)\n"
   ]
  },
  {
   "cell_type": "markdown",
   "id": "fd535063",
   "metadata": {},
   "source": [
    "firstly get the initial table "
   ]
  },
  {
   "cell_type": "code",
   "execution_count": 5,
   "id": "504fc0ab",
   "metadata": {},
   "outputs": [],
   "source": [
    "cgt_tab = pd.read_excel(resultdir / 'cgtw_output.xlsx', index_col=0)"
   ]
  },
  {
   "cell_type": "code",
   "execution_count": 6,
   "id": "91aba859",
   "metadata": {},
   "outputs": [
    {
     "data": {
      "text/html": [
       "<div>\n",
       "<style scoped>\n",
       "    .dataframe tbody tr th:only-of-type {\n",
       "        vertical-align: middle;\n",
       "    }\n",
       "\n",
       "    .dataframe tbody tr th {\n",
       "        vertical-align: top;\n",
       "    }\n",
       "\n",
       "    .dataframe thead th {\n",
       "        text-align: right;\n",
       "    }\n",
       "</style>\n",
       "<table border=\"1\" class=\"dataframe\">\n",
       "  <thead>\n",
       "    <tr style=\"text-align: right;\">\n",
       "      <th></th>\n",
       "      <th>c_line</th>\n",
       "      <th>id</th>\n",
       "      <th>x</th>\n",
       "      <th>y</th>\n",
       "      <th>z</th>\n",
       "      <th>geometry</th>\n",
       "      <th>havepoints</th>\n",
       "      <th>x1</th>\n",
       "      <th>y1</th>\n",
       "      <th>z1</th>\n",
       "      <th>x1_t</th>\n",
       "      <th>y1_t</th>\n",
       "      <th>z1_t</th>\n",
       "      <th>angle</th>\n",
       "    </tr>\n",
       "    <tr>\n",
       "      <th>index</th>\n",
       "      <th></th>\n",
       "      <th></th>\n",
       "      <th></th>\n",
       "      <th></th>\n",
       "      <th></th>\n",
       "      <th></th>\n",
       "      <th></th>\n",
       "      <th></th>\n",
       "      <th></th>\n",
       "      <th></th>\n",
       "      <th></th>\n",
       "      <th></th>\n",
       "      <th></th>\n",
       "      <th></th>\n",
       "    </tr>\n",
       "  </thead>\n",
       "  <tbody>\n",
       "    <tr>\n",
       "      <th>1</th>\n",
       "      <td>1</td>\n",
       "      <td>1</td>\n",
       "      <td>1512936.51</td>\n",
       "      <td>5365808.23</td>\n",
       "      <td>107.81</td>\n",
       "      <td>POINT Z (1512936.51 5365808.23 107.81)</td>\n",
       "      <td>1</td>\n",
       "      <td>1512936.52</td>\n",
       "      <td>5365808.24</td>\n",
       "      <td>76.44</td>\n",
       "      <td>1512936.52</td>\n",
       "      <td>5365808.22</td>\n",
       "      <td>107.81</td>\n",
       "      <td>0</td>\n",
       "    </tr>\n",
       "    <tr>\n",
       "      <th>2</th>\n",
       "      <td>1</td>\n",
       "      <td>2</td>\n",
       "      <td>1512632.98</td>\n",
       "      <td>5365943.75</td>\n",
       "      <td>99.71</td>\n",
       "      <td>POINT Z (1512632.98 5365943.75 99.71)</td>\n",
       "      <td>1</td>\n",
       "      <td>1512633.05</td>\n",
       "      <td>5365943.64</td>\n",
       "      <td>69.67</td>\n",
       "      <td>1512633.02</td>\n",
       "      <td>5365943.77</td>\n",
       "      <td>99.71</td>\n",
       "      <td>0</td>\n",
       "    </tr>\n",
       "    <tr>\n",
       "      <th>3</th>\n",
       "      <td>1</td>\n",
       "      <td>3</td>\n",
       "      <td>1512336.16</td>\n",
       "      <td>5366075.89</td>\n",
       "      <td>106.28</td>\n",
       "      <td>POINT Z (1512336.16 5366075.89 106.28)</td>\n",
       "      <td>1</td>\n",
       "      <td>1512336.18</td>\n",
       "      <td>5366075.94</td>\n",
       "      <td>70.94</td>\n",
       "      <td>1512336.02</td>\n",
       "      <td>5366076.17</td>\n",
       "      <td>106.28</td>\n",
       "      <td>0</td>\n",
       "    </tr>\n",
       "  </tbody>\n",
       "</table>\n",
       "</div>"
      ],
      "text/plain": [
       "       c_line  id           x           y       z  \\\n",
       "index                                               \n",
       "1           1   1  1512936.51  5365808.23  107.81   \n",
       "2           1   2  1512632.98  5365943.75   99.71   \n",
       "3           1   3  1512336.16  5366075.89  106.28   \n",
       "\n",
       "                                     geometry  havepoints          x1  \\\n",
       "index                                                                   \n",
       "1      POINT Z (1512936.51 5365808.23 107.81)           1  1512936.52   \n",
       "2       POINT Z (1512632.98 5365943.75 99.71)           1  1512633.05   \n",
       "3      POINT Z (1512336.16 5366075.89 106.28)           1  1512336.18   \n",
       "\n",
       "               y1     z1        x1_t        y1_t    z1_t  angle  \n",
       "index                                                            \n",
       "1      5365808.24  76.44  1512936.52  5365808.22  107.81      0  \n",
       "2      5365943.64  69.67  1512633.02  5365943.77   99.71      0  \n",
       "3      5366075.94  70.94  1512336.02  5366076.17  106.28      0  "
      ]
     },
     "execution_count": 6,
     "metadata": {},
     "output_type": "execute_result"
    }
   ],
   "source": [
    "cgt_tab[:3]"
   ]
  },
  {
   "cell_type": "markdown",
   "id": "22b6c170",
   "metadata": {},
   "source": [
    "create new tab based of initial"
   ]
  },
  {
   "cell_type": "code",
   "execution_count": 7,
   "id": "30ce0c5c",
   "metadata": {},
   "outputs": [],
   "source": [
    "ang_tab = cgt_tab[['c_line', 'id']].copy()"
   ]
  },
  {
   "cell_type": "code",
   "execution_count": 8,
   "id": "17febe39",
   "metadata": {},
   "outputs": [],
   "source": [
    "# add new cols\n",
    "new_cols = ['span name', 'span length 2d', 'span azimuth', 'line angle', 'structure azimuth', 'structure rotation', 'x_arm start']\n",
    "for col in new_cols:\n",
    "    ang_tab[col] = np.nan"
   ]
  },
  {
   "cell_type": "code",
   "execution_count": 9,
   "id": "17ced862",
   "metadata": {
    "scrolled": true
   },
   "outputs": [
    {
     "data": {
      "text/html": [
       "<div>\n",
       "<style scoped>\n",
       "    .dataframe tbody tr th:only-of-type {\n",
       "        vertical-align: middle;\n",
       "    }\n",
       "\n",
       "    .dataframe tbody tr th {\n",
       "        vertical-align: top;\n",
       "    }\n",
       "\n",
       "    .dataframe thead th {\n",
       "        text-align: right;\n",
       "    }\n",
       "</style>\n",
       "<table border=\"1\" class=\"dataframe\">\n",
       "  <thead>\n",
       "    <tr style=\"text-align: right;\">\n",
       "      <th></th>\n",
       "      <th>c_line</th>\n",
       "      <th>id</th>\n",
       "      <th>span name</th>\n",
       "      <th>span length 2d</th>\n",
       "      <th>span azimuth</th>\n",
       "      <th>line angle</th>\n",
       "      <th>structure azimuth</th>\n",
       "      <th>structure rotation</th>\n",
       "      <th>x_arm start</th>\n",
       "    </tr>\n",
       "    <tr>\n",
       "      <th>index</th>\n",
       "      <th></th>\n",
       "      <th></th>\n",
       "      <th></th>\n",
       "      <th></th>\n",
       "      <th></th>\n",
       "      <th></th>\n",
       "      <th></th>\n",
       "      <th></th>\n",
       "      <th></th>\n",
       "    </tr>\n",
       "  </thead>\n",
       "  <tbody>\n",
       "    <tr>\n",
       "      <th>1</th>\n",
       "      <td>1</td>\n",
       "      <td>1</td>\n",
       "      <td>NaN</td>\n",
       "      <td>NaN</td>\n",
       "      <td>NaN</td>\n",
       "      <td>NaN</td>\n",
       "      <td>NaN</td>\n",
       "      <td>NaN</td>\n",
       "      <td>NaN</td>\n",
       "    </tr>\n",
       "    <tr>\n",
       "      <th>2</th>\n",
       "      <td>1</td>\n",
       "      <td>2</td>\n",
       "      <td>NaN</td>\n",
       "      <td>NaN</td>\n",
       "      <td>NaN</td>\n",
       "      <td>NaN</td>\n",
       "      <td>NaN</td>\n",
       "      <td>NaN</td>\n",
       "      <td>NaN</td>\n",
       "    </tr>\n",
       "    <tr>\n",
       "      <th>3</th>\n",
       "      <td>1</td>\n",
       "      <td>3</td>\n",
       "      <td>NaN</td>\n",
       "      <td>NaN</td>\n",
       "      <td>NaN</td>\n",
       "      <td>NaN</td>\n",
       "      <td>NaN</td>\n",
       "      <td>NaN</td>\n",
       "      <td>NaN</td>\n",
       "    </tr>\n",
       "  </tbody>\n",
       "</table>\n",
       "</div>"
      ],
      "text/plain": [
       "       c_line  id  span name  span length 2d  span azimuth  line angle  \\\n",
       "index                                                                    \n",
       "1           1   1        NaN             NaN           NaN         NaN   \n",
       "2           1   2        NaN             NaN           NaN         NaN   \n",
       "3           1   3        NaN             NaN           NaN         NaN   \n",
       "\n",
       "       structure azimuth  structure rotation  x_arm start  \n",
       "index                                                      \n",
       "1                    NaN                 NaN          NaN  \n",
       "2                    NaN                 NaN          NaN  \n",
       "3                    NaN                 NaN          NaN  "
      ]
     },
     "execution_count": 9,
     "metadata": {},
     "output_type": "execute_result"
    }
   ],
   "source": [
    "ang_tab[:3]"
   ]
  },
  {
   "cell_type": "markdown",
   "id": "19a9c501",
   "metadata": {},
   "source": [
    "find span name, length, azimuth, line angle"
   ]
  },
  {
   "cell_type": "code",
   "execution_count": 10,
   "id": "5e89436e",
   "metadata": {},
   "outputs": [],
   "source": [
    "for n in range(len(cgt_tab)-1):\n",
    "    idx = cgt_tab.iloc[n].name  # find index and work with index\n",
    "    \n",
    "    if cgt_tab.loc[idx, 'c_line'] == cgt_tab.loc[idx+1, 'c_line']:\n",
    "        # check if we on the same c-line\n",
    "        ang_tab.loc[idx, 'span name'] = f\"{cgt_tab.loc[idx, 'id']} - {cgt_tab.loc[idx+1, 'id']}\"  # span id \n",
    "        a = (cgt_tab.loc[idx, 'x1'], cgt_tab.loc[idx, 'y1'])   # start point\n",
    "        b = (cgt_tab.loc[idx+1, 'x1'], cgt_tab.loc[idx+1, 'y1'])   # end point\n",
    "        ang_tab.loc[idx, 'span azimuth'], ang_tab.loc[idx, 'span length 2d'] = azimuth(a, b)\n",
    "        if idx > 1:\n",
    "            if cgt_tab.loc[idx, 'c_line'] == cgt_tab.loc[idx-1, 'c_line']:\n",
    "                spam = ang_tab.loc[idx, 'span azimuth'] - ang_tab.loc[idx-1, 'span azimuth']\n",
    "                if spam < -180:\n",
    "                    ang_tab.loc[idx, 'line angle'] = spam + 360\n",
    "                else:\n",
    "                    ang_tab.loc[idx, 'line angle'] = spam\n",
    "            else:\n",
    "                ang_tab.loc[idx, 'line angle'] = 0\n",
    "        else:\n",
    "                ang_tab.loc[idx, 'line angle'] = 0\n",
    "    \n",
    "    #print(span_name, azim, span_len)"
   ]
  },
  {
   "cell_type": "code",
   "execution_count": 11,
   "id": "eca58c37",
   "metadata": {
    "scrolled": true
   },
   "outputs": [
    {
     "data": {
      "text/html": [
       "<div>\n",
       "<style scoped>\n",
       "    .dataframe tbody tr th:only-of-type {\n",
       "        vertical-align: middle;\n",
       "    }\n",
       "\n",
       "    .dataframe tbody tr th {\n",
       "        vertical-align: top;\n",
       "    }\n",
       "\n",
       "    .dataframe thead th {\n",
       "        text-align: right;\n",
       "    }\n",
       "</style>\n",
       "<table border=\"1\" class=\"dataframe\">\n",
       "  <thead>\n",
       "    <tr style=\"text-align: right;\">\n",
       "      <th></th>\n",
       "      <th>c_line</th>\n",
       "      <th>id</th>\n",
       "      <th>span name</th>\n",
       "      <th>span length 2d</th>\n",
       "      <th>span azimuth</th>\n",
       "      <th>line angle</th>\n",
       "      <th>structure azimuth</th>\n",
       "      <th>structure rotation</th>\n",
       "      <th>x_arm start</th>\n",
       "    </tr>\n",
       "    <tr>\n",
       "      <th>index</th>\n",
       "      <th></th>\n",
       "      <th></th>\n",
       "      <th></th>\n",
       "      <th></th>\n",
       "      <th></th>\n",
       "      <th></th>\n",
       "      <th></th>\n",
       "      <th></th>\n",
       "      <th></th>\n",
       "    </tr>\n",
       "  </thead>\n",
       "  <tbody>\n",
       "    <tr>\n",
       "      <th>23</th>\n",
       "      <td>1</td>\n",
       "      <td>23</td>\n",
       "      <td>23 - 24</td>\n",
       "      <td>206.83</td>\n",
       "      <td>13.4</td>\n",
       "      <td>-0.1</td>\n",
       "      <td>NaN</td>\n",
       "      <td>NaN</td>\n",
       "      <td>NaN</td>\n",
       "    </tr>\n",
       "    <tr>\n",
       "      <th>24</th>\n",
       "      <td>1</td>\n",
       "      <td>24</td>\n",
       "      <td>24 - 25</td>\n",
       "      <td>241.15</td>\n",
       "      <td>13.5</td>\n",
       "      <td>0.1</td>\n",
       "      <td>NaN</td>\n",
       "      <td>NaN</td>\n",
       "      <td>NaN</td>\n",
       "    </tr>\n",
       "    <tr>\n",
       "      <th>25</th>\n",
       "      <td>1</td>\n",
       "      <td>25</td>\n",
       "      <td>NaN</td>\n",
       "      <td>NaN</td>\n",
       "      <td>NaN</td>\n",
       "      <td>NaN</td>\n",
       "      <td>NaN</td>\n",
       "      <td>NaN</td>\n",
       "      <td>NaN</td>\n",
       "    </tr>\n",
       "  </tbody>\n",
       "</table>\n",
       "</div>"
      ],
      "text/plain": [
       "       c_line  id span name  span length 2d  span azimuth  line angle  \\\n",
       "index                                                                   \n",
       "23          1  23   23 - 24          206.83          13.4        -0.1   \n",
       "24          1  24   24 - 25          241.15          13.5         0.1   \n",
       "25          1  25       NaN             NaN           NaN         NaN   \n",
       "\n",
       "       structure azimuth  structure rotation  x_arm start  \n",
       "index                                                      \n",
       "23                   NaN                 NaN          NaN  \n",
       "24                   NaN                 NaN          NaN  \n",
       "25                   NaN                 NaN          NaN  "
      ]
     },
     "execution_count": 11,
     "metadata": {},
     "output_type": "execute_result"
    }
   ],
   "source": [
    "ang_tab[-3:]"
   ]
  },
  {
   "cell_type": "markdown",
   "id": "d8323412",
   "metadata": {},
   "source": [
    "lets work with x-arms\n",
    "\n",
    "firstly  will find the start level - the lowest xarm on structure\n",
    "\n",
    "for this work we need to upload ALS structure points - we will use created on the first step"
   ]
  },
  {
   "cell_type": "code",
   "execution_count": 16,
   "id": "144b124a",
   "metadata": {},
   "outputs": [],
   "source": [
    "# we should go for initial table and select each str again\n",
    "\n",
    "# here in notepad we will work with first structure then all the script will work as separate py file\n",
    "#for n in range(len(cgt_tab)):\n",
    "#    idx = cgt_tab.iloc[n].name  # find index and work with index\n",
    "#    tow_cut = xyz_read(tempdir / str(f\"{idx}_{cgt_tab.loc[idx, 'id']}_str.xyz\"))\n",
    "\n",
    "idx = 1    # work with one structure only now\n",
    "tow_cut = xyz_read(tempdir / str(f\"{idx}_{cgt_tab.loc[idx, 'id']}_str.xyz\"))"
   ]
  },
  {
   "cell_type": "code",
   "execution_count": 110,
   "id": "33102ee7",
   "metadata": {},
   "outputs": [],
   "source": [
    "np_str = np.array(tow_cut)\n",
    "np_str_z = np_str[:,2]    # leave only z-coord\n",
    "str_hight = round(max(np_str_z)-min(np_str_z), 2)\n",
    "np_str_z = np.delete(np_str_z, np_str_z<str_hight+4, 0)   # cut 4 m from grd"
   ]
  },
  {
   "cell_type": "code",
   "execution_count": 108,
   "id": "f3260278",
   "metadata": {},
   "outputs": [
    {
     "data": {
      "text/plain": [
       "87.0"
      ]
     },
     "execution_count": 108,
     "metadata": {},
     "output_type": "execute_result"
    }
   ],
   "source": [
    "[z1, z2, z3] = xarms_levels(np_str_z, 0.1)   # find xarm levels\n",
    "z1"
   ]
  },
  {
   "cell_type": "code",
   "execution_count": 112,
   "id": "3554fdfd",
   "metadata": {},
   "outputs": [],
   "source": [
    "# cut the legs again (more accurate)\n",
    "np_str_cut = np.delete(np_str, np_str[:,2]<(z1-0.1), 0)\n",
    "\n",
    "# now work with top part\n",
    "np_str_mp = MultiPoint(np_str_cut)    # to multipoint (needs to shapely)\n",
    "rect = np_str_mp.minimum_rotated_rectangle\n",
    "rect_c = rect.centroid"
   ]
  },
  {
   "cell_type": "code",
   "execution_count": 115,
   "id": "f9a7f9f3",
   "metadata": {
    "scrolled": true
   },
   "outputs": [
    {
     "name": "stdout",
     "output_type": "stream",
     "text": [
      "7.394166619878231\n",
      "LINESTRING (1512934.52 5365805.16, 1512938.61 5365811.32)\n",
      "(33.6, 7.4)\n",
      "(303.7, 4.16)\n",
      "33.6\n"
     ]
    }
   ],
   "source": [
    "# find a longest side and azimuth\n",
    "\n",
    "side_a = azimuth(list(rect.exterior.coords)[0], list(rect.exterior.coords)[1])\n",
    "side_b = azimuth(list(rect.exterior.coords)[1], list(rect.exterior.coords)[2])\n",
    "if side_a[1] > side_b[1]:\n",
    "    str_azmt = side_a[0]\n",
    "    axl = LineString([midpoint(list(rect.exterior.coords)[0], list(rect.exterior.coords)[3]), \n",
    "                     midpoint(list(rect.exterior.coords)[1], list(rect.exterior.coords)[2])])\n",
    "else:\n",
    "    str_azmt = side_b[0]\n",
    "    axl = LineString([midpoint(list(rect.exterior.coords)[0], list(rect.exterior.coords)[1]), \n",
    "                     midpoint(list(rect.exterior.coords)[2], list(rect.exterior.coords)[3])])\n",
    "\n",
    "\n",
    "# def midpoint(p1, p2):\n",
    "#     # calc middle point\n",
    "#     mx = round((p1[0]+p2[0])/2, 2)\n",
    "#     my = round((p1[1]+p2[1])/2, 2)\n",
    "    \n",
    "#     return (mx, my)\n",
    "\n",
    "print(axl.length)\n",
    "print(axl)\n",
    "print(str_azmt)"
   ]
  },
  {
   "cell_type": "code",
   "execution_count": 128,
   "id": "8137306f",
   "metadata": {},
   "outputs": [
    {
     "data": {
      "text/plain": [
       "1512938.61"
      ]
     },
     "execution_count": 128,
     "metadata": {},
     "output_type": "execute_result"
    }
   ],
   "source": [
    "axl.coords[1][0]\n"
   ]
  },
  {
   "cell_type": "code",
   "execution_count": null,
   "id": "490850f9",
   "metadata": {},
   "outputs": [],
   "source": []
  },
  {
   "cell_type": "code",
   "execution_count": null,
   "id": "e82a8896",
   "metadata": {},
   "outputs": [],
   "source": []
  },
  {
   "cell_type": "code",
   "execution_count": null,
   "id": "e95d9737",
   "metadata": {},
   "outputs": [],
   "source": []
  },
  {
   "cell_type": "code",
   "execution_count": null,
   "id": "c69b11c8",
   "metadata": {},
   "outputs": [],
   "source": [
    "94 98 101"
   ]
  }
 ],
 "metadata": {
  "kernelspec": {
   "display_name": "Python 3 (ipykernel)",
   "language": "python",
   "name": "python3"
  },
  "language_info": {
   "codemirror_mode": {
    "name": "ipython",
    "version": 3
   },
   "file_extension": ".py",
   "mimetype": "text/x-python",
   "name": "python",
   "nbconvert_exporter": "python",
   "pygments_lexer": "ipython3",
   "version": "3.9.12"
  }
 },
 "nbformat": 4,
 "nbformat_minor": 5
}
