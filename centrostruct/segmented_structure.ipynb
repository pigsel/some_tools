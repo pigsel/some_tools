{
 "cells": [
  {
   "cell_type": "markdown",
   "metadata": {},
   "source": [
    "основная идея - отделять траверсу от остальных частей опоры по пплотности отражений.    "
   ]
  },
  {
   "cell_type": "code",
   "execution_count": 238,
   "metadata": {},
   "outputs": [],
   "source": [
    "from pathlib import Path\n",
    "import geopandas as gpd\n",
    "import csv\n",
    "import numpy as np\n",
    "import matplotlib.pyplot as plt\n",
    "from sklearn.cluster import DBSCAN\n",
    "from numpy import unique\n",
    "from numpy import where\n",
    "from shapely.geometry import Point, MultiPoint, Polygon"
   ]
  },
  {
   "cell_type": "code",
   "execution_count": 2,
   "metadata": {},
   "outputs": [],
   "source": [
    "p = Path(r'/home/igor/Documents/some_tools/structure_samples/xyz')   # for linux"
   ]
  },
  {
   "cell_type": "code",
   "execution_count": 135,
   "metadata": {},
   "outputs": [
    {
     "name": "stdout",
     "output_type": "stream",
     "text": [
      "sus_big.xyz\n",
      "strain_3_lean_lo.xyz\n",
      "d-pole_3x.xyz\n",
      "substation.xyz\n",
      "sus_5.xyz\n",
      "st_220_5.xyz\n",
      "sus_w_wires.xyz\n",
      "s_pole.xyz\n",
      "strain_sm.xyz\n",
      "strain_2.xyz\n",
      "strain_A_dpole_leaned.xyz\n",
      "pole-w-guys_near_substation.xyz\n",
      "sus_2pole_lean.xyz\n",
      "s_pole_xarms.xyz\n",
      "pole_asim_post.xyz\n",
      "strain_A_dpole.xyz\n",
      "2pole_supp_guys.xyz\n",
      "pole_asim_3.xyz\n",
      "st_220_6.xyz\n",
      "sus_guyed_2x_steel.xyz\n",
      "sus_220_6.xyz\n",
      "3pole_guys.xyz\n",
      "strain_big.xyz\n"
     ]
    }
   ],
   "source": [
    "list_of_files = list(p.glob('*.xyz'))\n",
    "for file in list_of_files:\n",
    "    print(file.name)"
   ]
  },
  {
   "cell_type": "code",
   "execution_count": 213,
   "metadata": {},
   "outputs": [
    {
     "data": {
      "text/plain": [
       "[[1245959.75, 4851979.15, 20.32],\n",
       " [1245959.66, 4851979.11, 20.78],\n",
       " [1245959.55, 4851979.2, 21.36],\n",
       " [1245959.41, 4851979.79, 20.94],\n",
       " [1245959.46, 4851979.43, 21.48]]"
      ]
     },
     "execution_count": 213,
     "metadata": {},
     "output_type": "execute_result"
    }
   ],
   "source": [
    "spam_file = p / 'sus_5.xyz'\n",
    "str = []\n",
    "with spam_file.open() as f:\n",
    "        spamreader = csv.reader(f, delimiter=' ', quoting=csv.QUOTE_NONNUMERIC, skipinitialspace=True)\n",
    "        for row in spamreader:\n",
    "            str.append(row)\n",
    "str[:5]"
   ]
  },
  {
   "cell_type": "code",
   "execution_count": 139,
   "metadata": {},
   "outputs": [
    {
     "data": {
      "text/plain": [
       "array([[1245959.75, 4851979.15],\n",
       "       [1245959.66, 4851979.11],\n",
       "       [1245959.55, 4851979.2 ],\n",
       "       [1245959.41, 4851979.79],\n",
       "       [1245959.46, 4851979.43]])"
      ]
     },
     "execution_count": 139,
     "metadata": {},
     "output_type": "execute_result"
    }
   ],
   "source": [
    "n_s = np.array(str)\n",
    "n2 = n_s[:,:2]   # x and y\n",
    "n2[:5]"
   ]
  },
  {
   "cell_type": "code",
   "execution_count": 154,
   "metadata": {},
   "outputs": [
    {
     "data": {
      "image/png": "[encoded data removed]",
      "text/plain": [
       "<Figure size 432x288 with 1 Axes>"
      ]
     },
     "metadata": {
      "needs_background": "light"
     },
     "output_type": "display_data"
    }
   ],
   "source": [
    "X = n_s\n",
    "clustering = DBSCAN(eps=1, min_samples=50).fit(X)\n",
    "#print(clustering.labels_)\n",
    "\n",
    "yhat = clustering.fit_predict(X)\n",
    "# retrieve unique clusters\n",
    "clusters = unique(yhat)\n",
    "# create scatter plot for samples from each cluster\n",
    "for cluster in clusters:\n",
    "\t# get row indexes for samples with this cluster\n",
    "\trow_ix = where(yhat == cluster)\n",
    "\t# create scatter of these samples\n",
    "\tplt.scatter(X[row_ix, 0], X[row_ix, 1])\n",
    "# show the plot\n",
    "plt.axis('equal')\n",
    "plt.show()"
   ]
  },
  {
   "cell_type": "markdown",
   "metadata": {},
   "source": [
    "первая попытка сегментирования в плановом виде без учета высоты.\n",
    "иногда стабатывает на выделения тела опоры (восновном столбов), но выходит не всегда удачно, особенно на сложных опорах."
   ]
  },
  {
   "cell_type": "markdown",
   "metadata": {},
   "source": [
    "далее попробую одномерные графики - плотность по высотной составляющей - должно лучше отделять траверсы (если они без сильного наклона)"
   ]
  },
  {
   "cell_type": "code",
   "execution_count": 141,
   "metadata": {},
   "outputs": [
    {
     "data": {
      "text/plain": [
       "array([20.32, 20.78, 21.36, 20.94, 21.48])"
      ]
     },
     "execution_count": 141,
     "metadata": {},
     "output_type": "execute_result"
    }
   ],
   "source": [
    "n_z = n_s[:,2]   # делаем одномерный массив\n",
    "n_z[:5]"
   ]
  },
  {
   "cell_type": "code",
   "execution_count": 142,
   "metadata": {},
   "outputs": [
    {
     "data": {
      "text/plain": [
       "292"
      ]
     },
     "execution_count": 142,
     "metadata": {},
     "output_type": "execute_result"
    }
   ],
   "source": [
    "# двойная разница по высоте в модуле - на столько частей делится выборка - так получается по 0,5м каждая часть\n",
    "zd = int(abs(n_z.max()- n_z.min())*10)  \n",
    "zd"
   ]
  },
  {
   "cell_type": "code",
   "execution_count": 143,
   "metadata": {},
   "outputs": [
    {
     "data": {
      "image/png": "[encoded data removed]",
      "text/plain": [
       "<Figure size 432x288 with 1 Axes>"
      ]
     },
     "metadata": {
      "needs_background": "light"
     },
     "output_type": "display_data"
    }
   ],
   "source": [
    "new_a = plt.hist(n_z, zd, orientation='horizontal')"
   ]
  },
  {
   "cell_type": "markdown",
   "metadata": {},
   "source": [
    "вместо того чтобы пльзоваться гистограмными значениями лучше посчитать сегментацию самому, так будет и проще пользоваться массивом и поиском по нему"
   ]
  },
  {
   "cell_type": "code",
   "execution_count": 283,
   "metadata": {},
   "outputs": [
    {
     "name": "stdout",
     "output_type": "stream",
     "text": [
      "292\n"
     ]
    }
   ],
   "source": [
    "# needs to create new segmented list\n",
    "segmented = []\n",
    "segment_size = 0.1\n",
    "start = min(n_z)\n",
    "end = start + segment_size\n",
    "while end < max(n_z):\n",
    "    segmented.append(sum(end > i > start for i in n_z))\n",
    "    start += segment_size\n",
    "    end += segment_size\n",
    "\n",
    "print(len(segmented))"
   ]
  },
  {
   "cell_type": "code",
   "execution_count": 285,
   "metadata": {},
   "outputs": [
    {
     "name": "stdout",
     "output_type": "stream",
     "text": [
      "15 19 21.67 21.770000000000003\n"
     ]
    }
   ],
   "source": [
    "# finding h by index:\n",
    "indx = 15\n",
    "h = min(n_z) + segment_size*indx\n",
    "\n",
    "print(indx, segmented[indx], h, h+segment_size)"
   ]
  },
  {
   "cell_type": "code",
   "execution_count": 144,
   "metadata": {},
   "outputs": [
    {
     "data": {
      "image/png": "[encoded data removed]",
      "text/plain": [
       "<Figure size 1080x504 with 3 Axes>"
      ]
     },
     "metadata": {
      "needs_background": "light"
     },
     "output_type": "display_data"
    }
   ],
   "source": [
    "plt.figure(figsize=(15, 7))\n",
    "\n",
    "plt.subplot(131)  # 1 строка, 3 колонки, 1 колонка\n",
    "plt.title('step = 0.5m')\n",
    "plt.hist(n_z, zd, orientation='horizontal')\n",
    "plt.subplot(132)   # 1 строка, 3 колонки, 2 колонка\n",
    "plt.plot(n_s[:,1], n_s[:,2], 'o')\n",
    "plt.subplot(133)\n",
    "plt.plot(n_s[:,0], n_s[:,2], 'o')\n",
    "\n",
    "plt.suptitle('распределение отражений по высоте')\n",
    "plt.show()"
   ]
  },
  {
   "cell_type": "markdown",
   "metadata": {},
   "source": [
    "как видно на графике по плотности очень хорошо можно находить траверсы, особенно при большом количестве отражений от опоры. На столбах тоже хорошо работает. Дальше нужно будет выделить точки в пиках, и по этим массивам в плане построить прямую (линейную регрессию) которая будет означать угол разворота опоры.  в будущем этот подход позволит также определять нижние кромки траверс.\n"
   ]
  },
  {
   "cell_type": "code",
   "execution_count": 145,
   "metadata": {
    "scrolled": true
   },
   "outputs": [
    {
     "name": "stdout",
     "output_type": "stream",
     "text": [
      "количество отражений в сегменте №15: 19 точек\n",
      "дипазон высот этого сегмента: 21.7 - 21.8 m\n"
     ]
    }
   ],
   "source": [
    "# при построении графика создался массив new_a[0] \n",
    "# каждое значение в new_a[0][х] это количество точек между new_a[1][х] и new_a[1][х+1]\n",
    "\n",
    "segment = 15\n",
    "print(f'количество отражений в сегменте №{segment}: {int(new_a[0][segment])} точек')\n",
    "print(f'дипазон высот этого сегмента: {round(new_a[1][segment], 1)} - {round(new_a[1][segment+1], 1)} m')"
   ]
  },
  {
   "cell_type": "code",
   "execution_count": 187,
   "metadata": {},
   "outputs": [
    {
     "data": {
      "text/plain": [
       "(16.08219178082192, 21.28082191780822)"
      ]
     },
     "execution_count": 187,
     "metadata": {},
     "output_type": "execute_result"
    }
   ],
   "source": [
    "np.mean(new_a[0][(len(new_a[0])//2):]), np.mean(new_a[0])"
   ]
  },
  {
   "cell_type": "code",
   "execution_count": 167,
   "metadata": {},
   "outputs": [
    {
     "data": {
      "text/plain": [
       "217.0"
      ]
     },
     "execution_count": 167,
     "metadata": {},
     "output_type": "execute_result"
    }
   ],
   "source": [
    "max_trav = max(new_a[0][(len(new_a[0])//2):])   # max значение выше середины опоры\n",
    "max_trav"
   ]
  },
  {
   "cell_type": "code",
   "execution_count": 148,
   "metadata": {},
   "outputs": [
    {
     "data": {
      "text/plain": [
       "257"
      ]
     },
     "execution_count": 148,
     "metadata": {},
     "output_type": "execute_result"
    }
   ],
   "source": [
    "level = list(new_a[0]).index(max_trav)    # индекс максимального значения\n",
    "level"
   ]
  },
  {
   "cell_type": "code",
   "execution_count": 149,
   "metadata": {},
   "outputs": [
    {
     "name": "stdout",
     "output_type": "stream",
     "text": [
      "самая большая плотность обнаружена в диапазоне: 45.9 - 46.0\n",
      "количество точек: 217\n"
     ]
    }
   ],
   "source": [
    "print(f'самая большая плотность обнаружена в диапазоне: {round(new_a[1][level], 1)} - {round(new_a[1][level+1], 1)}')\n",
    "print(f'количество точек: {int(max(new_a[0][(len(new_a[0])//2):]))}')"
   ]
  },
  {
   "cell_type": "code",
   "execution_count": 188,
   "metadata": {
    "scrolled": true
   },
   "outputs": [
    {
     "name": "stdout",
     "output_type": "stream",
     "text": [
      "(165, 31.0)\n",
      "(166, 22.0)\n",
      "(176, 38.0)\n",
      "(191, 56.0)\n",
      "(192, 140.0)\n",
      "(193, 32.0)\n",
      "(194, 23.0)\n",
      "(195, 27.0)\n",
      "(196, 28.0)\n",
      "(197, 21.0)\n",
      "(200, 22.0)\n",
      "(201, 29.0)\n",
      "(224, 168.0)\n",
      "(225, 66.0)\n",
      "(226, 28.0)\n",
      "(227, 30.0)\n",
      "(228, 24.0)\n",
      "(229, 24.0)\n",
      "(233, 32.0)\n",
      "(257, 217.0)\n",
      "(258, 51.0)\n",
      "(259, 37.0)\n",
      "(260, 32.0)\n",
      "(261, 22.0)\n",
      "(262, 31.0)\n",
      "(264, 23.0)\n",
      "(266, 37.0)\n",
      "(267, 46.0)\n"
     ]
    }
   ],
   "source": [
    "# индекс и величина значений больше среднего (выше середины) \n",
    "\n",
    "ma = []\n",
    "for nu, i in enumerate(list(new_a[0])):\n",
    "    if nu > len(new_a[0])//2:\n",
    "        if i > (np.mean(new_a[0])//2)*2:\n",
    "            ma.append((nu, i))\n",
    "        \n",
    "for i in ma:\n",
    "    print(i) "
   ]
  },
  {
   "cell_type": "code",
   "execution_count": 189,
   "metadata": {},
   "outputs": [
    {
     "data": {
      "text/plain": [
       "{0: 22.0, 191: 327.0, 200: 51.0, 224: 340.0, 257: 390.0, 266: 83.0}"
      ]
     },
     "execution_count": 189,
     "metadata": {},
     "output_type": "execute_result"
    }
   ],
   "source": [
    "# break for groups with lowest segment num and sum of points\n",
    "ma2 = {}\n",
    "low_level = 0\n",
    "points_sum = 0\n",
    "\n",
    "for i in range(len(ma)):\n",
    "    #print(i, ma[i][0], ma[i][1])\n",
    "    # если следующий сегмент также отобран\n",
    "    if i != len(ma)-1 and ma[i][0]+1 == (ma[i+1][0]):\n",
    "        points_sum += ma[i+1][1]\n",
    "        \n",
    "        # если предыдущий сегмент не был отобран \n",
    "        if i > 0 and not ma[i][0]-1 == (ma[i-1][0]):\n",
    "            points_sum += ma[i][1]\n",
    "            low_level = ma[i][0]\n",
    "        \n",
    "        ma2[low_level] = points_sum\n",
    "\n",
    "    else:\n",
    "        #print('skip')\n",
    "        low_level = 0\n",
    "        points_sum = 0\n",
    "    \n",
    "    #print(low_level, points_sum)\n",
    "ma2"
   ]
  },
  {
   "cell_type": "code",
   "execution_count": 199,
   "metadata": {},
   "outputs": [
    {
     "name": "stdout",
     "output_type": "stream",
     "text": [
      "[(191, 327.0), (224, 340.0), (257, 390.0)]\n",
      "39.199999999999996 39.3 42.6 45.9\n"
     ]
    },
    {
     "data": {
      "text/plain": [
       "45.9"
      ]
     },
     "execution_count": 199,
     "metadata": {},
     "output_type": "execute_result"
    }
   ],
   "source": [
    "#  из отобранных групп выделяем три наибольшие\n",
    "# такой отбор не стаботает на траверсах постоянной высоты - там будет по два выброса на траверсу\n",
    "selected = sorted(ma2.items(), key=lambda item: item[1])[-3:]\n",
    "print(selected)\n",
    "\n",
    "h_trav = []   # нижие кромки траверс\n",
    "for i in selected:\n",
    "    h_trav.append(round(new_a[1][i[0]], 1))\n",
    "z1, z2, z3 = sorted(h_trav)[0], sorted(h_trav)[1], sorted(h_trav)[2]\n",
    "trav_start = min(h_trav)-0.1  # where xarms start (-0.1 to take a little buff)\n",
    "print(trav_start, z1, z2, z3)\n"
   ]
  },
  {
   "cell_type": "code",
   "execution_count": 200,
   "metadata": {},
   "outputs": [
    {
     "data": {
      "text/plain": [
       "array([[1.24595975e+06, 4.85197915e+06, 2.03200000e+01],\n",
       "       [1.24595966e+06, 4.85197911e+06, 2.07800000e+01],\n",
       "       [1.24595955e+06, 4.85197920e+06, 2.13600000e+01],\n",
       "       ...,\n",
       "       [1.24595385e+06, 4.85198430e+06, 4.59600000e+01],\n",
       "       [1.24595382e+06, 4.85198414e+06, 4.60600000e+01],\n",
       "       [1.24595379e+06, 4.85198398e+06, 4.61400000e+01]])"
      ]
     },
     "execution_count": 200,
     "metadata": {},
     "output_type": "execute_result"
    }
   ],
   "source": [
    "n_s"
   ]
  },
  {
   "cell_type": "code",
   "execution_count": 201,
   "metadata": {},
   "outputs": [
    {
     "data": {
      "text/plain": [
       "array([[1.24595596e+06, 4.85197866e+06, 3.94200000e+01],\n",
       "       [1.24595603e+06, 4.85197899e+06, 3.93900000e+01],\n",
       "       [1.24595602e+06, 4.85197976e+06, 3.94000000e+01],\n",
       "       ...,\n",
       "       [1.24595385e+06, 4.85198430e+06, 4.59600000e+01],\n",
       "       [1.24595382e+06, 4.85198414e+06, 4.60600000e+01],\n",
       "       [1.24595379e+06, 4.85198398e+06, 4.61400000e+01]])"
      ]
     },
     "execution_count": 201,
     "metadata": {},
     "output_type": "execute_result"
    }
   ],
   "source": [
    "# cut the legs\n",
    "n_s_cut = np.delete(n_s, n_s[:,2]<trav_start, 0)\n",
    "n_s_cut "
   ]
  },
  {
   "cell_type": "code",
   "execution_count": 202,
   "metadata": {},
   "outputs": [],
   "source": [
    "n_s_1 = np.delete(n_s_cut, n_s_cut[:,2]>z2, 0)\n",
    "n_s_3 = np.delete(n_s_cut, n_s_cut[:,2]<z3, 0)"
   ]
  },
  {
   "cell_type": "code",
   "execution_count": 203,
   "metadata": {},
   "outputs": [],
   "source": [
    "n_s_2 = np.delete(n_s_cut, n_s_cut[:,2]<z2, 0)\n",
    "n_s_2 = np.delete(n_s_2, n_s_2[:,2]>z3, 0)"
   ]
  },
  {
   "cell_type": "code",
   "execution_count": 204,
   "metadata": {},
   "outputs": [],
   "source": [
    "X3 = n_s_3[:,0].reshape(-1, 1)\n",
    "y3 = n_s_3[:,1]"
   ]
  },
  {
   "cell_type": "code",
   "execution_count": 205,
   "metadata": {},
   "outputs": [],
   "source": [
    "X2 = n_s_2[:,0].reshape(-1, 1)\n",
    "y2 = n_s_2[:,1]"
   ]
  },
  {
   "cell_type": "code",
   "execution_count": 206,
   "metadata": {},
   "outputs": [],
   "source": [
    "X1 = n_s_1[:,0].reshape(-1, 1)\n",
    "y1 = n_s_1[:,1]"
   ]
  },
  {
   "cell_type": "code",
   "execution_count": 207,
   "metadata": {},
   "outputs": [],
   "source": [
    "X = n_s_cut[:,0].reshape(-1, 1)\n",
    "y = n_s_cut[:,1]"
   ]
  },
  {
   "cell_type": "code",
   "execution_count": 209,
   "metadata": {},
   "outputs": [
    {
     "data": {
      "text/plain": [
       "[<matplotlib.lines.Line2D at 0x7ff77a571070>]"
      ]
     },
     "execution_count": 209,
     "metadata": {},
     "output_type": "execute_result"
    },
    {
     "data": {
      "image/png": "[encoded data removed]",
      "text/plain": [
       "<Figure size 432x288 with 1 Axes>"
      ]
     },
     "metadata": {
      "needs_background": "light"
     },
     "output_type": "display_data"
    }
   ],
   "source": [
    "from sklearn.linear_model import LinearRegression\n",
    "slr = LinearRegression()\n",
    "slr.fit(X, y)\n",
    "y_pred = slr.predict(X)\n",
    "slr1 = LinearRegression()\n",
    "slr1.fit(X1, y1)\n",
    "y_pred2 = slr.predict(X1)\n",
    "slr2 = LinearRegression()\n",
    "slr2.fit(X2, y2)\n",
    "y_pred3 = slr.predict(X2)\n",
    "#print('Slope: {:.2f}'.format(slr.coef_[0]))\n",
    "#print('Intercept: {:.2f}'.format(slr.intercept_))\n",
    "plt.scatter(X, y)\n",
    "plt.axis('equal')\n",
    "plt.plot(X, slr.predict(X), color='black', linewidth=2)\n",
    "plt.plot(X1, slr.predict(X1), color='green', linewidth=2)\n",
    "plt.plot(X2, slr.predict(X2), color='yellow', linewidth=2)"
   ]
  },
  {
   "cell_type": "markdown",
   "metadata": {},
   "source": [
    "линейная регрессия не особо подходит для определения угла разворота"
   ]
  },
  {
   "cell_type": "code",
   "execution_count": 255,
   "metadata": {},
   "outputs": [],
   "source": [
    "# will work with xarm \n",
    "n_s_1_mp = MultiPoint(n_s_1)    # to multipoint (needs to shapely)\n",
    "rect1 = n_s_1_mp.minimum_rotated_rectangle\n",
    "n_s_2_mp = MultiPoint(n_s_2)    # to multipoint (needs to shapely)\n",
    "rect2 = n_s_2_mp.minimum_rotated_rectangle\n",
    "n_s_3_mp = MultiPoint(n_s_3)    # to multipoint (needs to shapely)\n",
    "rect3 = n_s_3_mp.minimum_rotated_rectangle\n"
   ]
  },
  {
   "cell_type": "code",
   "execution_count": 256,
   "metadata": {},
   "outputs": [
    {
     "data": {
      "text/plain": [
       "(1245952.800578403, 1245957.1360695001, 4851977.280025508, 4851985.023875777)"
      ]
     },
     "execution_count": 256,
     "metadata": {},
     "output_type": "execute_result"
    },
    {
     "data": {
      "image/png": "[encoded data removed]",
      "text/plain": [
       "<Figure size 432x288 with 1 Axes>"
      ]
     },
     "metadata": {
      "needs_background": "light"
     },
     "output_type": "display_data"
    }
   ],
   "source": [
    "ax = gpd.GeoSeries(rect1).plot(color='green', alpha=0.3)\n",
    "gpd.GeoSeries(rect2).plot(ax=ax, color='red', alpha=0.3)\n",
    "gpd.GeoSeries(rect3).plot(ax=ax, color='yellow', alpha=0.3)\n",
    "plt.scatter(n_s_cut[:,0], n_s_cut[:,1])\n",
    "plt.axis('equal')\n"
   ]
  },
  {
   "cell_type": "markdown",
   "metadata": {},
   "source": [
    "такой метод лучше подходит для определения угла раворота"
   ]
  },
  {
   "cell_type": "code",
   "execution_count": 277,
   "metadata": {},
   "outputs": [],
   "source": [
    "# определим азимут и расстояние\n",
    "from math import sqrt, acos, degrees\n",
    "\n",
    "def azimuth(a, b):\n",
    "    # by two points we get azimuth\n",
    "    dx = a[0] - b[0]\n",
    "    dy = a[1] - b[1]\n",
    "    dist = sqrt(dx*dx + dy*dy)    # dist a to b\n",
    "    dx2 = abs(dx)\n",
    "    beta = degrees(acos(dx2/dist))\n",
    "    if dx > 0:\n",
    "        if dy < 0:\n",
    "            angle = 270 + beta\n",
    "        else:\n",
    "            angle = 270 - beta\n",
    "    else:\n",
    "        if dy < 0:\n",
    "            angle = 90 - beta\n",
    "        else:\n",
    "            angle = 90 + beta\n",
    "\n",
    "    return round(angle, 2), dist\n"
   ]
  },
  {
   "cell_type": "code",
   "execution_count": 279,
   "metadata": {},
   "outputs": [
    {
     "name": "stdout",
     "output_type": "stream",
     "text": [
      "(161.11, 6.8026700607985795)\n",
      "(71.11, 1.8572203067145663)\n",
      "161.11\n"
     ]
    }
   ],
   "source": [
    "# find a longest side\n",
    "n_s_cut_mp = MultiPoint(n_s_cut)    # to multipoint (needs to shapely)\n",
    "rect = n_s_cut_mp.minimum_rotated_rectangle\n",
    "\n",
    "side_a = azimuth(list(rect.exterior.coords)[0], list(rect.exterior.coords)[1])\n",
    "side_b = azimuth(list(rect.exterior.coords)[1], list(rect.exterior.coords)[2])\n",
    "if side_a[1] > side_b[1]:\n",
    "    str_azmt = side_a[0]\n",
    "else:\n",
    "    str_azmt = side_b[0]\n",
    "\n",
    "print(side_a)\n",
    "print(side_b)\n",
    "print(str_azmt)"
   ]
  },
  {
   "cell_type": "code",
   "execution_count": null,
   "metadata": {},
   "outputs": [],
   "source": []
  },
  {
   "cell_type": "code",
   "execution_count": null,
   "metadata": {},
   "outputs": [],
   "source": []
  },
  {
   "cell_type": "code",
   "execution_count": null,
   "metadata": {},
   "outputs": [],
   "source": []
  },
  {
   "cell_type": "code",
   "execution_count": null,
   "metadata": {},
   "outputs": [],
   "source": []
  }
 ],
 "metadata": {
  "kernelspec": {
   "display_name": "Python 3 (ipykernel)",
   "language": "python",
   "name": "python3"
  },
  "language_info": {
   "codemirror_mode": {
    "name": "ipython",
    "version": 3
   },
   "file_extension": ".py",
   "mimetype": "text/x-python",
   "name": "python",
   "nbconvert_exporter": "python",
   "pygments_lexer": "ipython3",
   "version": "3.9.12"
  }
 },
 "nbformat": 4,
 "nbformat_minor": 4
}
