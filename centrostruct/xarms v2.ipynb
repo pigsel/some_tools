{
 "cells": [
  {
   "cell_type": "markdown",
   "id": "3d273f27",
   "metadata": {},
   "source": [
    "another way to find xarms - add to points cloud distanse and angle from founded center\n",
    "\n",
    "then based on this finding xarms and their angles"
   ]
  },
  {
   "cell_type": "code",
   "execution_count": 1,
   "id": "a299f40e",
   "metadata": {},
   "outputs": [],
   "source": [
    "from pathlib import Path\n",
    "import csv\n",
    "import numpy as np\n",
    "import matplotlib.pyplot as plt\n",
    "from shapely.geometry import Point, MultiPoint, Polygon, LineString"
   ]
  },
  {
   "cell_type": "code",
   "execution_count": 2,
   "id": "c56f716d",
   "metadata": {},
   "outputs": [],
   "source": [
    "#p = Path(r'/home/igor/Documents/some_tools/structure_samples/xyz')   # for linux\n",
    "p = Path(r'D:\\python\\some_tools\\structure_samples\\xyz')"
   ]
  },
  {
   "cell_type": "code",
   "execution_count": 3,
   "id": "ad06432c",
   "metadata": {},
   "outputs": [
    {
     "name": "stdout",
     "output_type": "stream",
     "text": [
      "2pole_supp_guys.xyz\n",
      "3pole_guys.xyz\n",
      "d-pole_3x.xyz\n",
      "pole-w-guys_near_substation.xyz\n",
      "pole_asim_3.xyz\n",
      "pole_asim_post.xyz\n",
      "strain_2.xyz\n",
      "strain_3_lean_lo.xyz\n",
      "strain_A_dpole.xyz\n",
      "strain_A_dpole_leaned.xyz\n",
      "strain_big.xyz\n",
      "strain_sm.xyz\n",
      "st_220_5.xyz\n",
      "st_220_6.xyz\n",
      "substation.xyz\n",
      "sus_220_6.xyz\n",
      "sus_2pole_lean.xyz\n",
      "sus_5.xyz\n",
      "sus_big.xyz\n",
      "sus_guyed_2x_steel.xyz\n",
      "sus_w_wires.xyz\n",
      "s_pole.xyz\n",
      "s_pole_xarms.xyz\n"
     ]
    }
   ],
   "source": [
    "list_of_files = list(p.glob('*.xyz'))\n",
    "for file in list_of_files:\n",
    "    print(file.name)"
   ]
  },
  {
   "cell_type": "code",
   "execution_count": 4,
   "id": "220d1345",
   "metadata": {},
   "outputs": [],
   "source": [
    "from math import sqrt, acos, degrees\n",
    "\n",
    "def azimuth(a, b):\n",
    "    # by two points we get azimuth\n",
    "    dx = a[0] - b[0]\n",
    "    dy = a[1] - b[1]\n",
    "    dist = round(sqrt(dx*dx + dy*dy), 2)    # dist a to b\n",
    "\n",
    "    dx2 = round(abs(dx), 2)\n",
    "    \n",
    "    if dist != 0:\n",
    "        beta = degrees(acos(dx2/dist))\n",
    "    else: \n",
    "        beta = degrees(acos(0))\n",
    "\n",
    "    if dx > 0:\n",
    "        if dy < 0:\n",
    "            angle = 270 + beta\n",
    "        else:\n",
    "            angle = 270 - beta\n",
    "    else:\n",
    "        if dy < 0:\n",
    "            angle = 90 - beta\n",
    "        else:\n",
    "            angle = 90 + beta\n",
    "\n",
    "    return round(angle, 1), dist"
   ]
  },
  {
   "cell_type": "markdown",
   "id": "1dd91b95",
   "metadata": {},
   "source": [
    "start"
   ]
  },
  {
   "cell_type": "code",
   "execution_count": 5,
   "id": "77889f7e",
   "metadata": {},
   "outputs": [
    {
     "data": {
      "text/plain": [
       "[[1245959.75, 4851979.15, 20.32],\n",
       " [1245959.66, 4851979.11, 20.78],\n",
       " [1245959.55, 4851979.2, 21.36],\n",
       " [1245959.41, 4851979.79, 20.94],\n",
       " [1245959.46, 4851979.43, 21.48]]"
      ]
     },
     "execution_count": 5,
     "metadata": {},
     "output_type": "execute_result"
    }
   ],
   "source": [
    "spam_file = p / 'sus_5.xyz'\n",
    "str = []\n",
    "with spam_file.open() as f:\n",
    "        spamreader = csv.reader(f, delimiter=' ', quoting=csv.QUOTE_NONNUMERIC, skipinitialspace=True)\n",
    "        for row in spamreader:\n",
    "            str.append(row)\n",
    "str[:5]"
   ]
  },
  {
   "cell_type": "code",
   "execution_count": 6,
   "id": "4e144b70",
   "metadata": {},
   "outputs": [],
   "source": [
    "# to np array and cut 1/3 from grd\n",
    "np_str = np.array(str)\n",
    "np_str_cut = np.delete(np_str, np_str[:,2]<((max(np_str[:,2])-min(np_str[:,2]))/3 + min(np_str[:,2])), 0)"
   ]
  },
  {
   "cell_type": "code",
   "execution_count": 7,
   "id": "17b65c76",
   "metadata": {},
   "outputs": [],
   "source": [
    "#lets find center \n",
    "cpoint = MultiPoint(np_str_cut[:,:2]).minimum_rotated_rectangle.centroid"
   ]
  },
  {
   "cell_type": "code",
   "execution_count": 8,
   "id": "fdaa7fc7",
   "metadata": {},
   "outputs": [],
   "source": [
    "# now add to all the points dist to cpoint and azimuth\n",
    "b = []\n",
    "for i in np_str_cut:\n",
    "    b.append(azimuth((cpoint.x, cpoint.y), (i[0], i[1])))\n",
    "np_str_dist = np.append(np_str_cut, np.array(b), axis=1)  # new array with azimuth and distance from cpoint "
   ]
  },
  {
   "cell_type": "code",
   "execution_count": 9,
   "id": "74cce9ed",
   "metadata": {},
   "outputs": [
    {
     "name": "stdout",
     "output_type": "stream",
     "text": [
      "3262\n",
      "1032\n"
     ]
    }
   ],
   "source": [
    "# delete points that closer than 1m to center\n",
    "print(len(np_str_dist))\n",
    "np_str_dist = np.delete(np_str_dist, np_str_dist[:, 4] < 2, 0)\n",
    "print(len(np_str_dist))"
   ]
  },
  {
   "cell_type": "code",
   "execution_count": 10,
   "id": "c5504c39",
   "metadata": {
    "scrolled": true
   },
   "outputs": [
    {
     "data": {
      "image/png": "[encoded data removed]",
      "text/plain": [
       "<Figure size 432x288 with 1 Axes>"
      ]
     },
     "metadata": {
      "needs_background": "light"
     },
     "output_type": "display_data"
    }
   ],
   "source": [
    "# visualise\n",
    "new_a = plt.hist(np_str_dist[:, 2], int(max(np_str_dist[:, 2]) - min(np_str_dist[:, 2])), orientation='horizontal')"
   ]
  },
  {
   "cell_type": "code",
   "execution_count": 11,
   "id": "e5fec978",
   "metadata": {},
   "outputs": [
    {
     "data": {
      "text/plain": [
       "35.04"
      ]
     },
     "execution_count": 11,
     "metadata": {},
     "output_type": "execute_result"
    }
   ],
   "source": [
    "z_list = sorted(list(set(np_str_dist[:,2])))\n",
    "for i in range(len(z_list)-1):\n",
    "    if (z_list[i+1] - z_list[i]) > 0.5:\n",
    "        gap_start = z_list[i]\n",
    "        break\n",
    "gap_start   # это будет линия отреза ног, все что выше - траверсы"
   ]
  },
  {
   "cell_type": "code",
   "execution_count": 12,
   "id": "be14fc29",
   "metadata": {},
   "outputs": [
    {
     "name": "stdout",
     "output_type": "stream",
     "text": [
      "475\n"
     ]
    }
   ],
   "source": [
    "# cut again\n",
    "np_str_dist = np.delete(np_str_dist, np_str_dist[:,2] < gap_start, 0)\n",
    "print(len(np_str_dist))"
   ]
  },
  {
   "cell_type": "code",
   "execution_count": 132,
   "id": "e54313f8",
   "metadata": {},
   "outputs": [
    {
     "data": {
      "image/png": "[encoded data removed]",
      "text/plain": [
       "<Figure size 432x288 with 1 Axes>"
      ]
     },
     "metadata": {
      "needs_background": "light"
     },
     "output_type": "display_data"
    }
   ],
   "source": [
    "# visualise\n",
    "new_b = plt.hist(np_str_dist[:,2], int((max(np_str_dist[:,2]) - min(np_str_dist[:,2]))*1), orientation='horizontal')"
   ]
  },
  {
   "cell_type": "code",
   "execution_count": 13,
   "id": "089ac0d5",
   "metadata": {},
   "outputs": [],
   "source": [
    "def xarms_levels(array, segment_size):\n",
    "    segmented = []\n",
    "    start = min(array)\n",
    "    end = start + segment_size\n",
    "    while end < max(array):\n",
    "        segmented.append(sum(end > i > start for i in array))\n",
    "        start += segment_size\n",
    "        end += segment_size\n",
    "\n",
    "        \n",
    "    # then choose only bigger than mean\n",
    "    ma = []\n",
    "    biggest = 0\n",
    "    biggest_nu = 0\n",
    "    for nu, i in enumerate(segmented):\n",
    "        if i > (np.mean(segmented)):\n",
    "            ma.append(round((min(array) + segment_size*nu), 1))\n",
    "        if i > biggest:\n",
    "            biggest = i\n",
    "            biggest_nu = nu\n",
    "    \n",
    "    big_one = round((min(array) + segment_size*biggest_nu), 1)\n",
    "    \n",
    "    return ma, big_one"
   ]
  },
  {
   "cell_type": "code",
   "execution_count": 14,
   "id": "5b3c3252",
   "metadata": {},
   "outputs": [],
   "source": [
    "# try to split xarms\n",
    "first_run = xarms_levels(np_str_dist[:,2], 1)[0]   # take 1m step\n",
    "first_run = sorted(first_run)   # h of xarms after first run"
   ]
  },
  {
   "cell_type": "code",
   "execution_count": 16,
   "id": "f7abfffb",
   "metadata": {},
   "outputs": [],
   "source": [
    "spam = []\n",
    "for i in range(len(first_run)-1):\n",
    "    spam.append(first_run[i+1]-first_run[i])\n",
    "hdist = np.mean(spam)"
   ]
  },
  {
   "cell_type": "code",
   "execution_count": 17,
   "id": "3bbefb75",
   "metadata": {},
   "outputs": [
    {
     "data": {
      "text/plain": [
       "([39.0, 42.0, 45.0], [3.0, 3.0], 3.0)"
      ]
     },
     "execution_count": 17,
     "metadata": {},
     "output_type": "execute_result"
    }
   ],
   "source": [
    "first_run, spam, hdist"
   ]
  },
  {
   "cell_type": "code",
   "execution_count": 18,
   "id": "62aec8f4",
   "metadata": {},
   "outputs": [],
   "source": [
    "# then split by arms\n",
    "arms = []\n",
    "for i in range(len(first_run)):\n",
    "    spam = np.delete(np_str_dist, np_str_dist[:,2] < first_run[i], 0)\n",
    "    if i < len(first_run)-1:\n",
    "        spam = np.delete(spam, spam[:,2] > first_run[i+1], 0)\n",
    "    arms.append(spam)\n"
   ]
  },
  {
   "cell_type": "code",
   "execution_count": 19,
   "id": "02dcda73",
   "metadata": {},
   "outputs": [],
   "source": [
    "# then work with each arm"
   ]
  },
  {
   "cell_type": "code",
   "execution_count": 20,
   "id": "c46dae99",
   "metadata": {},
   "outputs": [
    {
     "name": "stdout",
     "output_type": "stream",
     "text": [
      "154\n",
      "82\n"
     ]
    }
   ],
   "source": [
    "# then cut max density on 0.1m\n",
    "print(len(arms[0]))\n",
    "level = xarms_levels(arms[0][:,2], 0.1)[1]   # max density\n",
    "arms[0] = np.delete(arms[0], arms[0][:,2] < level-0.1, 0)\n",
    "arms[0] = np.delete(arms[0], arms[0][:,2] > level+0.1, 0)\n",
    "print(len(arms[0]))"
   ]
  },
  {
   "cell_type": "code",
   "execution_count": 236,
   "id": "d18f513a",
   "metadata": {},
   "outputs": [
    {
     "data": {
      "image/png": "[encoded data removed]",
      "text/plain": [
       "<Figure size 432x288 with 1 Axes>"
      ]
     },
     "metadata": {
      "needs_background": "light"
     },
     "output_type": "display_data"
    }
   ],
   "source": [
    "# visualise\n",
    "new_b = plt.hist(arms[0][:,2], int((max(arms[0][:,2]) - min(arms[0][:,2]))*50), orientation='horizontal')"
   ]
  },
  {
   "cell_type": "code",
   "execution_count": 239,
   "id": "e68e7fa5",
   "metadata": {},
   "outputs": [
    {
     "data": {
      "text/plain": [
       "(1245953.594, 1245956.146, 4851978.1665, 4851984.6235)"
      ]
     },
     "execution_count": 239,
     "metadata": {},
     "output_type": "execute_result"
    },
    {
     "data": {
      "image/png": "[encoded data removed]",
      "text/plain": [
       "<Figure size 432x288 with 1 Axes>"
      ]
     },
     "metadata": {
      "needs_background": "light"
     },
     "output_type": "display_data"
    }
   ],
   "source": [
    "plt.scatter(arms[0][:,0], arms[0][:,1])\n",
    "plt.axis('equal')"
   ]
  },
  {
   "cell_type": "code",
   "execution_count": 255,
   "id": "df7d7bc9",
   "metadata": {},
   "outputs": [
    {
     "name": "stdout",
     "output_type": "stream",
     "text": [
      "22 60\n"
     ]
    }
   ],
   "source": [
    "# then select by angle \n",
    "# devide to 2 part by angle\n",
    "# find angle and max len for each part\n",
    "\n",
    "first_part = []\n",
    "second_part = []\n",
    "\n",
    "for i in range(len(arms[0])):\n",
    "    if i != 0:\n",
    "        if abs(arms[0][:,3][i]-spam) > 40:\n",
    "            second_part.append(list(arms[0][i]))\n",
    "        else:\n",
    "            first_part.append(list(arms[0][i]))\n",
    "    else:\n",
    "        spam = arms[0][:,3][i]\n",
    "        first_part.append(list(arms[0][i]))\n",
    "\n",
    "print(len(first_part), len(second_part))\n"
   ]
  },
  {
   "cell_type": "code",
   "execution_count": 267,
   "id": "f984e75f",
   "metadata": {},
   "outputs": [],
   "source": [
    "# cut by length\n",
    "first_part = np.array(first_part)\n",
    "first_part = np.delete(first_part, first_part[:,4] < max(first_part[:,4])-0.2, 0)   # cut -0.2 from end"
   ]
  },
  {
   "cell_type": "code",
   "execution_count": 320,
   "id": "91b8da1c",
   "metadata": {
    "scrolled": true
   },
   "outputs": [
    {
     "name": "stdout",
     "output_type": "stream",
     "text": [
      "161.22500000000002 2.8\n"
     ]
    }
   ],
   "source": [
    "print(np.mean(first_part[:,3]), max(first_part[:,4]))"
   ]
  },
  {
   "cell_type": "code",
   "execution_count": 280,
   "id": "64f156e5",
   "metadata": {},
   "outputs": [
    {
     "data": {
      "text/plain": [
       "39.39"
      ]
     },
     "execution_count": 280,
     "metadata": {},
     "output_type": "execute_result"
    }
   ],
   "source": [
    "np.mean(sorted(first_part[:,2])[:5])   # средняя и нижних 5 точек - нижний край траверсы"
   ]
  },
  {
   "cell_type": "code",
   "execution_count": null,
   "id": "4beeea07",
   "metadata": {},
   "outputs": [],
   "source": [
    "# как финал надо найти ось каждой траверсы (длину, азимут, координаты начала и конца)\n"
   ]
  },
  {
   "cell_type": "code",
   "execution_count": null,
   "id": "c943245b",
   "metadata": {},
   "outputs": [],
   "source": []
  },
  {
   "cell_type": "code",
   "execution_count": 276,
   "id": "0eee6b99",
   "metadata": {},
   "outputs": [],
   "source": [
    "second_part = np.array(second_part)\n",
    "second_part = np.delete(second_part, second_part[:,4] < max(second_part[:,4])-0.2, 0)   # cut -0.2 from end"
   ]
  },
  {
   "cell_type": "code",
   "execution_count": 321,
   "id": "d491e0c1",
   "metadata": {},
   "outputs": [
    {
     "data": {
      "text/plain": [
       "(340.5357142857143, 3.37)"
      ]
     },
     "execution_count": 321,
     "metadata": {},
     "output_type": "execute_result"
    }
   ],
   "source": [
    "(np.mean(second_part[:,3]), max(second_part[:,4]))"
   ]
  },
  {
   "cell_type": "code",
   "execution_count": 279,
   "id": "1a6c326e",
   "metadata": {},
   "outputs": [
    {
     "data": {
      "text/plain": [
       "39.388"
      ]
     },
     "execution_count": 279,
     "metadata": {},
     "output_type": "execute_result"
    }
   ],
   "source": [
    "np.mean(sorted(second_part[:,2]))   # средняя и нижних 5 точек - нижний край траверсы"
   ]
  },
  {
   "cell_type": "code",
   "execution_count": 282,
   "id": "2519e68b",
   "metadata": {},
   "outputs": [
    {
     "data": {
      "text/plain": [
       "(3.37, 2.8)"
      ]
     },
     "execution_count": 282,
     "metadata": {},
     "output_type": "execute_result"
    }
   ],
   "source": [
    "max(second_part[:,4]), max(first_part[:,4])"
   ]
  },
  {
   "cell_type": "code",
   "execution_count": 318,
   "id": "60cf17ae",
   "metadata": {},
   "outputs": [],
   "source": [
    "from math import cos, sin, radians\n",
    "\n",
    "def aztocoords(az, length):\n",
    "    dx = round(sin(radians(az))*length, 2)\n",
    "    dy = round(cos(radians(az))*length, 2)\n",
    "    \n",
    "    return dx, dy"
   ]
  },
  {
   "cell_type": "code",
   "execution_count": 322,
   "id": "7d86f16c",
   "metadata": {},
   "outputs": [
    {
     "data": {
      "text/plain": [
       "(-1.12, 3.18)"
      ]
     },
     "execution_count": 322,
     "metadata": {},
     "output_type": "execute_result"
    }
   ],
   "source": [
    "aztocoords(340.5, 3.37)   # sec"
   ]
  },
  {
   "cell_type": "code",
   "execution_count": 323,
   "id": "2b7b9d05",
   "metadata": {},
   "outputs": [
    {
     "data": {
      "text/plain": [
       "(0.9, -2.65)"
      ]
     },
     "execution_count": 323,
     "metadata": {},
     "output_type": "execute_result"
    }
   ],
   "source": [
    "aztocoords(161.2, 2.8)  # firts"
   ]
  },
  {
   "cell_type": "code",
   "execution_count": 325,
   "id": "13fc624f",
   "metadata": {},
   "outputs": [],
   "source": [
    "st_p = (cpoint.x - 1.12, cpoint.y + 3.18)"
   ]
  },
  {
   "cell_type": "code",
   "execution_count": 327,
   "id": "57d39841",
   "metadata": {},
   "outputs": [],
   "source": [
    "end_p = (cpoint.x + 0.9, cpoint.y - 2.65)"
   ]
  },
  {
   "cell_type": "code",
   "execution_count": 336,
   "id": "cc18f9ad",
   "metadata": {},
   "outputs": [
    {
     "data": {
      "text/plain": [
       "(1245951.938, 1245957.9219999998, 4851977.639, 4851984.700999999)"
      ]
     },
     "execution_count": 336,
     "metadata": {},
     "output_type": "execute_result"
    },
    {
     "data": {
      "image/png": "[encoded data removed]",
      "text/plain": [
       "<Figure size 432x288 with 1 Axes>"
      ]
     },
     "metadata": {
      "needs_background": "light"
     },
     "output_type": "display_data"
    }
   ],
   "source": [
    "plt.scatter(np_str_cut[:,0], np_str_cut[:,1])\n",
    "plt.scatter(arms[0][:,0], arms[0][:,1], color='yellow')\n",
    "plt.plot([(cpoint.x - 1.12), (cpoint.x + 0.9)], [cpoint.y + 3.18, cpoint.y - 2.65], color='red')\n",
    "plt.axis('equal')"
   ]
  },
  {
   "cell_type": "code",
   "execution_count": null,
   "id": "744216c0",
   "metadata": {},
   "outputs": [],
   "source": []
  }
 ],
 "metadata": {
  "kernelspec": {
   "display_name": "Python 3 (ipykernel)",
   "language": "python",
   "name": "python3"
  },
  "language_info": {
   "codemirror_mode": {
    "name": "ipython",
    "version": 3
   },
   "file_extension": ".py",
   "mimetype": "text/x-python",
   "name": "python",
   "nbconvert_exporter": "python",
   "pygments_lexer": "ipython3",
   "version": "3.9.12"
  }
 },
 "nbformat": 4,
 "nbformat_minor": 5
}
