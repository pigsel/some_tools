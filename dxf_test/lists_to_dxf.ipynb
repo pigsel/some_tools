{
 "cells": [
  {
   "cell_type": "markdown",
   "metadata": {},
   "source": [
    "проба сформировать DXF файл с отрезками в разных слоях"
   ]
  },
  {
   "cell_type": "code",
   "execution_count": 2,
   "metadata": {},
   "outputs": [],
   "source": [
    "from pathlib import Path\n",
    "import csv"
   ]
  },
  {
   "cell_type": "markdown",
   "metadata": {},
   "source": [
    "пути к файлам: "
   ]
  },
  {
   "cell_type": "code",
   "execution_count": 14,
   "metadata": {},
   "outputs": [],
   "source": [
    "p = Path(r'D:\\work\\_TP\\for_22\\dxf')\n",
    "p1 = p / '7.txt'"
   ]
  },
  {
   "cell_type": "markdown",
   "metadata": {},
   "source": [
    "читаем файлы"
   ]
  },
  {
   "cell_type": "code",
   "execution_count": 15,
   "metadata": {},
   "outputs": [],
   "source": [
    "list_of_files = list(p.glob('*.txt'))"
   ]
  },
  {
   "cell_type": "code",
   "execution_count": 16,
   "metadata": {},
   "outputs": [],
   "source": [
    "# пробуем читать один\n",
    "cline = []\n",
    "with p1.open() as f:\n",
    "    spamreader = csv.reader(f, delimiter=' ', skipinitialspace=True)\n",
    "    for row in spamreader:\n",
    "        cline.append(row)"
   ]
  },
  {
   "cell_type": "code",
   "execution_count": 20,
   "metadata": {},
   "outputs": [
    {
     "data": {
      "text/plain": [
       "[['1828798.8318166651', '5623372.072153886'],\n",
       " ['1828602.9615920016', '5623767.455651739'],\n",
       " ['1828623.7575085498', '5623587.100010607'],\n",
       " ['1828787.2517588676', '5623386.2913592495'],\n",
       " ['1828798.8318166651', '5623372.072153886']]"
      ]
     },
     "execution_count": 20,
     "metadata": {},
     "output_type": "execute_result"
    }
   ],
   "source": [
    "cline"
   ]
  },
  {
   "cell_type": "markdown",
   "metadata": {},
   "source": [
    "сделаем функцию для записи полилиний (ценртлайнов)"
   ]
  },
  {
   "cell_type": "code",
   "execution_count": 21,
   "metadata": {},
   "outputs": [],
   "source": [
    "def polylines(cline):\n",
    "    \"создает часть файла с полилиниями (ценртлайн)\"\n",
    "    \n",
    "    # переменные\n",
    "    layername = 'Coridor'\n",
    "    color = 5\n",
    "    closed = 136   # для polyline 136 = не замкнуто, 9 = замкнуто \n",
    "    \n",
    "    # header\n",
    "    text = f'  0\\nPOLYLINE\\n 8\\n{layername}\\n 62\\n     {color}\\n 70\\n   {closed}\\n'\n",
    "    \n",
    "    # for each vertex\n",
    "    for n in range(len(cline)):\n",
    "        text += f'  0\\nVERTEX\\n 10\\n{cline[n][0]}\\n 20\\n{cline[n][1]}\\n 30\\n0\\n'\n",
    "    \n",
    "    # closing polyline\n",
    "    text += '  0\\nSEQEND\\n'\n",
    "    \n",
    "    #print(text)   # заменить на запись в файл\n",
    "    return text\n",
    "    \n",
    "#polylines(cline)"
   ]
  },
  {
   "cell_type": "code",
   "execution_count": 22,
   "metadata": {},
   "outputs": [],
   "source": [
    "allthetext=''"
   ]
  },
  {
   "cell_type": "code",
   "execution_count": 23,
   "metadata": {},
   "outputs": [],
   "source": [
    "for file in list_of_files:\n",
    "    cline = []\n",
    "    with file.open() as f:\n",
    "        spamreader = csv.reader(f, delimiter=' ', skipinitialspace=True)\n",
    "        for row in spamreader:\n",
    "            cline.append(row)\n",
    "    allthetext += polylines(cline)\n"
   ]
  },
  {
   "cell_type": "code",
   "execution_count": 26,
   "metadata": {
    "scrolled": false
   },
   "outputs": [],
   "source": [
    "#allthetext"
   ]
  },
  {
   "cell_type": "markdown",
   "metadata": {},
   "source": [
    "а теперь соберем всё в один файл"
   ]
  },
  {
   "cell_type": "code",
   "execution_count": 25,
   "metadata": {},
   "outputs": [
    {
     "data": {
      "text/plain": [
       "776842"
      ]
     },
     "execution_count": 25,
     "metadata": {},
     "output_type": "execute_result"
    }
   ],
   "source": [
    "p_dxf = p / 'result.dxf'\n",
    "p_dxf.write_text('  0\\nSECTION\\n  2\\nENTITIES\\n' + allthetext + '  0\\nENDSEC\\n  0\\nEOF')"
   ]
  },
  {
   "cell_type": "code",
   "execution_count": null,
   "metadata": {},
   "outputs": [],
   "source": []
  },
  {
   "cell_type": "code",
   "execution_count": null,
   "metadata": {},
   "outputs": [],
   "source": []
  },
  {
   "cell_type": "code",
   "execution_count": null,
   "metadata": {},
   "outputs": [],
   "source": []
  },
  {
   "cell_type": "code",
   "execution_count": null,
   "metadata": {},
   "outputs": [],
   "source": []
  }
 ],
 "metadata": {
  "kernelspec": {
   "display_name": "Python 3",
   "language": "python",
   "name": "python3"
  },
  "language_info": {
   "codemirror_mode": {
    "name": "ipython",
    "version": 3
   },
   "file_extension": ".py",
   "mimetype": "text/x-python",
   "name": "python",
   "nbconvert_exporter": "python",
   "pygments_lexer": "ipython3",
   "version": "3.9.1"
  }
 },
 "nbformat": 4,
 "nbformat_minor": 4
}
