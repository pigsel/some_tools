{
 "cells": [
  {
   "cell_type": "markdown",
   "metadata": {},
   "source": [
    "проба сформировать DXF файл с отрезками в разных слоях"
   ]
  },
  {
   "cell_type": "code",
   "execution_count": 1,
   "metadata": {},
   "outputs": [],
   "source": [
    "from pathlib import Path\n",
    "import csv"
   ]
  },
  {
   "cell_type": "markdown",
   "metadata": {},
   "source": [
    "пути к файлам: "
   ]
  },
  {
   "cell_type": "code",
   "execution_count": 2,
   "metadata": {},
   "outputs": [],
   "source": [
    "p = Path(r'D:\\python\\some_tools\\dxf_test')\n",
    "p_cline = p / 'cgtow_corr.txt'\n",
    "p_tops = p / 'tops_corr.txt'"
   ]
  },
  {
   "cell_type": "markdown",
   "metadata": {},
   "source": [
    "читаем файлы"
   ]
  },
  {
   "cell_type": "code",
   "execution_count": 26,
   "metadata": {},
   "outputs": [],
   "source": [
    "cline = []\n",
    "with p_cline.open() as f:\n",
    "    spamreader = csv.reader(f, delimiter=' ', skipinitialspace=True)\n",
    "    for row in spamreader:\n",
    "        cline.append(row)\n",
    "\n",
    "tops = []\n",
    "with p_tops.open() as f:\n",
    "    spamreader = csv.reader(f, delimiter=' ', skipinitialspace=True)\n",
    "    for row in spamreader:\n",
    "        tops.append(row)"
   ]
  },
  {
   "cell_type": "code",
   "execution_count": 25,
   "metadata": {},
   "outputs": [
    {
     "data": {
      "text/plain": [
       "['LCH-KIN-B0601', '1852177.48', '5760052.88', '409.5']"
      ]
     },
     "execution_count": 25,
     "metadata": {},
     "output_type": "execute_result"
    }
   ],
   "source": [
    "cline[1]"
   ]
  },
  {
   "cell_type": "markdown",
   "metadata": {},
   "source": [
    "запишем части для DXF файла"
   ]
  },
  {
   "cell_type": "code",
   "execution_count": 39,
   "metadata": {},
   "outputs": [],
   "source": [
    "# MAIN\n",
    "dxf_head = '  0\\nSECTION\\n  2\\nENTITIES\\n'\n",
    "dxf_end = '  0\\nENDSEC\\n  0\\nEOF'\n",
    "\n",
    "# переменные\n",
    "layername = 'Centerline'\n",
    "color = 2\n",
    "closed = 136   # для polyline 136 = не замкнуто, 9 = замкнуто \n",
    "x = '1852207.68'\n",
    "y = '5760037.48'\n",
    "z = '410.82'\n",
    "\n",
    "# POLYLINE\n",
    "polyline_head = f'  0\\nPOLYLINE\\n 8\\n{layername}\\n 62\\n     {color}\\n 70\\n   {closed}\\n'\n",
    "polyline_vertex = f'  0\\nVERTEX\\n 10\\n{x}\\n 20\\n{y}\\n 30\\n{z}\\n'\n",
    "polyline_end = '  0\\nSEQEND\\n'\n",
    "\n",
    "# LINE \n",
    "line_head =   f'0\\nLINE\\n 8\\n{layername}\\n 62\\n     {color}\\n'\n",
    "line_start = f' 10\\n{x}\\n 20\\n{y}\\n 30\\n{z}\\n'\n",
    "line_end = f' 11\\n{x}\\n 21\\n{y}\\n 31\\n{z}\\n'\n"
   ]
  },
  {
   "cell_type": "markdown",
   "metadata": {},
   "source": [
    "сделаем функцию"
   ]
  },
  {
   "cell_type": "code",
   "execution_count": 46,
   "metadata": {},
   "outputs": [],
   "source": [
    "def lines(bots, tops):\n",
    "    text = \"\"\n",
    "    for n in range(3):\n",
    "        text += line_head\n",
    "        \n",
    "        x = bots[n][1]\n",
    "        y = bots[n][2]\n",
    "        z = bots[n][3]\n",
    "        text += line_start\n",
    "        \n",
    "        x = tops[n][1]\n",
    "        y = tops[n][2]\n",
    "        z = tops[n][3]\n",
    "        text += line_end\n",
    "        \n",
    "    print(text)"
   ]
  },
  {
   "cell_type": "code",
   "execution_count": 47,
   "metadata": {},
   "outputs": [
    {
     "name": "stdout",
     "output_type": "stream",
     "text": [
      "0\n",
      "LINE\n",
      " 8\n",
      "Centerline\n",
      " 62\n",
      "     2\n",
      " 10\n",
      "1852207.68\n",
      " 20\n",
      "5760037.48\n",
      " 30\n",
      "410.82\n",
      " 11\n",
      "1852207.68\n",
      " 21\n",
      "5760037.48\n",
      " 31\n",
      "410.82\n",
      "0\n",
      "LINE\n",
      " 8\n",
      "Centerline\n",
      " 62\n",
      "     2\n",
      " 10\n",
      "1852207.68\n",
      " 20\n",
      "5760037.48\n",
      " 30\n",
      "410.82\n",
      " 11\n",
      "1852207.68\n",
      " 21\n",
      "5760037.48\n",
      " 31\n",
      "410.82\n",
      "0\n",
      "LINE\n",
      " 8\n",
      "Centerline\n",
      " 62\n",
      "     2\n",
      " 10\n",
      "1852207.68\n",
      " 20\n",
      "5760037.48\n",
      " 30\n",
      "410.82\n",
      " 11\n",
      "1852207.68\n",
      " 21\n",
      "5760037.48\n",
      " 31\n",
      "410.82\n",
      "\n"
     ]
    }
   ],
   "source": [
    "lines(cline, tops)"
   ]
  },
  {
   "cell_type": "code",
   "execution_count": null,
   "metadata": {},
   "outputs": [],
   "source": []
  }
 ],
 "metadata": {
  "kernelspec": {
   "display_name": "Python 3",
   "language": "python",
   "name": "python3"
  },
  "language_info": {
   "codemirror_mode": {
    "name": "ipython",
    "version": 3
   },
   "file_extension": ".py",
   "mimetype": "text/x-python",
   "name": "python",
   "nbconvert_exporter": "python",
   "pygments_lexer": "ipython3",
   "version": "3.9.1"
  }
 },
 "nbformat": 4,
 "nbformat_minor": 4
}
