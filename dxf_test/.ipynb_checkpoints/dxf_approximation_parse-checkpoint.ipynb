{
 "cells": [
  {
   "cell_type": "code",
   "execution_count": 1,
   "metadata": {},
   "outputs": [],
   "source": [
    "from pathlib import Path\n",
    "import csv"
   ]
  },
  {
   "cell_type": "code",
   "execution_count": 2,
   "metadata": {},
   "outputs": [],
   "source": [
    "p = Path(r'D:\\python\\some_tools\\dxf_test\\skb20')\n",
    "cgtow = p / 'cgtow.txt'\n",
    "tabs = []   # таблицы по каждой фазе"
   ]
  },
  {
   "cell_type": "markdown",
   "metadata": {},
   "source": [
    "запишем лист с координатами опор из файла"
   ]
  },
  {
   "cell_type": "code",
   "execution_count": 3,
   "metadata": {},
   "outputs": [
    {
     "data": {
      "text/plain": [
       "'468188.6'"
      ]
     },
     "execution_count": 3,
     "metadata": {},
     "output_type": "execute_result"
    }
   ],
   "source": [
    "ctw = []\n",
    "with cgtow.open() as f:\n",
    "    spam = csv.reader(f, delimiter='\\t', skipinitialspace=True)\n",
    "    for row in spam:\n",
    "        if not row[1] == '':\n",
    "            ctw.append(row)\n",
    "ctw[1][1]"
   ]
  },
  {
   "cell_type": "code",
   "execution_count": 4,
   "metadata": {},
   "outputs": [],
   "source": [
    "dxf_files = list(p.glob('001*.dxf'))   # list of dxf files"
   ]
  },
  {
   "cell_type": "markdown",
   "metadata": {},
   "source": [
    "создаем функцию парсер dxf"
   ]
  },
  {
   "cell_type": "code",
   "execution_count": 5,
   "metadata": {},
   "outputs": [],
   "source": [
    "def dxf_poly_parse(path):\n",
    "    \n",
    "    dxf = []   # list to write all data from file\n",
    "    \n",
    "    with open(path) as dxf_file:\n",
    "        for line in dxf_file:\n",
    "            dxf.append(line.strip())   # write each stroke to list\n",
    "            \n",
    "    polylines = []   # empty list for polylines\n",
    "    line = []   # list for coords of each polyline\n",
    "\n",
    "    for i in range(len(dxf)):\n",
    "        if dxf[i] == 'POLYLINE':\n",
    "            line = []   # list cleaning\n",
    "        if dxf[i] == 'VERTEX' and dxf[i+1] == '10':\n",
    "            line.append((float(dxf[i+2]), float(dxf[i+4]), float(dxf[i+6])))\n",
    "        if dxf[i] == 'SEQEND':\n",
    "            polylines.append(line)\n",
    "    \n",
    "    return polylines"
   ]
  },
  {
   "cell_type": "markdown",
   "metadata": {},
   "source": [
    "делаем функцию рассчета расстояния 2д"
   ]
  },
  {
   "cell_type": "code",
   "execution_count": 6,
   "metadata": {},
   "outputs": [],
   "source": [
    "def dist(x1, y1, x2, y2):\n",
    "    \"\"\" расчет расстояния \"\"\"\n",
    "    return (((x2-x1)**2 + (y2-y1)**2)**1/2)"
   ]
  },
  {
   "cell_type": "markdown",
   "metadata": {},
   "source": [
    "проход по дхф файлам"
   ]
  },
  {
   "cell_type": "code",
   "execution_count": 27,
   "metadata": {},
   "outputs": [],
   "source": [
    "mid_points = []   # list for mid points\n",
    "for file in dxf_files:\n",
    "    mids = []   # list of mid points for each phase\n",
    "    phase = file.stem.split('_')[-1]   # name of phase\n",
    "    polylines = dxf_poly_parse(file)   # calling function to have polylines\n",
    "    \n",
    "    for line in range(len(polylines)):\n",
    "        d1_min = d2_min = 1000000    # fake distance\n",
    "        id_start = id_end = 'None'   # fake id\n",
    " \n",
    "        st_x = polylines[line][0][0]\n",
    "        st_y = polylines[line][0][1]\n",
    "        end_x = polylines[line][-1][0]\n",
    "        end_y = polylines[line][-1][1]\n",
    "        \n",
    "        # finding start and end ID\n",
    "        for a in range(len(ctw)):\n",
    "            # calc if one of other structures is closer to the start of polyline\n",
    "            \n",
    "            d2 = dist(st_x, st_y, float(ctw[a][1]), float(ctw[a][2]))\n",
    "            \n",
    "            if d2 < d1_min:\n",
    "                d1_min = d2   # rewrite min dist\n",
    "                id_start = ctw[a][0]   # rewrite id\n",
    "                \n",
    "        for b in range(len(ctw)):\n",
    "            # calc if one of other structures is closer to the end of polyline\n",
    "            d2 = dist(end_x, end_y, float(ctw[b][1]), float(ctw[b][2]))\n",
    "            \n",
    "            if d2 < d2_min:\n",
    "                d2_min = d2   # rewrite min dist\n",
    "                id_end = ctw[b][0]   # rewrite id\n",
    "        \n",
    "        mid_x = st_x - (st_x-end_x)/2\n",
    "        mid_y = st_y - (st_y-end_y)/2\n",
    "        \n",
    "        # finding mid_z\n",
    "        cv_num = len(polylines[line])//2   # central vertex number\n",
    "        \n",
    "        d_cv_mid = dist(polylines[line][cv_num][0], polylines[line][cv_num][1], mid_x, mid_y)\n",
    "        d_b_vert = dist(polylines[line][cv_num][0], polylines[line][cv_num][1], polylines[line][cv_num+1][0], polylines[line][cv_num+1][1])\n",
    "        mid_z = polylines[line][cv_num][2] - ((polylines[line][cv_num][2] - polylines[line][cv_num+1][2])*(d_cv_mid/d_b_vert))\n",
    "        \n",
    "        mids.append((phase, id_start, id_end, round(mid_x, 2),  round(mid_y, 2), round(mid_z, 2)))\n",
    "    mid_points.append(mids)\n"
   ]
  },
  {
   "cell_type": "code",
   "execution_count": 28,
   "metadata": {},
   "outputs": [],
   "source": [
    "import pandas as pd"
   ]
  },
  {
   "cell_type": "code",
   "execution_count": 47,
   "metadata": {},
   "outputs": [],
   "source": [
    "mp = {}\n",
    "for tab in mid_points:\n",
    "    mp[tab[0][0]] = pd.DataFrame(tab)"
   ]
  },
  {
   "cell_type": "code",
   "execution_count": null,
   "metadata": {},
   "outputs": [],
   "source": [
    "del(mid_points)"
   ]
  },
  {
   "cell_type": "code",
   "execution_count": null,
   "metadata": {},
   "outputs": [],
   "source": []
  },
  {
   "cell_type": "code",
   "execution_count": null,
   "metadata": {},
   "outputs": [],
   "source": []
  },
  {
   "cell_type": "code",
   "execution_count": null,
   "metadata": {},
   "outputs": [],
   "source": []
  },
  {
   "cell_type": "code",
   "execution_count": null,
   "metadata": {},
   "outputs": [],
   "source": []
  },
  {
   "cell_type": "code",
   "execution_count": null,
   "metadata": {},
   "outputs": [],
   "source": []
  },
  {
   "cell_type": "code",
   "execution_count": null,
   "metadata": {},
   "outputs": [],
   "source": []
  }
 ],
 "metadata": {
  "kernelspec": {
   "display_name": "Python 3",
   "language": "python",
   "name": "python3"
  },
  "language_info": {
   "codemirror_mode": {
    "name": "ipython",
    "version": 3
   },
   "file_extension": ".py",
   "mimetype": "text/x-python",
   "name": "python",
   "nbconvert_exporter": "python",
   "pygments_lexer": "ipython3",
   "version": "3.9.1"
  }
 },
 "nbformat": 4,
 "nbformat_minor": 4
}
